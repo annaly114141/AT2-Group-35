{
  "nbformat": 4,
  "nbformat_minor": 0,
  "metadata": {
    "colab": {
      "provenance": []
    },
    "kernelspec": {
      "name": "python3",
      "display_name": "Python 3"
    },
    "language_info": {
      "name": "python"
    },
    "accelerator": "TPU",
    "gpuClass": "standard"
  },
  "cells": [
    {
      "cell_type": "code",
      "execution_count": null,
      "metadata": {
        "id": "TWImqalJbCXo"
      },
      "outputs": [],
      "source": [
        "import numpy as np\n",
        "import pandas as pd\n",
        "import pickle\n",
        "import plotly.express as px"
      ]
    },
    {
      "cell_type": "markdown",
      "source": [
        "### Import Data \n",
        "Move to Colab instance for faster training and avoid quota issues with Google Drive"
      ],
      "metadata": {
        "id": "pWREYWlsoAsT"
      }
    },
    {
      "cell_type": "code",
      "source": [
        "from google.colab import drive"
      ],
      "metadata": {
        "id": "78peJW8hbHiD"
      },
      "execution_count": null,
      "outputs": []
    },
    {
      "cell_type": "code",
      "source": [
        "# Connect to Google Drive\n",
        "drive.mount('/content/gdrive')\n",
        "google_dir = '/content/gdrive/MyDrive/ANLP'"
      ],
      "metadata": {
        "colab": {
          "base_uri": "https://localhost:8080/"
        },
        "id": "LIXXQtEbbOIB",
        "outputId": "ed56de19-4eac-4e6a-c596-2b7aa4bc068d"
      },
      "execution_count": null,
      "outputs": [
        {
          "output_type": "stream",
          "name": "stdout",
          "text": [
            "Mounted at /content/gdrive\n"
          ]
        }
      ]
    },
    {
      "cell_type": "code",
      "source": [
        "# Copy data file to Colab instance to avoid quota issues with Google Drive\n",
        "# https://www.kaggle.com/datasets/snap/amazon-fine-food-reviews?resource=download (673.7 MB)\n",
        "!cp \"/content/gdrive/MyDrive/ANLP/Reviews.csv\" \"/content/\""
      ],
      "metadata": {
        "id": "7u6WD4gabPUB"
      },
      "execution_count": null,
      "outputs": []
    },
    {
      "cell_type": "code",
      "source": [
        "# Load and check data\n",
        "data = pd.read_csv(\"/content/Reviews.csv\")\n",
        "data.head()"
      ],
      "metadata": {
        "colab": {
          "base_uri": "https://localhost:8080/",
          "height": 424
        },
        "id": "h6PeM2VPbXS7",
        "outputId": "2b9ff701-7888-4bb2-e05c-3dde7ef8ea3e"
      },
      "execution_count": null,
      "outputs": [
        {
          "output_type": "execute_result",
          "data": {
            "text/plain": [
              "   Id   ProductId          UserId                      ProfileName  \\\n",
              "0   1  B001E4KFG0  A3SGXH7AUHU8GW                       delmartian   \n",
              "1   2  B00813GRG4  A1D87F6ZCVE5NK                           dll pa   \n",
              "2   3  B000LQOCH0   ABXLMWJIXXAIN  Natalia Corres \"Natalia Corres\"   \n",
              "3   4  B000UA0QIQ  A395BORC6FGVXV                             Karl   \n",
              "4   5  B006K2ZZ7K  A1UQRSCLF8GW1T    Michael D. Bigham \"M. Wassir\"   \n",
              "\n",
              "   HelpfulnessNumerator  HelpfulnessDenominator  Score        Time  \\\n",
              "0                     1                       1      5  1303862400   \n",
              "1                     0                       0      1  1346976000   \n",
              "2                     1                       1      4  1219017600   \n",
              "3                     3                       3      2  1307923200   \n",
              "4                     0                       0      5  1350777600   \n",
              "\n",
              "                 Summary                                               Text  \n",
              "0  Good Quality Dog Food  I have bought several of the Vitality canned d...  \n",
              "1      Not as Advertised  Product arrived labeled as Jumbo Salted Peanut...  \n",
              "2  \"Delight\" says it all  This is a confection that has been around a fe...  \n",
              "3         Cough Medicine  If you are looking for the secret ingredient i...  \n",
              "4            Great taffy  Great taffy at a great price.  There was a wid...  "
            ],
            "text/html": [
              "\n",
              "  <div id=\"df-8bae74f3-4aa2-4ed9-b92a-af4589558e6e\">\n",
              "    <div class=\"colab-df-container\">\n",
              "      <div>\n",
              "<style scoped>\n",
              "    .dataframe tbody tr th:only-of-type {\n",
              "        vertical-align: middle;\n",
              "    }\n",
              "\n",
              "    .dataframe tbody tr th {\n",
              "        vertical-align: top;\n",
              "    }\n",
              "\n",
              "    .dataframe thead th {\n",
              "        text-align: right;\n",
              "    }\n",
              "</style>\n",
              "<table border=\"1\" class=\"dataframe\">\n",
              "  <thead>\n",
              "    <tr style=\"text-align: right;\">\n",
              "      <th></th>\n",
              "      <th>Id</th>\n",
              "      <th>ProductId</th>\n",
              "      <th>UserId</th>\n",
              "      <th>ProfileName</th>\n",
              "      <th>HelpfulnessNumerator</th>\n",
              "      <th>HelpfulnessDenominator</th>\n",
              "      <th>Score</th>\n",
              "      <th>Time</th>\n",
              "      <th>Summary</th>\n",
              "      <th>Text</th>\n",
              "    </tr>\n",
              "  </thead>\n",
              "  <tbody>\n",
              "    <tr>\n",
              "      <th>0</th>\n",
              "      <td>1</td>\n",
              "      <td>B001E4KFG0</td>\n",
              "      <td>A3SGXH7AUHU8GW</td>\n",
              "      <td>delmartian</td>\n",
              "      <td>1</td>\n",
              "      <td>1</td>\n",
              "      <td>5</td>\n",
              "      <td>1303862400</td>\n",
              "      <td>Good Quality Dog Food</td>\n",
              "      <td>I have bought several of the Vitality canned d...</td>\n",
              "    </tr>\n",
              "    <tr>\n",
              "      <th>1</th>\n",
              "      <td>2</td>\n",
              "      <td>B00813GRG4</td>\n",
              "      <td>A1D87F6ZCVE5NK</td>\n",
              "      <td>dll pa</td>\n",
              "      <td>0</td>\n",
              "      <td>0</td>\n",
              "      <td>1</td>\n",
              "      <td>1346976000</td>\n",
              "      <td>Not as Advertised</td>\n",
              "      <td>Product arrived labeled as Jumbo Salted Peanut...</td>\n",
              "    </tr>\n",
              "    <tr>\n",
              "      <th>2</th>\n",
              "      <td>3</td>\n",
              "      <td>B000LQOCH0</td>\n",
              "      <td>ABXLMWJIXXAIN</td>\n",
              "      <td>Natalia Corres \"Natalia Corres\"</td>\n",
              "      <td>1</td>\n",
              "      <td>1</td>\n",
              "      <td>4</td>\n",
              "      <td>1219017600</td>\n",
              "      <td>\"Delight\" says it all</td>\n",
              "      <td>This is a confection that has been around a fe...</td>\n",
              "    </tr>\n",
              "    <tr>\n",
              "      <th>3</th>\n",
              "      <td>4</td>\n",
              "      <td>B000UA0QIQ</td>\n",
              "      <td>A395BORC6FGVXV</td>\n",
              "      <td>Karl</td>\n",
              "      <td>3</td>\n",
              "      <td>3</td>\n",
              "      <td>2</td>\n",
              "      <td>1307923200</td>\n",
              "      <td>Cough Medicine</td>\n",
              "      <td>If you are looking for the secret ingredient i...</td>\n",
              "    </tr>\n",
              "    <tr>\n",
              "      <th>4</th>\n",
              "      <td>5</td>\n",
              "      <td>B006K2ZZ7K</td>\n",
              "      <td>A1UQRSCLF8GW1T</td>\n",
              "      <td>Michael D. Bigham \"M. Wassir\"</td>\n",
              "      <td>0</td>\n",
              "      <td>0</td>\n",
              "      <td>5</td>\n",
              "      <td>1350777600</td>\n",
              "      <td>Great taffy</td>\n",
              "      <td>Great taffy at a great price.  There was a wid...</td>\n",
              "    </tr>\n",
              "  </tbody>\n",
              "</table>\n",
              "</div>\n",
              "      <button class=\"colab-df-convert\" onclick=\"convertToInteractive('df-8bae74f3-4aa2-4ed9-b92a-af4589558e6e')\"\n",
              "              title=\"Convert this dataframe to an interactive table.\"\n",
              "              style=\"display:none;\">\n",
              "        \n",
              "  <svg xmlns=\"http://www.w3.org/2000/svg\" height=\"24px\"viewBox=\"0 0 24 24\"\n",
              "       width=\"24px\">\n",
              "    <path d=\"M0 0h24v24H0V0z\" fill=\"none\"/>\n",
              "    <path d=\"M18.56 5.44l.94 2.06.94-2.06 2.06-.94-2.06-.94-.94-2.06-.94 2.06-2.06.94zm-11 1L8.5 8.5l.94-2.06 2.06-.94-2.06-.94L8.5 2.5l-.94 2.06-2.06.94zm10 10l.94 2.06.94-2.06 2.06-.94-2.06-.94-.94-2.06-.94 2.06-2.06.94z\"/><path d=\"M17.41 7.96l-1.37-1.37c-.4-.4-.92-.59-1.43-.59-.52 0-1.04.2-1.43.59L10.3 9.45l-7.72 7.72c-.78.78-.78 2.05 0 2.83L4 21.41c.39.39.9.59 1.41.59.51 0 1.02-.2 1.41-.59l7.78-7.78 2.81-2.81c.8-.78.8-2.07 0-2.86zM5.41 20L4 18.59l7.72-7.72 1.47 1.35L5.41 20z\"/>\n",
              "  </svg>\n",
              "      </button>\n",
              "      \n",
              "  <style>\n",
              "    .colab-df-container {\n",
              "      display:flex;\n",
              "      flex-wrap:wrap;\n",
              "      gap: 12px;\n",
              "    }\n",
              "\n",
              "    .colab-df-convert {\n",
              "      background-color: #E8F0FE;\n",
              "      border: none;\n",
              "      border-radius: 50%;\n",
              "      cursor: pointer;\n",
              "      display: none;\n",
              "      fill: #1967D2;\n",
              "      height: 32px;\n",
              "      padding: 0 0 0 0;\n",
              "      width: 32px;\n",
              "    }\n",
              "\n",
              "    .colab-df-convert:hover {\n",
              "      background-color: #E2EBFA;\n",
              "      box-shadow: 0px 1px 2px rgba(60, 64, 67, 0.3), 0px 1px 3px 1px rgba(60, 64, 67, 0.15);\n",
              "      fill: #174EA6;\n",
              "    }\n",
              "\n",
              "    [theme=dark] .colab-df-convert {\n",
              "      background-color: #3B4455;\n",
              "      fill: #D2E3FC;\n",
              "    }\n",
              "\n",
              "    [theme=dark] .colab-df-convert:hover {\n",
              "      background-color: #434B5C;\n",
              "      box-shadow: 0px 1px 3px 1px rgba(0, 0, 0, 0.15);\n",
              "      filter: drop-shadow(0px 1px 2px rgba(0, 0, 0, 0.3));\n",
              "      fill: #FFFFFF;\n",
              "    }\n",
              "  </style>\n",
              "\n",
              "      <script>\n",
              "        const buttonEl =\n",
              "          document.querySelector('#df-8bae74f3-4aa2-4ed9-b92a-af4589558e6e button.colab-df-convert');\n",
              "        buttonEl.style.display =\n",
              "          google.colab.kernel.accessAllowed ? 'block' : 'none';\n",
              "\n",
              "        async function convertToInteractive(key) {\n",
              "          const element = document.querySelector('#df-8bae74f3-4aa2-4ed9-b92a-af4589558e6e');\n",
              "          const dataTable =\n",
              "            await google.colab.kernel.invokeFunction('convertToInteractive',\n",
              "                                                     [key], {});\n",
              "          if (!dataTable) return;\n",
              "\n",
              "          const docLinkHtml = 'Like what you see? Visit the ' +\n",
              "            '<a target=\"_blank\" href=https://colab.research.google.com/notebooks/data_table.ipynb>data table notebook</a>'\n",
              "            + ' to learn more about interactive tables.';\n",
              "          element.innerHTML = '';\n",
              "          dataTable['output_type'] = 'display_data';\n",
              "          await google.colab.output.renderOutput(dataTable, element);\n",
              "          const docLink = document.createElement('div');\n",
              "          docLink.innerHTML = docLinkHtml;\n",
              "          element.appendChild(docLink);\n",
              "        }\n",
              "      </script>\n",
              "    </div>\n",
              "  </div>\n",
              "  "
            ]
          },
          "metadata": {},
          "execution_count": 6
        }
      ]
    },
    {
      "cell_type": "markdown",
      "source": [
        "### Data Prep\n",
        "Create target variable and perform NLP on dataset to prep for model training."
      ],
      "metadata": {
        "id": "b4ApbDlloR0K"
      }
    },
    {
      "cell_type": "code",
      "source": [
        "# Filter out reviews with helpfulness votes\n",
        "helpful_df = data.loc[data['HelpfulnessDenominator'] >= 10].copy()\n",
        "\n",
        "# Create Target Variable\n",
        "helpful_df['helpful_score'] = helpful_df['HelpfulnessNumerator'] / helpful_df['HelpfulnessDenominator']"
      ],
      "metadata": {
        "id": "tU06KrwUbdtZ"
      },
      "execution_count": null,
      "outputs": []
    },
    {
      "cell_type": "code",
      "source": [
        "# Convert to label for classification\n",
        "helpful_df['helpful_score'] = np.where(helpful_df['helpful_score'] >= 0.8, 1, 0)\n",
        "helpful_df.head()"
      ],
      "metadata": {
        "colab": {
          "base_uri": "https://localhost:8080/",
          "height": 652
        },
        "id": "rQbSlmcibgXu",
        "outputId": "76cb36db-ee0b-4286-a3f0-1cd8d5f0d406"
      },
      "execution_count": null,
      "outputs": [
        {
          "output_type": "execute_result",
          "data": {
            "text/plain": [
              "      Id   ProductId          UserId                           ProfileName  \\\n",
              "32    33  B001EO5QW8   AOVROBZ8BNTP7                             S. Potter   \n",
              "33    34  B001EO5QW8  A3PMM0NFVEJGK9              Megan \"Bad at Nicknames\"   \n",
              "82    83  B003ZFRKGO  A2VOZX7YBT0D6D             Johnnycakes \"Johnnycakes\"   \n",
              "158  159  B000ITVLE2  A3NID9D9WMIV01            Louie Arrighi \"Lou da Joo\"   \n",
              "213  214  B0009XLVGA  A1NHQNQ3TVXTZF  Desert Girl \"chrissylovesherhusband\"   \n",
              "\n",
              "     HelpfulnessNumerator  HelpfulnessDenominator  Score        Time  \\\n",
              "32                     19                      19      4  1163376000   \n",
              "33                     13                      13      4  1166313600   \n",
              "82                     15                      15      5  1325635200   \n",
              "158                    17                      19      5  1260057600   \n",
              "213                     3                      10      1  1220227200   \n",
              "\n",
              "                                               Summary  \\\n",
              "32                        Best of the Instant Oatmeals   \n",
              "33                                        Good Instant   \n",
              "82   Forget Molecular Gastronomy - this stuff rocke...   \n",
              "158                                  tastes very fresh   \n",
              "213                CHANGED FORMULA MAKES CATS SICK!!!!   \n",
              "\n",
              "                                                  Text  helpful_score  \n",
              "32   McCann's Instant Oatmeal is great if you must ...              1  \n",
              "33   This is a good instant oatmeal from the best o...              1  \n",
              "82   I know the product title says Molecular Gastro...              1  \n",
              "158  <span class=\"tiny\"> Length:: 0:26 Mins<br /><b...              1  \n",
              "213  As with canidae, Felidae has also changed thei...              0  "
            ],
            "text/html": [
              "\n",
              "  <div id=\"df-e33467cb-af34-4514-8f02-f88cc5b16f7a\">\n",
              "    <div class=\"colab-df-container\">\n",
              "      <div>\n",
              "<style scoped>\n",
              "    .dataframe tbody tr th:only-of-type {\n",
              "        vertical-align: middle;\n",
              "    }\n",
              "\n",
              "    .dataframe tbody tr th {\n",
              "        vertical-align: top;\n",
              "    }\n",
              "\n",
              "    .dataframe thead th {\n",
              "        text-align: right;\n",
              "    }\n",
              "</style>\n",
              "<table border=\"1\" class=\"dataframe\">\n",
              "  <thead>\n",
              "    <tr style=\"text-align: right;\">\n",
              "      <th></th>\n",
              "      <th>Id</th>\n",
              "      <th>ProductId</th>\n",
              "      <th>UserId</th>\n",
              "      <th>ProfileName</th>\n",
              "      <th>HelpfulnessNumerator</th>\n",
              "      <th>HelpfulnessDenominator</th>\n",
              "      <th>Score</th>\n",
              "      <th>Time</th>\n",
              "      <th>Summary</th>\n",
              "      <th>Text</th>\n",
              "      <th>helpful_score</th>\n",
              "    </tr>\n",
              "  </thead>\n",
              "  <tbody>\n",
              "    <tr>\n",
              "      <th>32</th>\n",
              "      <td>33</td>\n",
              "      <td>B001EO5QW8</td>\n",
              "      <td>AOVROBZ8BNTP7</td>\n",
              "      <td>S. Potter</td>\n",
              "      <td>19</td>\n",
              "      <td>19</td>\n",
              "      <td>4</td>\n",
              "      <td>1163376000</td>\n",
              "      <td>Best of the Instant Oatmeals</td>\n",
              "      <td>McCann's Instant Oatmeal is great if you must ...</td>\n",
              "      <td>1</td>\n",
              "    </tr>\n",
              "    <tr>\n",
              "      <th>33</th>\n",
              "      <td>34</td>\n",
              "      <td>B001EO5QW8</td>\n",
              "      <td>A3PMM0NFVEJGK9</td>\n",
              "      <td>Megan \"Bad at Nicknames\"</td>\n",
              "      <td>13</td>\n",
              "      <td>13</td>\n",
              "      <td>4</td>\n",
              "      <td>1166313600</td>\n",
              "      <td>Good Instant</td>\n",
              "      <td>This is a good instant oatmeal from the best o...</td>\n",
              "      <td>1</td>\n",
              "    </tr>\n",
              "    <tr>\n",
              "      <th>82</th>\n",
              "      <td>83</td>\n",
              "      <td>B003ZFRKGO</td>\n",
              "      <td>A2VOZX7YBT0D6D</td>\n",
              "      <td>Johnnycakes \"Johnnycakes\"</td>\n",
              "      <td>15</td>\n",
              "      <td>15</td>\n",
              "      <td>5</td>\n",
              "      <td>1325635200</td>\n",
              "      <td>Forget Molecular Gastronomy - this stuff rocke...</td>\n",
              "      <td>I know the product title says Molecular Gastro...</td>\n",
              "      <td>1</td>\n",
              "    </tr>\n",
              "    <tr>\n",
              "      <th>158</th>\n",
              "      <td>159</td>\n",
              "      <td>B000ITVLE2</td>\n",
              "      <td>A3NID9D9WMIV01</td>\n",
              "      <td>Louie Arrighi \"Lou da Joo\"</td>\n",
              "      <td>17</td>\n",
              "      <td>19</td>\n",
              "      <td>5</td>\n",
              "      <td>1260057600</td>\n",
              "      <td>tastes very fresh</td>\n",
              "      <td>&lt;span class=\"tiny\"&gt; Length:: 0:26 Mins&lt;br /&gt;&lt;b...</td>\n",
              "      <td>1</td>\n",
              "    </tr>\n",
              "    <tr>\n",
              "      <th>213</th>\n",
              "      <td>214</td>\n",
              "      <td>B0009XLVGA</td>\n",
              "      <td>A1NHQNQ3TVXTZF</td>\n",
              "      <td>Desert Girl \"chrissylovesherhusband\"</td>\n",
              "      <td>3</td>\n",
              "      <td>10</td>\n",
              "      <td>1</td>\n",
              "      <td>1220227200</td>\n",
              "      <td>CHANGED FORMULA MAKES CATS SICK!!!!</td>\n",
              "      <td>As with canidae, Felidae has also changed thei...</td>\n",
              "      <td>0</td>\n",
              "    </tr>\n",
              "  </tbody>\n",
              "</table>\n",
              "</div>\n",
              "      <button class=\"colab-df-convert\" onclick=\"convertToInteractive('df-e33467cb-af34-4514-8f02-f88cc5b16f7a')\"\n",
              "              title=\"Convert this dataframe to an interactive table.\"\n",
              "              style=\"display:none;\">\n",
              "        \n",
              "  <svg xmlns=\"http://www.w3.org/2000/svg\" height=\"24px\"viewBox=\"0 0 24 24\"\n",
              "       width=\"24px\">\n",
              "    <path d=\"M0 0h24v24H0V0z\" fill=\"none\"/>\n",
              "    <path d=\"M18.56 5.44l.94 2.06.94-2.06 2.06-.94-2.06-.94-.94-2.06-.94 2.06-2.06.94zm-11 1L8.5 8.5l.94-2.06 2.06-.94-2.06-.94L8.5 2.5l-.94 2.06-2.06.94zm10 10l.94 2.06.94-2.06 2.06-.94-2.06-.94-.94-2.06-.94 2.06-2.06.94z\"/><path d=\"M17.41 7.96l-1.37-1.37c-.4-.4-.92-.59-1.43-.59-.52 0-1.04.2-1.43.59L10.3 9.45l-7.72 7.72c-.78.78-.78 2.05 0 2.83L4 21.41c.39.39.9.59 1.41.59.51 0 1.02-.2 1.41-.59l7.78-7.78 2.81-2.81c.8-.78.8-2.07 0-2.86zM5.41 20L4 18.59l7.72-7.72 1.47 1.35L5.41 20z\"/>\n",
              "  </svg>\n",
              "      </button>\n",
              "      \n",
              "  <style>\n",
              "    .colab-df-container {\n",
              "      display:flex;\n",
              "      flex-wrap:wrap;\n",
              "      gap: 12px;\n",
              "    }\n",
              "\n",
              "    .colab-df-convert {\n",
              "      background-color: #E8F0FE;\n",
              "      border: none;\n",
              "      border-radius: 50%;\n",
              "      cursor: pointer;\n",
              "      display: none;\n",
              "      fill: #1967D2;\n",
              "      height: 32px;\n",
              "      padding: 0 0 0 0;\n",
              "      width: 32px;\n",
              "    }\n",
              "\n",
              "    .colab-df-convert:hover {\n",
              "      background-color: #E2EBFA;\n",
              "      box-shadow: 0px 1px 2px rgba(60, 64, 67, 0.3), 0px 1px 3px 1px rgba(60, 64, 67, 0.15);\n",
              "      fill: #174EA6;\n",
              "    }\n",
              "\n",
              "    [theme=dark] .colab-df-convert {\n",
              "      background-color: #3B4455;\n",
              "      fill: #D2E3FC;\n",
              "    }\n",
              "\n",
              "    [theme=dark] .colab-df-convert:hover {\n",
              "      background-color: #434B5C;\n",
              "      box-shadow: 0px 1px 3px 1px rgba(0, 0, 0, 0.15);\n",
              "      filter: drop-shadow(0px 1px 2px rgba(0, 0, 0, 0.3));\n",
              "      fill: #FFFFFF;\n",
              "    }\n",
              "  </style>\n",
              "\n",
              "      <script>\n",
              "        const buttonEl =\n",
              "          document.querySelector('#df-e33467cb-af34-4514-8f02-f88cc5b16f7a button.colab-df-convert');\n",
              "        buttonEl.style.display =\n",
              "          google.colab.kernel.accessAllowed ? 'block' : 'none';\n",
              "\n",
              "        async function convertToInteractive(key) {\n",
              "          const element = document.querySelector('#df-e33467cb-af34-4514-8f02-f88cc5b16f7a');\n",
              "          const dataTable =\n",
              "            await google.colab.kernel.invokeFunction('convertToInteractive',\n",
              "                                                     [key], {});\n",
              "          if (!dataTable) return;\n",
              "\n",
              "          const docLinkHtml = 'Like what you see? Visit the ' +\n",
              "            '<a target=\"_blank\" href=https://colab.research.google.com/notebooks/data_table.ipynb>data table notebook</a>'\n",
              "            + ' to learn more about interactive tables.';\n",
              "          element.innerHTML = '';\n",
              "          dataTable['output_type'] = 'display_data';\n",
              "          await google.colab.output.renderOutput(dataTable, element);\n",
              "          const docLink = document.createElement('div');\n",
              "          docLink.innerHTML = docLinkHtml;\n",
              "          element.appendChild(docLink);\n",
              "        }\n",
              "      </script>\n",
              "    </div>\n",
              "  </div>\n",
              "  "
            ]
          },
          "metadata": {},
          "execution_count": 45
        }
      ]
    },
    {
      "cell_type": "code",
      "source": [
        "import spacy\n",
        "import spacy.cli"
      ],
      "metadata": {
        "id": "IaTWrZvDbsDI"
      },
      "execution_count": null,
      "outputs": []
    },
    {
      "cell_type": "code",
      "source": [
        "# Using the large model over the standard version to get vectors. Requires additional install.\n",
        "spacy.cli.download(\"en_core_web_lg\")\n",
        "nlp = spacy.load(\"en_core_web_lg\")"
      ],
      "metadata": {
        "colab": {
          "base_uri": "https://localhost:8080/"
        },
        "id": "Zil__uK2bxbd",
        "outputId": "b0d18b76-7d78-4541-cc3b-f8951125be6d"
      },
      "execution_count": null,
      "outputs": [
        {
          "output_type": "stream",
          "name": "stdout",
          "text": [
            "\u001b[38;5;2m✔ Download and installation successful\u001b[0m\n",
            "You can now load the package via spacy.load('en_core_web_lg')\n"
          ]
        }
      ]
    },
    {
      "cell_type": "code",
      "source": [
        "# Apply spacy's nlp function to text. \n",
        "# Run time: approx. 15mins \n",
        "helpful_df['nlp'] = helpful_df['Text'].apply(nlp)"
      ],
      "metadata": {
        "id": "7VvPmB_5b1dx"
      },
      "execution_count": null,
      "outputs": []
    },
    {
      "cell_type": "code",
      "source": [
        "# Calculate static features"
      ],
      "metadata": {
        "id": "nmUFBxUohlgU"
      },
      "execution_count": null,
      "outputs": []
    },
    {
      "cell_type": "code",
      "source": [
        "# Remove unused columns to free up memory \n",
        "helpful_df = helpful_df[['Text', 'helpful_score', 'nlp']]\n",
        "\n",
        "# Counting stats\n",
        "helpful_df['sentences'] = helpful_df['nlp'].apply(lambda x: [sent for sent in x.sents])\n",
        "helpful_df['num_sent'] = helpful_df['sentences'].apply(len)\n",
        "helpful_df['max_sent_len'] = helpful_df['sentences'].apply(lambda x: max([len(sent) for sent in x]))\n",
        "helpful_df['mean_sent_len'] = helpful_df['sentences'].apply(lambda x: np.mean([len(sent) for sent in x]))\n",
        "\n",
        "# Entity names\n",
        "helpful_df['ner'] = helpful_df['nlp'].apply(lambda x: [x for x in x.ents])\n",
        "helpful_df['ner_len'] = helpful_df['ner'].apply(len)"
      ],
      "metadata": {
        "id": "GDSpRB1FhlYW"
      },
      "execution_count": null,
      "outputs": []
    },
    {
      "cell_type": "code",
      "source": [
        "helpful_df[['num_sent', 'max_sent_len', 'mean_sent_len', 'ner_len']].to_csv('/content/gdrive/MyDrive/models/summary_stats.csv')"
      ],
      "metadata": {
        "id": "w8weWY9ZhlMO"
      },
      "execution_count": null,
      "outputs": []
    },
    {
      "cell_type": "markdown",
      "source": [
        "Apply text cleaning and reprocess nlp function"
      ],
      "metadata": {
        "id": "pcOGfJnZhX_q"
      }
    },
    {
      "cell_type": "code",
      "source": [
        "!pip install contractions"
      ],
      "metadata": {
        "colab": {
          "base_uri": "https://localhost:8080/"
        },
        "id": "oWeOIP7SHdbV",
        "outputId": "503283b7-b808-4e0e-dd3e-f2fc1670e22f"
      },
      "execution_count": null,
      "outputs": [
        {
          "output_type": "stream",
          "name": "stdout",
          "text": [
            "Looking in indexes: https://pypi.org/simple, https://us-python.pkg.dev/colab-wheels/public/simple/\n",
            "Collecting contractions\n",
            "  Downloading contractions-0.1.73-py2.py3-none-any.whl (8.7 kB)\n",
            "Collecting textsearch>=0.0.21\n",
            "  Downloading textsearch-0.0.24-py2.py3-none-any.whl (7.6 kB)\n",
            "Collecting anyascii\n",
            "  Downloading anyascii-0.3.2-py3-none-any.whl (289 kB)\n",
            "\u001b[2K     \u001b[90m━━━━━━━━━━━━━━━━━━━━━━━━━━━━━━━━━━━━━━━\u001b[0m \u001b[32m289.9/289.9 kB\u001b[0m \u001b[31m7.3 MB/s\u001b[0m eta \u001b[36m0:00:00\u001b[0m\n",
            "\u001b[?25hCollecting pyahocorasick\n",
            "  Downloading pyahocorasick-2.0.0-cp310-cp310-manylinux_2_5_x86_64.manylinux1_x86_64.manylinux_2_12_x86_64.manylinux2010_x86_64.whl (110 kB)\n",
            "\u001b[2K     \u001b[90m━━━━━━━━━━━━━━━━━━━━━━━━━━━━━━━━━━━━━━\u001b[0m \u001b[32m110.8/110.8 kB\u001b[0m \u001b[31m11.9 MB/s\u001b[0m eta \u001b[36m0:00:00\u001b[0m\n",
            "\u001b[?25hInstalling collected packages: pyahocorasick, anyascii, textsearch, contractions\n",
            "Successfully installed anyascii-0.3.2 contractions-0.1.73 pyahocorasick-2.0.0 textsearch-0.0.24\n"
          ]
        }
      ]
    },
    {
      "cell_type": "code",
      "source": [
        "import contractions"
      ],
      "metadata": {
        "id": "sCfYchqrHjhd"
      },
      "execution_count": null,
      "outputs": []
    },
    {
      "cell_type": "code",
      "source": [
        "# Adjust contractions such as can't, don't, etc.\n",
        "helpful_df['Text'] = helpful_df['Text'].apply(contractions.fix)\n",
        "\n",
        "# Remove html tags\n",
        "helpful_df['Text'] = helpful_df['Text'].str.replace(r'<[^>]+>', '', regex=True)\n",
        "\n",
        "# Remove numbers\n",
        "helpful_df['Text'] = helpful_df['Text'].str.replace(r'[0-9]+', '', regex=True)\n",
        "\n",
        "# Remove punctuation\n",
        "helpful_df['Text'] = helpful_df['Text'].str.replace(r'[^\\w\\s]', '', regex=True)\n",
        "\n",
        "# Lower case\n",
        "helpful_df['Text'] = helpful_df['Text'].str.lower()"
      ],
      "metadata": {
        "colab": {
          "base_uri": "https://localhost:8080/"
        },
        "id": "xOBk0ym8HKz2",
        "outputId": "42896728-4515-41d1-cfdd-9f5ea6c722c3"
      },
      "execution_count": null,
      "outputs": [
        {
          "output_type": "execute_result",
          "data": {
            "text/plain": [
              "32        mccanns instant oatmeal is great if you must h...\n",
              "33        this is a good instant oatmeal from the best o...\n",
              "82        i know the product title says molecular gastro...\n",
              "158        length  minsthe expiration date is  months fr...\n",
              "213       as with canidae felidae has also changed their...\n",
              "                                ...                        \n",
              "568253    i bought them at shoprite at  for a box of  it...\n",
              "568274    i have tried this in many different recipes al...\n",
              "568275    stevia in the raw contains saccharine which is...\n",
              "568324    fiber one bars actually do not have real fiber...\n",
              "568436    in the past i would have to buy a large quanti...\n",
              "Name: Text, Length: 24982, dtype: object"
            ]
          },
          "metadata": {},
          "execution_count": 13
        }
      ]
    },
    {
      "cell_type": "code",
      "source": [
        "# lemmatise and remove stop words, then reprocess new column\n",
        "# Run time: approx. 8mins\n",
        "helpful_df['Text'] = helpful_df['nlp'].apply(lambda x: [y.lemma_ for y in x if not y.is_stop])\n",
        "helpful_df['Text'] = helpful_df['Text'].apply(' '.join)\n",
        "helpful_df['nlp'] = helpful_df['Text'].apply(nlp)"
      ],
      "metadata": {
        "id": "l6Y95tKQPG5y"
      },
      "execution_count": null,
      "outputs": []
    },
    {
      "cell_type": "code",
      "source": [
        "# Create dataframe of vectorised text.\n",
        "vectors = helpful_df['nlp'].apply(lambda x: x.vector)\n",
        "vec_df = vectors.apply(pd.Series)\n",
        "vec_df.head()"
      ],
      "metadata": {
        "colab": {
          "base_uri": "https://localhost:8080/",
          "height": 300
        },
        "id": "y8Fs7yByb4th",
        "outputId": "827f00c7-ba00-4587-f7e4-e6a0a4480ee4"
      },
      "execution_count": null,
      "outputs": [
        {
          "output_type": "execute_result",
          "data": {
            "text/plain": [
              "          0         1         2         3         4         5         6    \\\n",
              "32  -0.256815  0.060683 -2.069701  0.757334  1.099756 -1.270127  0.917903   \n",
              "33  -0.465704 -0.733475 -1.507612  1.216777  1.740806 -1.838485  1.055258   \n",
              "82   0.141113 -0.157288 -1.793722  0.701365  0.728796 -1.902817  1.025491   \n",
              "158 -0.702020  0.134103 -1.572412 -0.338322  1.705769 -0.515772  1.138944   \n",
              "213  0.537929  0.563375 -2.533133 -1.176048  0.799180 -0.355862  0.083754   \n",
              "\n",
              "          7         8         9    ...       290       291       292  \\\n",
              "32   2.407686 -2.804638  0.732963  ...  0.268859 -1.600913  1.279289   \n",
              "33   2.889776 -2.573060  0.827688  ...  0.284785 -1.819242  1.286407   \n",
              "82   2.490789 -2.810584  1.188342  ...  0.584325 -1.389941  1.073023   \n",
              "158  2.372710 -2.839762 -0.145853  ...  0.864681 -0.538355  0.685544   \n",
              "213  1.993065 -1.910131  1.347824  ...  1.342178 -0.991235  1.538022   \n",
              "\n",
              "          293       294       295       296       297       298       299  \n",
              "32  -1.303695 -1.816494 -1.120166  0.474976  0.028845 -1.348039  0.142843  \n",
              "33  -1.888366 -1.710316 -0.563213  1.178225  0.411050 -1.677812  0.272364  \n",
              "82  -1.305877 -2.483030 -1.378824  1.083406  0.712139 -1.522426  0.211829  \n",
              "158 -0.185533 -1.911671  0.050855  1.822124 -1.355930 -1.836877 -0.296239  \n",
              "213 -1.189864 -2.087963 -1.670366 -0.491525  0.559250 -2.313208  1.092412  \n",
              "\n",
              "[5 rows x 300 columns]"
            ],
            "text/html": [
              "\n",
              "  <div id=\"df-1ee2cf4e-5dbb-4b6c-98ed-6743cd7ef754\">\n",
              "    <div class=\"colab-df-container\">\n",
              "      <div>\n",
              "<style scoped>\n",
              "    .dataframe tbody tr th:only-of-type {\n",
              "        vertical-align: middle;\n",
              "    }\n",
              "\n",
              "    .dataframe tbody tr th {\n",
              "        vertical-align: top;\n",
              "    }\n",
              "\n",
              "    .dataframe thead th {\n",
              "        text-align: right;\n",
              "    }\n",
              "</style>\n",
              "<table border=\"1\" class=\"dataframe\">\n",
              "  <thead>\n",
              "    <tr style=\"text-align: right;\">\n",
              "      <th></th>\n",
              "      <th>0</th>\n",
              "      <th>1</th>\n",
              "      <th>2</th>\n",
              "      <th>3</th>\n",
              "      <th>4</th>\n",
              "      <th>5</th>\n",
              "      <th>6</th>\n",
              "      <th>7</th>\n",
              "      <th>8</th>\n",
              "      <th>9</th>\n",
              "      <th>...</th>\n",
              "      <th>290</th>\n",
              "      <th>291</th>\n",
              "      <th>292</th>\n",
              "      <th>293</th>\n",
              "      <th>294</th>\n",
              "      <th>295</th>\n",
              "      <th>296</th>\n",
              "      <th>297</th>\n",
              "      <th>298</th>\n",
              "      <th>299</th>\n",
              "    </tr>\n",
              "  </thead>\n",
              "  <tbody>\n",
              "    <tr>\n",
              "      <th>32</th>\n",
              "      <td>-0.256815</td>\n",
              "      <td>0.060683</td>\n",
              "      <td>-2.069701</td>\n",
              "      <td>0.757334</td>\n",
              "      <td>1.099756</td>\n",
              "      <td>-1.270127</td>\n",
              "      <td>0.917903</td>\n",
              "      <td>2.407686</td>\n",
              "      <td>-2.804638</td>\n",
              "      <td>0.732963</td>\n",
              "      <td>...</td>\n",
              "      <td>0.268859</td>\n",
              "      <td>-1.600913</td>\n",
              "      <td>1.279289</td>\n",
              "      <td>-1.303695</td>\n",
              "      <td>-1.816494</td>\n",
              "      <td>-1.120166</td>\n",
              "      <td>0.474976</td>\n",
              "      <td>0.028845</td>\n",
              "      <td>-1.348039</td>\n",
              "      <td>0.142843</td>\n",
              "    </tr>\n",
              "    <tr>\n",
              "      <th>33</th>\n",
              "      <td>-0.465704</td>\n",
              "      <td>-0.733475</td>\n",
              "      <td>-1.507612</td>\n",
              "      <td>1.216777</td>\n",
              "      <td>1.740806</td>\n",
              "      <td>-1.838485</td>\n",
              "      <td>1.055258</td>\n",
              "      <td>2.889776</td>\n",
              "      <td>-2.573060</td>\n",
              "      <td>0.827688</td>\n",
              "      <td>...</td>\n",
              "      <td>0.284785</td>\n",
              "      <td>-1.819242</td>\n",
              "      <td>1.286407</td>\n",
              "      <td>-1.888366</td>\n",
              "      <td>-1.710316</td>\n",
              "      <td>-0.563213</td>\n",
              "      <td>1.178225</td>\n",
              "      <td>0.411050</td>\n",
              "      <td>-1.677812</td>\n",
              "      <td>0.272364</td>\n",
              "    </tr>\n",
              "    <tr>\n",
              "      <th>82</th>\n",
              "      <td>0.141113</td>\n",
              "      <td>-0.157288</td>\n",
              "      <td>-1.793722</td>\n",
              "      <td>0.701365</td>\n",
              "      <td>0.728796</td>\n",
              "      <td>-1.902817</td>\n",
              "      <td>1.025491</td>\n",
              "      <td>2.490789</td>\n",
              "      <td>-2.810584</td>\n",
              "      <td>1.188342</td>\n",
              "      <td>...</td>\n",
              "      <td>0.584325</td>\n",
              "      <td>-1.389941</td>\n",
              "      <td>1.073023</td>\n",
              "      <td>-1.305877</td>\n",
              "      <td>-2.483030</td>\n",
              "      <td>-1.378824</td>\n",
              "      <td>1.083406</td>\n",
              "      <td>0.712139</td>\n",
              "      <td>-1.522426</td>\n",
              "      <td>0.211829</td>\n",
              "    </tr>\n",
              "    <tr>\n",
              "      <th>158</th>\n",
              "      <td>-0.702020</td>\n",
              "      <td>0.134103</td>\n",
              "      <td>-1.572412</td>\n",
              "      <td>-0.338322</td>\n",
              "      <td>1.705769</td>\n",
              "      <td>-0.515772</td>\n",
              "      <td>1.138944</td>\n",
              "      <td>2.372710</td>\n",
              "      <td>-2.839762</td>\n",
              "      <td>-0.145853</td>\n",
              "      <td>...</td>\n",
              "      <td>0.864681</td>\n",
              "      <td>-0.538355</td>\n",
              "      <td>0.685544</td>\n",
              "      <td>-0.185533</td>\n",
              "      <td>-1.911671</td>\n",
              "      <td>0.050855</td>\n",
              "      <td>1.822124</td>\n",
              "      <td>-1.355930</td>\n",
              "      <td>-1.836877</td>\n",
              "      <td>-0.296239</td>\n",
              "    </tr>\n",
              "    <tr>\n",
              "      <th>213</th>\n",
              "      <td>0.537929</td>\n",
              "      <td>0.563375</td>\n",
              "      <td>-2.533133</td>\n",
              "      <td>-1.176048</td>\n",
              "      <td>0.799180</td>\n",
              "      <td>-0.355862</td>\n",
              "      <td>0.083754</td>\n",
              "      <td>1.993065</td>\n",
              "      <td>-1.910131</td>\n",
              "      <td>1.347824</td>\n",
              "      <td>...</td>\n",
              "      <td>1.342178</td>\n",
              "      <td>-0.991235</td>\n",
              "      <td>1.538022</td>\n",
              "      <td>-1.189864</td>\n",
              "      <td>-2.087963</td>\n",
              "      <td>-1.670366</td>\n",
              "      <td>-0.491525</td>\n",
              "      <td>0.559250</td>\n",
              "      <td>-2.313208</td>\n",
              "      <td>1.092412</td>\n",
              "    </tr>\n",
              "  </tbody>\n",
              "</table>\n",
              "<p>5 rows × 300 columns</p>\n",
              "</div>\n",
              "      <button class=\"colab-df-convert\" onclick=\"convertToInteractive('df-1ee2cf4e-5dbb-4b6c-98ed-6743cd7ef754')\"\n",
              "              title=\"Convert this dataframe to an interactive table.\"\n",
              "              style=\"display:none;\">\n",
              "        \n",
              "  <svg xmlns=\"http://www.w3.org/2000/svg\" height=\"24px\"viewBox=\"0 0 24 24\"\n",
              "       width=\"24px\">\n",
              "    <path d=\"M0 0h24v24H0V0z\" fill=\"none\"/>\n",
              "    <path d=\"M18.56 5.44l.94 2.06.94-2.06 2.06-.94-2.06-.94-.94-2.06-.94 2.06-2.06.94zm-11 1L8.5 8.5l.94-2.06 2.06-.94-2.06-.94L8.5 2.5l-.94 2.06-2.06.94zm10 10l.94 2.06.94-2.06 2.06-.94-2.06-.94-.94-2.06-.94 2.06-2.06.94z\"/><path d=\"M17.41 7.96l-1.37-1.37c-.4-.4-.92-.59-1.43-.59-.52 0-1.04.2-1.43.59L10.3 9.45l-7.72 7.72c-.78.78-.78 2.05 0 2.83L4 21.41c.39.39.9.59 1.41.59.51 0 1.02-.2 1.41-.59l7.78-7.78 2.81-2.81c.8-.78.8-2.07 0-2.86zM5.41 20L4 18.59l7.72-7.72 1.47 1.35L5.41 20z\"/>\n",
              "  </svg>\n",
              "      </button>\n",
              "      \n",
              "  <style>\n",
              "    .colab-df-container {\n",
              "      display:flex;\n",
              "      flex-wrap:wrap;\n",
              "      gap: 12px;\n",
              "    }\n",
              "\n",
              "    .colab-df-convert {\n",
              "      background-color: #E8F0FE;\n",
              "      border: none;\n",
              "      border-radius: 50%;\n",
              "      cursor: pointer;\n",
              "      display: none;\n",
              "      fill: #1967D2;\n",
              "      height: 32px;\n",
              "      padding: 0 0 0 0;\n",
              "      width: 32px;\n",
              "    }\n",
              "\n",
              "    .colab-df-convert:hover {\n",
              "      background-color: #E2EBFA;\n",
              "      box-shadow: 0px 1px 2px rgba(60, 64, 67, 0.3), 0px 1px 3px 1px rgba(60, 64, 67, 0.15);\n",
              "      fill: #174EA6;\n",
              "    }\n",
              "\n",
              "    [theme=dark] .colab-df-convert {\n",
              "      background-color: #3B4455;\n",
              "      fill: #D2E3FC;\n",
              "    }\n",
              "\n",
              "    [theme=dark] .colab-df-convert:hover {\n",
              "      background-color: #434B5C;\n",
              "      box-shadow: 0px 1px 3px 1px rgba(0, 0, 0, 0.15);\n",
              "      filter: drop-shadow(0px 1px 2px rgba(0, 0, 0, 0.3));\n",
              "      fill: #FFFFFF;\n",
              "    }\n",
              "  </style>\n",
              "\n",
              "      <script>\n",
              "        const buttonEl =\n",
              "          document.querySelector('#df-1ee2cf4e-5dbb-4b6c-98ed-6743cd7ef754 button.colab-df-convert');\n",
              "        buttonEl.style.display =\n",
              "          google.colab.kernel.accessAllowed ? 'block' : 'none';\n",
              "\n",
              "        async function convertToInteractive(key) {\n",
              "          const element = document.querySelector('#df-1ee2cf4e-5dbb-4b6c-98ed-6743cd7ef754');\n",
              "          const dataTable =\n",
              "            await google.colab.kernel.invokeFunction('convertToInteractive',\n",
              "                                                     [key], {});\n",
              "          if (!dataTable) return;\n",
              "\n",
              "          const docLinkHtml = 'Like what you see? Visit the ' +\n",
              "            '<a target=\"_blank\" href=https://colab.research.google.com/notebooks/data_table.ipynb>data table notebook</a>'\n",
              "            + ' to learn more about interactive tables.';\n",
              "          element.innerHTML = '';\n",
              "          dataTable['output_type'] = 'display_data';\n",
              "          await google.colab.output.renderOutput(dataTable, element);\n",
              "          const docLink = document.createElement('div');\n",
              "          docLink.innerHTML = docLinkHtml;\n",
              "          element.appendChild(docLink);\n",
              "        }\n",
              "      </script>\n",
              "    </div>\n",
              "  </div>\n",
              "  "
            ]
          },
          "metadata": {},
          "execution_count": 22
        }
      ]
    },
    {
      "cell_type": "markdown",
      "source": [
        "Save down processed file to avoid retraining"
      ],
      "metadata": {
        "id": "UOz0uZnEnjOc"
      }
    },
    {
      "cell_type": "code",
      "source": [
        "# Warning: NLP processed dataframe size is approx. 1.4G \n",
        "with open('/content/gdrive/MyDrive/models/nlp_df_pro.pickle', 'wb') as handle:\n",
        "    pickle.dump(helpful_df, handle, protocol=pickle.HIGHEST_PROTOCOL)\n",
        "\n",
        "with open('/content/gdrive/MyDrive/models/vectors_pro.pickle', 'wb') as handle:\n",
        "    pickle.dump(vec_df, handle, protocol=pickle.HIGHEST_PROTOCOL)"
      ],
      "metadata": {
        "id": "Up_a-fbznAzi"
      },
      "execution_count": null,
      "outputs": []
    },
    {
      "cell_type": "code",
      "source": [
        "with open('/content/gdrive/MyDrive/models/nlp_df_pro.pickle', 'rb') as handle:\n",
        "    helpful_df = pickle.load(handle)\n",
        "\n",
        "with open('/content/gdrive/MyDrive/models/vectors_pro.pickle', 'rb') as handle:\n",
        "    vec_df = pickle.load(handle)"
      ],
      "metadata": {
        "id": "W9k36NDjnNF2"
      },
      "execution_count": null,
      "outputs": []
    },
    {
      "cell_type": "markdown",
      "source": [
        "### Modeling\n",
        "Prepare training data and configure TPU for training. Requires Colab Pro, bidirectional models are too large to run on CPU (+10hrs run time). "
      ],
      "metadata": {
        "id": "AfWcDd0Wogqe"
      }
    },
    {
      "cell_type": "code",
      "source": [
        "# Set up TPU for training\n",
        "import tensorflow as tf"
      ],
      "metadata": {
        "id": "aER2iaB_b7tn"
      },
      "execution_count": null,
      "outputs": []
    },
    {
      "cell_type": "code",
      "source": [
        "tpu = tf.distribute.cluster_resolver.TPUClusterResolver()  \n",
        "print('Running on TPU ', tpu.cluster_spec().as_dict()['worker'])\n",
        "\n",
        "tf.config.experimental_connect_to_cluster(tpu)\n",
        "tf.tpu.experimental.initialize_tpu_system(tpu)\n",
        "tpu_strategy = tf.distribute.TPUStrategy(tpu)"
      ],
      "metadata": {
        "colab": {
          "base_uri": "https://localhost:8080/"
        },
        "id": "uWotxfuvb_N9",
        "outputId": "9d14a6bc-63f3-47a4-a293-65e3abe0707c"
      },
      "execution_count": null,
      "outputs": [
        {
          "output_type": "stream",
          "name": "stdout",
          "text": [
            "Running on TPU  ['10.46.212.178:8470']\n"
          ]
        }
      ]
    },
    {
      "cell_type": "code",
      "source": [
        "from sklearn.model_selection import train_test_split"
      ],
      "metadata": {
        "id": "pifh0Eb7cAyf"
      },
      "execution_count": null,
      "outputs": []
    },
    {
      "cell_type": "code",
      "source": [
        "# Split data\n",
        "test_size = 0.1\n",
        "X_train, X_test, y_train, y_test = train_test_split(vec_df, helpful_df['helpful_score'], test_size=test_size/(1 - test_size), random_state=99)\n",
        "\n",
        "X_train, X_val, y_train, y_val = train_test_split(vec_df, helpful_df['helpful_score'], test_size=test_size/(1 - test_size), random_state=99)"
      ],
      "metadata": {
        "id": "yXbczK-hcFgb"
      },
      "execution_count": null,
      "outputs": []
    },
    {
      "cell_type": "markdown",
      "source": [
        "Bidirectional GRU Model"
      ],
      "metadata": {
        "id": "60Ng83K6_38r"
      }
    },
    {
      "cell_type": "code",
      "source": [
        "from tensorflow.keras.layers import add, Bidirectional, concatenate, Dense, Dropout, GlobalAveragePooling1D, GRU, Input\n",
        "from tensorflow.keras.models import Sequential, load_model, Model\n",
        "from sklearn.metrics import confusion_matrix"
      ],
      "metadata": {
        "id": "TPNR6RUhcHaJ"
      },
      "execution_count": null,
      "outputs": []
    },
    {
      "cell_type": "code",
      "source": [
        "# Create BiGRU model\n",
        "\n",
        "# Parameters\n",
        "optimizer_bigru = tf.keras.optimizers.Adam(learning_rate=0.001)\n",
        "early_stop_bigru = tf.keras.callbacks.EarlyStopping(monitor='val_loss', min_delta=0, patience=5, restore_best_weights=True)\n",
        "input_shape = (X_train.shape[1], 1)\n",
        "metrics = ['Accuracy', 'Precision', 'Recall', 'AUC']\n",
        "\n",
        "# Architecture\n",
        "with tpu_strategy.scope():\n",
        "  layers = [Bidirectional(GRU(128, input_shape=input_shape, activation='relu', return_sequences=True), input_shape=input_shape),\n",
        "            Dropout(0.2),\n",
        "            Bidirectional(GRU(128, activation='relu')),\n",
        "            Dropout(0.2),\n",
        "            Dense(64, activation='relu'),\n",
        "            Dropout(0.2),\n",
        "            Dense(32, activation='relu'),\n",
        "            Dropout(0.2),\n",
        "            Dense(1, activation='sigmoid')]\n",
        "  model_bigru = Sequential(layers)\n",
        "  model_bigru.compile(loss='binary_crossentropy', optimizer=optimizer_bigru, metrics=metrics)\n",
        "model_bigru.summary()"
      ],
      "metadata": {
        "colab": {
          "base_uri": "https://localhost:8080/"
        },
        "id": "VNxq4BBWcJ_C",
        "outputId": "42ec0c4f-e74e-4d1c-e27f-98d708aa5472"
      },
      "execution_count": null,
      "outputs": [
        {
          "output_type": "stream",
          "name": "stdout",
          "text": [
            "Model: \"sequential\"\n",
            "_________________________________________________________________\n",
            " Layer (type)                Output Shape              Param #   \n",
            "=================================================================\n",
            " bidirectional (Bidirectiona  (None, 300, 256)         100608    \n",
            " l)                                                              \n",
            "                                                                 \n",
            " dropout (Dropout)           (None, 300, 256)          0         \n",
            "                                                                 \n",
            " bidirectional_1 (Bidirectio  (None, 256)              296448    \n",
            " nal)                                                            \n",
            "                                                                 \n",
            " dropout_1 (Dropout)         (None, 256)               0         \n",
            "                                                                 \n",
            " dense (Dense)               (None, 64)                16448     \n",
            "                                                                 \n",
            " dropout_2 (Dropout)         (None, 64)                0         \n",
            "                                                                 \n",
            " dense_1 (Dense)             (None, 32)                2080      \n",
            "                                                                 \n",
            " dropout_3 (Dropout)         (None, 32)                0         \n",
            "                                                                 \n",
            " dense_2 (Dense)             (None, 1)                 33        \n",
            "                                                                 \n",
            "=================================================================\n",
            "Total params: 415,617\n",
            "Trainable params: 415,617\n",
            "Non-trainable params: 0\n",
            "_________________________________________________________________\n"
          ]
        }
      ]
    },
    {
      "cell_type": "code",
      "source": [
        "# Fit Model \n",
        "# Runtime approx. 18mins with Google Colab TPU. Do not run on CPU. \n",
        "# Alternatively, load existing model in cell below\n",
        "history_bigru = model_bigru.fit(X_train, y_train, \n",
        "                                validation_data=(X_val, y_val), \n",
        "                                epochs=100, batch_size=64, \n",
        "                                callbacks=[early_stop_bigru])\n"
      ],
      "metadata": {
        "colab": {
          "base_uri": "https://localhost:8080/"
        },
        "id": "PbJ-VDEtckQY",
        "outputId": "17a7158e-da4a-4b3c-af4e-ea243213c88c"
      },
      "execution_count": null,
      "outputs": [
        {
          "output_type": "stream",
          "name": "stdout",
          "text": [
            "Epoch 1/100\n",
            "347/347 [==============================] - 61s 135ms/step - loss: 0.6428 - Accuracy: 0.6531 - precision: 0.6541 - recall: 0.9957 - auc: 0.5537 - val_loss: 0.6235 - val_Accuracy: 0.6639 - val_precision: 0.6616 - val_recall: 0.9967 - val_auc: 0.6775\n",
            "Epoch 2/100\n",
            "347/347 [==============================] - 40s 116ms/step - loss: 0.6022 - Accuracy: 0.6840 - precision: 0.6986 - recall: 0.9084 - auc: 0.6758 - val_loss: 0.5900 - val_Accuracy: 0.6837 - val_precision: 0.6901 - val_recall: 0.9384 - val_auc: 0.7104\n",
            "Epoch 3/100\n",
            "347/347 [==============================] - 40s 116ms/step - loss: 0.5877 - Accuracy: 0.6931 - precision: 0.7139 - recall: 0.8851 - auc: 0.7007 - val_loss: 0.5780 - val_Accuracy: 0.6938 - val_precision: 0.7347 - val_recall: 0.8333 - val_auc: 0.7204\n",
            "Epoch 4/100\n",
            "347/347 [==============================] - 41s 118ms/step - loss: 0.5800 - Accuracy: 0.6974 - precision: 0.7207 - recall: 0.8768 - auc: 0.7129 - val_loss: 0.5729 - val_Accuracy: 0.6952 - val_precision: 0.7450 - val_recall: 0.8130 - val_auc: 0.7300\n",
            "Epoch 5/100\n",
            "347/347 [==============================] - 40s 116ms/step - loss: 0.5776 - Accuracy: 0.7013 - precision: 0.7219 - recall: 0.8832 - auc: 0.7176 - val_loss: 0.5686 - val_Accuracy: 0.6963 - val_precision: 0.7201 - val_recall: 0.8773 - val_auc: 0.7297\n",
            "Epoch 6/100\n",
            "347/347 [==============================] - 40s 117ms/step - loss: 0.5718 - Accuracy: 0.7028 - precision: 0.7292 - recall: 0.8674 - auc: 0.7261 - val_loss: 0.5681 - val_Accuracy: 0.6970 - val_precision: 0.7522 - val_recall: 0.8014 - val_auc: 0.7318\n",
            "Epoch 7/100\n",
            "347/347 [==============================] - 41s 118ms/step - loss: 0.5669 - Accuracy: 0.7041 - precision: 0.7355 - recall: 0.8546 - auc: 0.7329 - val_loss: 0.5672 - val_Accuracy: 0.6981 - val_precision: 0.7753 - val_recall: 0.7591 - val_auc: 0.7461\n",
            "Epoch 8/100\n",
            "347/347 [==============================] - 41s 119ms/step - loss: 0.5610 - Accuracy: 0.7134 - precision: 0.7432 - recall: 0.8579 - auc: 0.7421 - val_loss: 0.5532 - val_Accuracy: 0.7154 - val_precision: 0.7483 - val_recall: 0.8520 - val_auc: 0.7504\n",
            "Epoch 9/100\n",
            "347/347 [==============================] - 41s 117ms/step - loss: 0.5582 - Accuracy: 0.7157 - precision: 0.7458 - recall: 0.8572 - auc: 0.7450 - val_loss: 0.5537 - val_Accuracy: 0.7143 - val_precision: 0.7521 - val_recall: 0.8410 - val_auc: 0.7502\n",
            "Epoch 10/100\n",
            "347/347 [==============================] - 40s 116ms/step - loss: 0.5543 - Accuracy: 0.7145 - precision: 0.7459 - recall: 0.8541 - auc: 0.7489 - val_loss: 0.5550 - val_Accuracy: 0.7154 - val_precision: 0.7384 - val_recall: 0.8757 - val_auc: 0.7520\n",
            "Epoch 11/100\n",
            "347/347 [==============================] - 41s 119ms/step - loss: 0.5489 - Accuracy: 0.7211 - precision: 0.7500 - recall: 0.8599 - auc: 0.7568 - val_loss: 0.5480 - val_Accuracy: 0.7172 - val_precision: 0.7546 - val_recall: 0.8421 - val_auc: 0.7580\n",
            "Epoch 12/100\n",
            "347/347 [==============================] - 41s 117ms/step - loss: 0.5441 - Accuracy: 0.7280 - precision: 0.7536 - recall: 0.8674 - auc: 0.7619 - val_loss: 0.5416 - val_Accuracy: 0.7269 - val_precision: 0.7616 - val_recall: 0.8487 - val_auc: 0.7645\n",
            "Epoch 13/100\n",
            "347/347 [==============================] - 41s 117ms/step - loss: 0.5406 - Accuracy: 0.7310 - precision: 0.7597 - recall: 0.8605 - auc: 0.7652 - val_loss: 0.5401 - val_Accuracy: 0.7287 - val_precision: 0.7391 - val_recall: 0.9054 - val_auc: 0.7673\n",
            "Epoch 14/100\n",
            "347/347 [==============================] - 41s 118ms/step - loss: 0.5353 - Accuracy: 0.7319 - precision: 0.7594 - recall: 0.8633 - auc: 0.7722 - val_loss: 0.5377 - val_Accuracy: 0.7172 - val_precision: 0.7894 - val_recall: 0.7750 - val_auc: 0.7758\n",
            "Epoch 15/100\n",
            "347/347 [==============================] - 41s 117ms/step - loss: 0.5311 - Accuracy: 0.7375 - precision: 0.7647 - recall: 0.8642 - auc: 0.7765 - val_loss: 0.5356 - val_Accuracy: 0.7381 - val_precision: 0.7553 - val_recall: 0.8878 - val_auc: 0.7734\n",
            "Epoch 16/100\n",
            "347/347 [==============================] - 40s 116ms/step - loss: 0.5259 - Accuracy: 0.7377 - precision: 0.7661 - recall: 0.8619 - auc: 0.7810 - val_loss: 0.5397 - val_Accuracy: 0.7284 - val_precision: 0.7876 - val_recall: 0.8014 - val_auc: 0.7784\n",
            "Epoch 17/100\n",
            "347/347 [==============================] - 41s 117ms/step - loss: 0.5211 - Accuracy: 0.7435 - precision: 0.7701 - recall: 0.8663 - auc: 0.7853 - val_loss: 0.5294 - val_Accuracy: 0.7316 - val_precision: 0.7616 - val_recall: 0.8592 - val_auc: 0.7821\n",
            "Epoch 18/100\n",
            "347/347 [==============================] - 40s 116ms/step - loss: 0.5159 - Accuracy: 0.7470 - precision: 0.7740 - recall: 0.8655 - auc: 0.7905 - val_loss: 0.5255 - val_Accuracy: 0.7295 - val_precision: 0.7629 - val_recall: 0.8515 - val_auc: 0.7844\n",
            "Epoch 19/100\n",
            "347/347 [==============================] - 40s 117ms/step - loss: 0.5095 - Accuracy: 0.7521 - precision: 0.7770 - recall: 0.8706 - auc: 0.7975 - val_loss: 0.5279 - val_Accuracy: 0.7507 - val_precision: 0.7929 - val_recall: 0.8383 - val_auc: 0.7847\n",
            "Epoch 20/100\n",
            "347/347 [==============================] - 40s 116ms/step - loss: 0.5063 - Accuracy: 0.7538 - precision: 0.7812 - recall: 0.8657 - auc: 0.8005 - val_loss: 0.5245 - val_Accuracy: 0.7460 - val_precision: 0.7616 - val_recall: 0.8911 - val_auc: 0.7878\n",
            "Epoch 21/100\n",
            "347/347 [==============================] - 41s 117ms/step - loss: 0.4976 - Accuracy: 0.7597 - precision: 0.7833 - recall: 0.8743 - auc: 0.8088 - val_loss: 0.5193 - val_Accuracy: 0.7406 - val_precision: 0.7637 - val_recall: 0.8746 - val_auc: 0.7908\n",
            "Epoch 22/100\n",
            "347/347 [==============================] - 41s 118ms/step - loss: 0.4935 - Accuracy: 0.7624 - precision: 0.7870 - recall: 0.8727 - auc: 0.8128 - val_loss: 0.5208 - val_Accuracy: 0.7406 - val_precision: 0.8119 - val_recall: 0.7860 - val_auc: 0.7947\n",
            "Epoch 23/100\n",
            "347/347 [==============================] - 40s 116ms/step - loss: 0.4849 - Accuracy: 0.7701 - precision: 0.7943 - recall: 0.8748 - auc: 0.8203 - val_loss: 0.5218 - val_Accuracy: 0.7435 - val_precision: 0.7999 - val_recall: 0.8113 - val_auc: 0.7950\n",
            "Epoch 24/100\n",
            "347/347 [==============================] - 40s 116ms/step - loss: 0.4803 - Accuracy: 0.7707 - precision: 0.7955 - recall: 0.8738 - auc: 0.8239 - val_loss: 0.5277 - val_Accuracy: 0.7388 - val_precision: 0.7793 - val_recall: 0.8388 - val_auc: 0.7851\n",
            "Epoch 25/100\n",
            "347/347 [==============================] - 40s 116ms/step - loss: 0.5271 - Accuracy: 0.7380 - precision: 0.7655 - recall: 0.8639 - auc: 0.7809 - val_loss: 0.5304 - val_Accuracy: 0.7446 - val_precision: 0.7717 - val_recall: 0.8663 - val_auc: 0.7827\n",
            "Epoch 26/100\n",
            "347/347 [==============================] - 40s 116ms/step - loss: 0.4897 - Accuracy: 0.7660 - precision: 0.7914 - recall: 0.8718 - auc: 0.8157 - val_loss: 0.5228 - val_Accuracy: 0.7439 - val_precision: 0.7615 - val_recall: 0.8867 - val_auc: 0.7954\n"
          ]
        }
      ]
    },
    {
      "cell_type": "code",
      "source": [
        "# Save model\n",
        "model_bigru.save('/content/gdrive/MyDrive/models/anlp_bi_class_extended.h5')\n",
        "\n",
        "# Save history\n",
        "np.save('/content/gdrive/MyDrive/models/anlp_bi_class_extended.npy', history_bigru)"
      ],
      "metadata": {
        "id": "aQNxTHLtcI57"
      },
      "execution_count": null,
      "outputs": []
    },
    {
      "cell_type": "code",
      "source": [
        "# Optional: Load Existing Model\n",
        "model_bigru = load_model('/content/gdrive/MyDrive/models/anlp_bi_class_extended.h5')"
      ],
      "metadata": {
        "id": "YaVuQoiU9RWu"
      },
      "execution_count": null,
      "outputs": []
    },
    {
      "cell_type": "markdown",
      "source": [
        "Evaluation"
      ],
      "metadata": {
        "id": "SyBxmL84Acv2"
      }
    },
    {
      "cell_type": "code",
      "source": [
        "# Out of sample evaluation and predictions\n",
        "results = model_bigru.evaluate(X_test, y_test, batch_size=64)\n",
        "y_pred = model_bigru.predict(X_test)\n",
        "y_pred = np.round(y_pred).astype(int)"
      ],
      "metadata": {
        "colab": {
          "base_uri": "https://localhost:8080/"
        },
        "id": "5IIgtQsz22bX",
        "outputId": "d84fdd62-228b-40ef-accb-af204eef37ad"
      },
      "execution_count": null,
      "outputs": [
        {
          "output_type": "stream",
          "name": "stdout",
          "text": [
            "44/44 [==============================] - 3s 40ms/step - loss: 0.5193 - Accuracy: 0.7406 - precision: 0.7637 - recall: 0.8746 - auc: 0.7908\n",
            "87/87 [==============================] - 6s 48ms/step\n"
          ]
        }
      ]
    },
    {
      "cell_type": "code",
      "source": [
        "def plot_confusion_matrix(matrix):\n",
        "  fig = px.imshow(matrix, \n",
        "                  color_continuous_scale='RdBu_r', text_auto='.2f',\n",
        "                  labels={'x': 'Predicted Value', 'y': 'True Value'})\n",
        "  tickvals = {'tickvals': ['', '0', '', '1', '']}\n",
        "  fig.update_layout(xaxis=tickvals, yaxis=tickvals)\n",
        "  fig.show()"
      ],
      "metadata": {
        "id": "X0YzlAS382MU"
      },
      "execution_count": null,
      "outputs": []
    },
    {
      "cell_type": "code",
      "source": [
        "# Show confusion matrix\n",
        "cf_matrix = confusion_matrix(y_test, y_pred, normalize='pred')\n",
        "plot_confusion_matrix(cf_matrix)"
      ],
      "metadata": {
        "colab": {
          "base_uri": "https://localhost:8080/",
          "height": 542
        },
        "id": "0JvTWep59F2C",
        "outputId": "7a62898c-9dc9-4260-ecf4-1fa3b95203fa"
      },
      "execution_count": null,
      "outputs": [
        {
          "output_type": "display_data",
          "data": {
            "text/html": [
              "<html>\n",
              "<head><meta charset=\"utf-8\" /></head>\n",
              "<body>\n",
              "    <div>            <script src=\"https://cdnjs.cloudflare.com/ajax/libs/mathjax/2.7.5/MathJax.js?config=TeX-AMS-MML_SVG\"></script><script type=\"text/javascript\">if (window.MathJax && window.MathJax.Hub && window.MathJax.Hub.Config) {window.MathJax.Hub.Config({SVG: {font: \"STIX-Web\"}});}</script>                <script type=\"text/javascript\">window.PlotlyConfig = {MathJaxConfig: 'local'};</script>\n",
              "        <script src=\"https://cdn.plot.ly/plotly-2.18.2.min.js\"></script>                <div id=\"0cfec1ae-d74a-4eea-b304-43d6d2901b83\" class=\"plotly-graph-div\" style=\"height:525px; width:100%;\"></div>            <script type=\"text/javascript\">                                    window.PLOTLYENV=window.PLOTLYENV || {};                                    if (document.getElementById(\"0cfec1ae-d74a-4eea-b304-43d6d2901b83\")) {                    Plotly.newPlot(                        \"0cfec1ae-d74a-4eea-b304-43d6d2901b83\",                        [{\"coloraxis\":\"coloraxis\",\"name\":\"0\",\"texttemplate\":\"%{z:.2f}\",\"z\":[[0.6714697406340058,0.23631123919308358],[0.3285302593659942,0.7636887608069164]],\"type\":\"heatmap\",\"xaxis\":\"x\",\"yaxis\":\"y\",\"hovertemplate\":\"Predicted Value: %{x}<br>True Value: %{y}<br>color: %{z}<extra></extra>\"}],                        {\"template\":{\"data\":{\"histogram2dcontour\":[{\"type\":\"histogram2dcontour\",\"colorbar\":{\"outlinewidth\":0,\"ticks\":\"\"},\"colorscale\":[[0.0,\"#0d0887\"],[0.1111111111111111,\"#46039f\"],[0.2222222222222222,\"#7201a8\"],[0.3333333333333333,\"#9c179e\"],[0.4444444444444444,\"#bd3786\"],[0.5555555555555556,\"#d8576b\"],[0.6666666666666666,\"#ed7953\"],[0.7777777777777778,\"#fb9f3a\"],[0.8888888888888888,\"#fdca26\"],[1.0,\"#f0f921\"]]}],\"choropleth\":[{\"type\":\"choropleth\",\"colorbar\":{\"outlinewidth\":0,\"ticks\":\"\"}}],\"histogram2d\":[{\"type\":\"histogram2d\",\"colorbar\":{\"outlinewidth\":0,\"ticks\":\"\"},\"colorscale\":[[0.0,\"#0d0887\"],[0.1111111111111111,\"#46039f\"],[0.2222222222222222,\"#7201a8\"],[0.3333333333333333,\"#9c179e\"],[0.4444444444444444,\"#bd3786\"],[0.5555555555555556,\"#d8576b\"],[0.6666666666666666,\"#ed7953\"],[0.7777777777777778,\"#fb9f3a\"],[0.8888888888888888,\"#fdca26\"],[1.0,\"#f0f921\"]]}],\"heatmap\":[{\"type\":\"heatmap\",\"colorbar\":{\"outlinewidth\":0,\"ticks\":\"\"},\"colorscale\":[[0.0,\"#0d0887\"],[0.1111111111111111,\"#46039f\"],[0.2222222222222222,\"#7201a8\"],[0.3333333333333333,\"#9c179e\"],[0.4444444444444444,\"#bd3786\"],[0.5555555555555556,\"#d8576b\"],[0.6666666666666666,\"#ed7953\"],[0.7777777777777778,\"#fb9f3a\"],[0.8888888888888888,\"#fdca26\"],[1.0,\"#f0f921\"]]}],\"heatmapgl\":[{\"type\":\"heatmapgl\",\"colorbar\":{\"outlinewidth\":0,\"ticks\":\"\"},\"colorscale\":[[0.0,\"#0d0887\"],[0.1111111111111111,\"#46039f\"],[0.2222222222222222,\"#7201a8\"],[0.3333333333333333,\"#9c179e\"],[0.4444444444444444,\"#bd3786\"],[0.5555555555555556,\"#d8576b\"],[0.6666666666666666,\"#ed7953\"],[0.7777777777777778,\"#fb9f3a\"],[0.8888888888888888,\"#fdca26\"],[1.0,\"#f0f921\"]]}],\"contourcarpet\":[{\"type\":\"contourcarpet\",\"colorbar\":{\"outlinewidth\":0,\"ticks\":\"\"}}],\"contour\":[{\"type\":\"contour\",\"colorbar\":{\"outlinewidth\":0,\"ticks\":\"\"},\"colorscale\":[[0.0,\"#0d0887\"],[0.1111111111111111,\"#46039f\"],[0.2222222222222222,\"#7201a8\"],[0.3333333333333333,\"#9c179e\"],[0.4444444444444444,\"#bd3786\"],[0.5555555555555556,\"#d8576b\"],[0.6666666666666666,\"#ed7953\"],[0.7777777777777778,\"#fb9f3a\"],[0.8888888888888888,\"#fdca26\"],[1.0,\"#f0f921\"]]}],\"surface\":[{\"type\":\"surface\",\"colorbar\":{\"outlinewidth\":0,\"ticks\":\"\"},\"colorscale\":[[0.0,\"#0d0887\"],[0.1111111111111111,\"#46039f\"],[0.2222222222222222,\"#7201a8\"],[0.3333333333333333,\"#9c179e\"],[0.4444444444444444,\"#bd3786\"],[0.5555555555555556,\"#d8576b\"],[0.6666666666666666,\"#ed7953\"],[0.7777777777777778,\"#fb9f3a\"],[0.8888888888888888,\"#fdca26\"],[1.0,\"#f0f921\"]]}],\"mesh3d\":[{\"type\":\"mesh3d\",\"colorbar\":{\"outlinewidth\":0,\"ticks\":\"\"}}],\"scatter\":[{\"fillpattern\":{\"fillmode\":\"overlay\",\"size\":10,\"solidity\":0.2},\"type\":\"scatter\"}],\"parcoords\":[{\"type\":\"parcoords\",\"line\":{\"colorbar\":{\"outlinewidth\":0,\"ticks\":\"\"}}}],\"scatterpolargl\":[{\"type\":\"scatterpolargl\",\"marker\":{\"colorbar\":{\"outlinewidth\":0,\"ticks\":\"\"}}}],\"bar\":[{\"error_x\":{\"color\":\"#2a3f5f\"},\"error_y\":{\"color\":\"#2a3f5f\"},\"marker\":{\"line\":{\"color\":\"#E5ECF6\",\"width\":0.5},\"pattern\":{\"fillmode\":\"overlay\",\"size\":10,\"solidity\":0.2}},\"type\":\"bar\"}],\"scattergeo\":[{\"type\":\"scattergeo\",\"marker\":{\"colorbar\":{\"outlinewidth\":0,\"ticks\":\"\"}}}],\"scatterpolar\":[{\"type\":\"scatterpolar\",\"marker\":{\"colorbar\":{\"outlinewidth\":0,\"ticks\":\"\"}}}],\"histogram\":[{\"marker\":{\"pattern\":{\"fillmode\":\"overlay\",\"size\":10,\"solidity\":0.2}},\"type\":\"histogram\"}],\"scattergl\":[{\"type\":\"scattergl\",\"marker\":{\"colorbar\":{\"outlinewidth\":0,\"ticks\":\"\"}}}],\"scatter3d\":[{\"type\":\"scatter3d\",\"line\":{\"colorbar\":{\"outlinewidth\":0,\"ticks\":\"\"}},\"marker\":{\"colorbar\":{\"outlinewidth\":0,\"ticks\":\"\"}}}],\"scattermapbox\":[{\"type\":\"scattermapbox\",\"marker\":{\"colorbar\":{\"outlinewidth\":0,\"ticks\":\"\"}}}],\"scatterternary\":[{\"type\":\"scatterternary\",\"marker\":{\"colorbar\":{\"outlinewidth\":0,\"ticks\":\"\"}}}],\"scattercarpet\":[{\"type\":\"scattercarpet\",\"marker\":{\"colorbar\":{\"outlinewidth\":0,\"ticks\":\"\"}}}],\"carpet\":[{\"aaxis\":{\"endlinecolor\":\"#2a3f5f\",\"gridcolor\":\"white\",\"linecolor\":\"white\",\"minorgridcolor\":\"white\",\"startlinecolor\":\"#2a3f5f\"},\"baxis\":{\"endlinecolor\":\"#2a3f5f\",\"gridcolor\":\"white\",\"linecolor\":\"white\",\"minorgridcolor\":\"white\",\"startlinecolor\":\"#2a3f5f\"},\"type\":\"carpet\"}],\"table\":[{\"cells\":{\"fill\":{\"color\":\"#EBF0F8\"},\"line\":{\"color\":\"white\"}},\"header\":{\"fill\":{\"color\":\"#C8D4E3\"},\"line\":{\"color\":\"white\"}},\"type\":\"table\"}],\"barpolar\":[{\"marker\":{\"line\":{\"color\":\"#E5ECF6\",\"width\":0.5},\"pattern\":{\"fillmode\":\"overlay\",\"size\":10,\"solidity\":0.2}},\"type\":\"barpolar\"}],\"pie\":[{\"automargin\":true,\"type\":\"pie\"}]},\"layout\":{\"autotypenumbers\":\"strict\",\"colorway\":[\"#636efa\",\"#EF553B\",\"#00cc96\",\"#ab63fa\",\"#FFA15A\",\"#19d3f3\",\"#FF6692\",\"#B6E880\",\"#FF97FF\",\"#FECB52\"],\"font\":{\"color\":\"#2a3f5f\"},\"hovermode\":\"closest\",\"hoverlabel\":{\"align\":\"left\"},\"paper_bgcolor\":\"white\",\"plot_bgcolor\":\"#E5ECF6\",\"polar\":{\"bgcolor\":\"#E5ECF6\",\"angularaxis\":{\"gridcolor\":\"white\",\"linecolor\":\"white\",\"ticks\":\"\"},\"radialaxis\":{\"gridcolor\":\"white\",\"linecolor\":\"white\",\"ticks\":\"\"}},\"ternary\":{\"bgcolor\":\"#E5ECF6\",\"aaxis\":{\"gridcolor\":\"white\",\"linecolor\":\"white\",\"ticks\":\"\"},\"baxis\":{\"gridcolor\":\"white\",\"linecolor\":\"white\",\"ticks\":\"\"},\"caxis\":{\"gridcolor\":\"white\",\"linecolor\":\"white\",\"ticks\":\"\"}},\"coloraxis\":{\"colorbar\":{\"outlinewidth\":0,\"ticks\":\"\"}},\"colorscale\":{\"sequential\":[[0.0,\"#0d0887\"],[0.1111111111111111,\"#46039f\"],[0.2222222222222222,\"#7201a8\"],[0.3333333333333333,\"#9c179e\"],[0.4444444444444444,\"#bd3786\"],[0.5555555555555556,\"#d8576b\"],[0.6666666666666666,\"#ed7953\"],[0.7777777777777778,\"#fb9f3a\"],[0.8888888888888888,\"#fdca26\"],[1.0,\"#f0f921\"]],\"sequentialminus\":[[0.0,\"#0d0887\"],[0.1111111111111111,\"#46039f\"],[0.2222222222222222,\"#7201a8\"],[0.3333333333333333,\"#9c179e\"],[0.4444444444444444,\"#bd3786\"],[0.5555555555555556,\"#d8576b\"],[0.6666666666666666,\"#ed7953\"],[0.7777777777777778,\"#fb9f3a\"],[0.8888888888888888,\"#fdca26\"],[1.0,\"#f0f921\"]],\"diverging\":[[0,\"#8e0152\"],[0.1,\"#c51b7d\"],[0.2,\"#de77ae\"],[0.3,\"#f1b6da\"],[0.4,\"#fde0ef\"],[0.5,\"#f7f7f7\"],[0.6,\"#e6f5d0\"],[0.7,\"#b8e186\"],[0.8,\"#7fbc41\"],[0.9,\"#4d9221\"],[1,\"#276419\"]]},\"xaxis\":{\"gridcolor\":\"white\",\"linecolor\":\"white\",\"ticks\":\"\",\"title\":{\"standoff\":15},\"zerolinecolor\":\"white\",\"automargin\":true,\"zerolinewidth\":2},\"yaxis\":{\"gridcolor\":\"white\",\"linecolor\":\"white\",\"ticks\":\"\",\"title\":{\"standoff\":15},\"zerolinecolor\":\"white\",\"automargin\":true,\"zerolinewidth\":2},\"scene\":{\"xaxis\":{\"backgroundcolor\":\"#E5ECF6\",\"gridcolor\":\"white\",\"linecolor\":\"white\",\"showbackground\":true,\"ticks\":\"\",\"zerolinecolor\":\"white\",\"gridwidth\":2},\"yaxis\":{\"backgroundcolor\":\"#E5ECF6\",\"gridcolor\":\"white\",\"linecolor\":\"white\",\"showbackground\":true,\"ticks\":\"\",\"zerolinecolor\":\"white\",\"gridwidth\":2},\"zaxis\":{\"backgroundcolor\":\"#E5ECF6\",\"gridcolor\":\"white\",\"linecolor\":\"white\",\"showbackground\":true,\"ticks\":\"\",\"zerolinecolor\":\"white\",\"gridwidth\":2}},\"shapedefaults\":{\"line\":{\"color\":\"#2a3f5f\"}},\"annotationdefaults\":{\"arrowcolor\":\"#2a3f5f\",\"arrowhead\":0,\"arrowwidth\":1},\"geo\":{\"bgcolor\":\"white\",\"landcolor\":\"#E5ECF6\",\"subunitcolor\":\"white\",\"showland\":true,\"showlakes\":true,\"lakecolor\":\"white\"},\"title\":{\"x\":0.05},\"mapbox\":{\"style\":\"light\"}}},\"xaxis\":{\"anchor\":\"y\",\"domain\":[0.0,1.0],\"scaleanchor\":\"y\",\"constrain\":\"domain\",\"title\":{\"text\":\"Predicted Value\"},\"tickvals\":[\"\",\"0\",\"\",\"1\",\"\"]},\"yaxis\":{\"anchor\":\"x\",\"domain\":[0.0,1.0],\"autorange\":\"reversed\",\"constrain\":\"domain\",\"title\":{\"text\":\"True Value\"},\"tickvals\":[\"\",\"0\",\"\",\"1\",\"\"]},\"coloraxis\":{\"colorscale\":[[0.0,\"rgb(5,48,97)\"],[0.1,\"rgb(33,102,172)\"],[0.2,\"rgb(67,147,195)\"],[0.3,\"rgb(146,197,222)\"],[0.4,\"rgb(209,229,240)\"],[0.5,\"rgb(247,247,247)\"],[0.6,\"rgb(253,219,199)\"],[0.7,\"rgb(244,165,130)\"],[0.8,\"rgb(214,96,77)\"],[0.9,\"rgb(178,24,43)\"],[1.0,\"rgb(103,0,31)\"]]},\"margin\":{\"t\":60}},                        {\"responsive\": true}                    ).then(function(){\n",
              "                            \n",
              "var gd = document.getElementById('0cfec1ae-d74a-4eea-b304-43d6d2901b83');\n",
              "var x = new MutationObserver(function (mutations, observer) {{\n",
              "        var display = window.getComputedStyle(gd).display;\n",
              "        if (!display || display === 'none') {{\n",
              "            console.log([gd, 'removed!']);\n",
              "            Plotly.purge(gd);\n",
              "            observer.disconnect();\n",
              "        }}\n",
              "}});\n",
              "\n",
              "// Listen for the removal of the full notebook cells\n",
              "var notebookContainer = gd.closest('#notebook-container');\n",
              "if (notebookContainer) {{\n",
              "    x.observe(notebookContainer, {childList: true});\n",
              "}}\n",
              "\n",
              "// Listen for the clearing of the current output cell\n",
              "var outputEl = gd.closest('.output');\n",
              "if (outputEl) {{\n",
              "    x.observe(outputEl, {childList: true});\n",
              "}}\n",
              "\n",
              "                        })                };                            </script>        </div>\n",
              "</body>\n",
              "</html>"
            ]
          },
          "metadata": {}
        }
      ]
    },
    {
      "cell_type": "code",
      "source": [
        "def calc_f1_score(precision, recall):\n",
        "  f1 = 2 * (precision * recall) / (precision + recall)\n",
        "  print('F1 Score: {:.2f}%'.format(f1 * 100))\n",
        "\n",
        "  return f1"
      ],
      "metadata": {
        "id": "9cIx3dDS8os7"
      },
      "execution_count": null,
      "outputs": []
    },
    {
      "cell_type": "code",
      "source": [
        "# Use F1 score given imbalanced dataset\n",
        "f1_score = calc_f1_score(results[2], results[3])"
      ],
      "metadata": {
        "colab": {
          "base_uri": "https://localhost:8080/"
        },
        "id": "IWxn7uFI8qdh",
        "outputId": "c338500f-39c6-4a8a-9461-2f8039444f47"
      },
      "execution_count": null,
      "outputs": [
        {
          "output_type": "stream",
          "name": "stdout",
          "text": [
            "F1 Score: 81.54%\n"
          ]
        }
      ]
    },
    {
      "cell_type": "markdown",
      "source": [
        "Check if Pooling layers are useful"
      ],
      "metadata": {
        "id": "oJ8yzit7cTjt"
      }
    },
    {
      "cell_type": "code",
      "source": [
        "# Create BiGRU model\n",
        "\n",
        "# Parameters\n",
        "optimizer_adj = tf.keras.optimizers.Adam(learning_rate=0.001)\n",
        "early_stop_adj = tf.keras.callbacks.EarlyStopping(monitor='val_loss', min_delta=0, patience=5, restore_best_weights=True)\n",
        "input_shape = (X_train.shape[1], 1)\n",
        "metrics = ['Accuracy', 'Precision', 'Recall', 'AUC']\n",
        "\n",
        "# Architecture\n",
        "with tpu_strategy.scope():\n",
        "  layers = [Bidirectional(GRU(128, input_shape=input_shape, activation='relu', return_sequences=True), input_shape=input_shape),\n",
        "            Dropout(0.2),\n",
        "            Bidirectional(GRU(128, activation='relu', return_sequences=True)),\n",
        "            Dropout(0.2),\n",
        "            GlobalAveragePooling1D(),\n",
        "            Dropout(0.2),\n",
        "            Dense(64, activation='relu'),\n",
        "            Dropout(0.2),\n",
        "            Dense(32, activation='relu'),\n",
        "            Dropout(0.2),\n",
        "            Dense(1, activation='sigmoid')]\n",
        "  model_adj = Sequential(layers)\n",
        "  model_adj.compile(loss='binary_crossentropy', optimizer=optimizer_adj, metrics=metrics)\n",
        "model_adj.summary()"
      ],
      "metadata": {
        "colab": {
          "base_uri": "https://localhost:8080/"
        },
        "id": "U6_-aspIcTXT",
        "outputId": "3684de0f-f220-4563-f9fd-dea345d876f0"
      },
      "execution_count": null,
      "outputs": [
        {
          "output_type": "stream",
          "name": "stdout",
          "text": [
            "Model: \"sequential_2\"\n",
            "_________________________________________________________________\n",
            " Layer (type)                Output Shape              Param #   \n",
            "=================================================================\n",
            " bidirectional_4 (Bidirectio  (None, 300, 256)         100608    \n",
            " nal)                                                            \n",
            "                                                                 \n",
            " dropout_9 (Dropout)         (None, 300, 256)          0         \n",
            "                                                                 \n",
            " bidirectional_5 (Bidirectio  (None, 300, 256)         296448    \n",
            " nal)                                                            \n",
            "                                                                 \n",
            " dropout_10 (Dropout)        (None, 300, 256)          0         \n",
            "                                                                 \n",
            " global_average_pooling1d_1   (None, 256)              0         \n",
            " (GlobalAveragePooling1D)                                        \n",
            "                                                                 \n",
            " dropout_11 (Dropout)        (None, 256)               0         \n",
            "                                                                 \n",
            " dense_6 (Dense)             (None, 64)                16448     \n",
            "                                                                 \n",
            " dropout_12 (Dropout)        (None, 64)                0         \n",
            "                                                                 \n",
            " dense_7 (Dense)             (None, 32)                2080      \n",
            "                                                                 \n",
            " dropout_13 (Dropout)        (None, 32)                0         \n",
            "                                                                 \n",
            " dense_8 (Dense)             (None, 1)                 33        \n",
            "                                                                 \n",
            "=================================================================\n",
            "Total params: 415,617\n",
            "Trainable params: 415,617\n",
            "Non-trainable params: 0\n",
            "_________________________________________________________________\n"
          ]
        }
      ]
    },
    {
      "cell_type": "code",
      "source": [
        "history_adj = model_adj.fit(X_train, y_train, \n",
        "                            validation_data=(X_val, y_val), \n",
        "                            epochs=100, batch_size=64, \n",
        "                            callbacks=[early_stop_bigru])"
      ],
      "metadata": {
        "colab": {
          "base_uri": "https://localhost:8080/"
        },
        "id": "MQ7NKQ6zcS75",
        "outputId": "891b79d3-b15b-4852-e785-2b404906ada9"
      },
      "execution_count": null,
      "outputs": [
        {
          "output_type": "stream",
          "name": "stdout",
          "text": [
            "Epoch 1/100\n",
            "347/347 [==============================] - 61s 130ms/step - loss: 0.6508 - Accuracy: 0.6532 - precision: 0.6538 - recall: 0.9975 - auc: 0.4934 - val_loss: 0.6439 - val_Accuracy: 0.6549 - val_precision: 0.6549 - val_recall: 1.0000 - val_auc: 0.5320\n",
            "Epoch 2/100\n",
            "347/347 [==============================] - 41s 117ms/step - loss: 0.6461 - Accuracy: 0.6536 - precision: 0.6536 - recall: 1.0000 - auc: 0.5104 - val_loss: 0.6417 - val_Accuracy: 0.6549 - val_precision: 0.6549 - val_recall: 1.0000 - val_auc: 0.5427\n",
            "Epoch 3/100\n",
            "347/347 [==============================] - 41s 117ms/step - loss: 0.6447 - Accuracy: 0.6545 - precision: 0.6545 - recall: 0.9986 - auc: 0.5264 - val_loss: 0.6397 - val_Accuracy: 0.6581 - val_precision: 0.6585 - val_recall: 0.9928 - val_auc: 0.5423\n",
            "Epoch 4/100\n",
            "347/347 [==============================] - 40s 117ms/step - loss: 0.6447 - Accuracy: 0.6552 - precision: 0.6562 - recall: 0.9927 - auc: 0.5359 - val_loss: 0.6410 - val_Accuracy: 0.6560 - val_precision: 0.6558 - val_recall: 0.9989 - val_auc: 0.5513\n",
            "Epoch 5/100\n",
            "347/347 [==============================] - 41s 117ms/step - loss: 0.6516 - Accuracy: 0.6546 - precision: 0.6552 - recall: 0.9955 - auc: 0.5390 - val_loss: 0.6404 - val_Accuracy: 0.6563 - val_precision: 0.6561 - val_recall: 0.9989 - val_auc: 0.5555\n",
            "Epoch 6/100\n",
            "347/347 [==============================] - 41s 118ms/step - loss: 0.6416 - Accuracy: 0.6553 - precision: 0.6562 - recall: 0.9928 - auc: 0.5427 - val_loss: 0.6375 - val_Accuracy: 0.6567 - val_precision: 0.6573 - val_recall: 0.9939 - val_auc: 0.5695\n",
            "Epoch 7/100\n",
            "347/347 [==============================] - 41s 117ms/step - loss: 0.6363 - Accuracy: 0.6564 - precision: 0.6590 - recall: 0.9832 - auc: 0.5728 - val_loss: 0.6378 - val_Accuracy: 0.6610 - val_precision: 0.6633 - val_recall: 0.9796 - val_auc: 0.5798\n",
            "Epoch 8/100\n",
            "347/347 [==============================] - 41s 117ms/step - loss: 0.6338 - Accuracy: 0.6592 - precision: 0.6626 - recall: 0.9754 - auc: 0.5850 - val_loss: 0.6231 - val_Accuracy: 0.6625 - val_precision: 0.6686 - val_recall: 0.9609 - val_auc: 0.6349\n",
            "Epoch 9/100\n",
            "347/347 [==============================] - 40s 116ms/step - loss: 0.6238 - Accuracy: 0.6612 - precision: 0.6639 - recall: 0.9753 - auc: 0.6226 - val_loss: 0.6112 - val_Accuracy: 0.6646 - val_precision: 0.6668 - val_recall: 0.9752 - val_auc: 0.6597\n",
            "Epoch 10/100\n",
            "347/347 [==============================] - 41s 117ms/step - loss: 0.6159 - Accuracy: 0.6639 - precision: 0.6716 - recall: 0.9507 - auc: 0.6457 - val_loss: 0.6056 - val_Accuracy: 0.6657 - val_precision: 0.6999 - val_recall: 0.8570 - val_auc: 0.6783\n",
            "Epoch 11/100\n",
            "347/347 [==============================] - 40s 116ms/step - loss: 0.6059 - Accuracy: 0.6704 - precision: 0.6885 - recall: 0.9051 - auc: 0.6676 - val_loss: 0.5927 - val_Accuracy: 0.6697 - val_precision: 0.7016 - val_recall: 0.8625 - val_auc: 0.6899\n",
            "Epoch 12/100\n",
            "347/347 [==============================] - 41s 117ms/step - loss: nan - Accuracy: 0.4203 - precision: 0.6904 - recall: 0.2050 - auc: 0.0354 - val_loss: nan - val_Accuracy: 0.3451 - val_precision: 0.0000e+00 - val_recall: 0.0000e+00 - val_auc: 0.0000e+00\n",
            "Epoch 13/100\n",
            "347/347 [==============================] - 41s 118ms/step - loss: nan - Accuracy: 0.3464 - precision: 0.0000e+00 - recall: 0.0000e+00 - auc: 0.0000e+00 - val_loss: nan - val_Accuracy: 0.3451 - val_precision: 0.0000e+00 - val_recall: 0.0000e+00 - val_auc: 0.0000e+00\n",
            "Epoch 14/100\n",
            "347/347 [==============================] - 41s 117ms/step - loss: nan - Accuracy: 0.3464 - precision: 0.0000e+00 - recall: 0.0000e+00 - auc: 0.0000e+00 - val_loss: nan - val_Accuracy: 0.3451 - val_precision: 0.0000e+00 - val_recall: 0.0000e+00 - val_auc: 0.0000e+00\n",
            "Epoch 15/100\n",
            "347/347 [==============================] - 41s 117ms/step - loss: nan - Accuracy: 0.3464 - precision: 0.0000e+00 - recall: 0.0000e+00 - auc: 0.0000e+00 - val_loss: nan - val_Accuracy: 0.3451 - val_precision: 0.0000e+00 - val_recall: 0.0000e+00 - val_auc: 0.0000e+00\n",
            "Epoch 16/100\n",
            "347/347 [==============================] - 41s 117ms/step - loss: nan - Accuracy: 0.3464 - precision: 0.0000e+00 - recall: 0.0000e+00 - auc: 0.0000e+00 - val_loss: nan - val_Accuracy: 0.3451 - val_precision: 0.0000e+00 - val_recall: 0.0000e+00 - val_auc: 0.0000e+00\n"
          ]
        }
      ]
    },
    {
      "cell_type": "code",
      "source": [
        "# Evaluation\n",
        "results_adj = model_adj.evaluate(X_test, y_test, batch_size=64)\n",
        "y_pred_adj = model_adj.predict(X_test)\n",
        "y_pred_adj = np.round(y_pred_adj).astype(int)\n",
        "\n",
        "# Confusion matrix\n",
        "cf_matrix_adj = confusion_matrix(y_test, y_pred_adj, normalize='pred')\n",
        "plot_confusion_matrix(cf_matrix_adj)\n",
        "\n",
        "# F1\n",
        "f1_score_adj = calc_f1_score(results_adj[2], results_adj[3])"
      ],
      "metadata": {
        "colab": {
          "base_uri": "https://localhost:8080/",
          "height": 594
        },
        "id": "tMLlQ-9udqVI",
        "outputId": "8f04b7c5-f520-444d-9fa6-b5396c928711"
      },
      "execution_count": null,
      "outputs": [
        {
          "output_type": "stream",
          "name": "stdout",
          "text": [
            "44/44 [==============================] - 3s 42ms/step - loss: 0.5927 - Accuracy: 0.6697 - precision: 0.7016 - recall: 0.8625 - auc: 0.6899\n",
            "87/87 [==============================] - 5s 47ms/step\n"
          ]
        },
        {
          "output_type": "display_data",
          "data": {
            "text/html": [
              "<html>\n",
              "<head><meta charset=\"utf-8\" /></head>\n",
              "<body>\n",
              "    <div>            <script src=\"https://cdnjs.cloudflare.com/ajax/libs/mathjax/2.7.5/MathJax.js?config=TeX-AMS-MML_SVG\"></script><script type=\"text/javascript\">if (window.MathJax && window.MathJax.Hub && window.MathJax.Hub.Config) {window.MathJax.Hub.Config({SVG: {font: \"STIX-Web\"}});}</script>                <script type=\"text/javascript\">window.PlotlyConfig = {MathJaxConfig: 'local'};</script>\n",
              "        <script src=\"https://cdn.plot.ly/plotly-2.18.2.min.js\"></script>                <div id=\"06b15a5f-d4b8-4513-8f6c-3c3afa55e4fb\" class=\"plotly-graph-div\" style=\"height:525px; width:100%;\"></div>            <script type=\"text/javascript\">                                    window.PLOTLYENV=window.PLOTLYENV || {};                                    if (document.getElementById(\"06b15a5f-d4b8-4513-8f6c-3c3afa55e4fb\")) {                    Plotly.newPlot(                        \"06b15a5f-d4b8-4513-8f6c-3c3afa55e4fb\",                        [{\"coloraxis\":\"coloraxis\",\"name\":\"0\",\"texttemplate\":\"%{z:.2f}\",\"z\":[[0.5378927911275416,0.29843400447427293],[0.46210720887245843,0.7015659955257271]],\"type\":\"heatmap\",\"xaxis\":\"x\",\"yaxis\":\"y\",\"hovertemplate\":\"Predicted Value: %{x}<br>True Value: %{y}<br>color: %{z}<extra></extra>\"}],                        {\"template\":{\"data\":{\"histogram2dcontour\":[{\"type\":\"histogram2dcontour\",\"colorbar\":{\"outlinewidth\":0,\"ticks\":\"\"},\"colorscale\":[[0.0,\"#0d0887\"],[0.1111111111111111,\"#46039f\"],[0.2222222222222222,\"#7201a8\"],[0.3333333333333333,\"#9c179e\"],[0.4444444444444444,\"#bd3786\"],[0.5555555555555556,\"#d8576b\"],[0.6666666666666666,\"#ed7953\"],[0.7777777777777778,\"#fb9f3a\"],[0.8888888888888888,\"#fdca26\"],[1.0,\"#f0f921\"]]}],\"choropleth\":[{\"type\":\"choropleth\",\"colorbar\":{\"outlinewidth\":0,\"ticks\":\"\"}}],\"histogram2d\":[{\"type\":\"histogram2d\",\"colorbar\":{\"outlinewidth\":0,\"ticks\":\"\"},\"colorscale\":[[0.0,\"#0d0887\"],[0.1111111111111111,\"#46039f\"],[0.2222222222222222,\"#7201a8\"],[0.3333333333333333,\"#9c179e\"],[0.4444444444444444,\"#bd3786\"],[0.5555555555555556,\"#d8576b\"],[0.6666666666666666,\"#ed7953\"],[0.7777777777777778,\"#fb9f3a\"],[0.8888888888888888,\"#fdca26\"],[1.0,\"#f0f921\"]]}],\"heatmap\":[{\"type\":\"heatmap\",\"colorbar\":{\"outlinewidth\":0,\"ticks\":\"\"},\"colorscale\":[[0.0,\"#0d0887\"],[0.1111111111111111,\"#46039f\"],[0.2222222222222222,\"#7201a8\"],[0.3333333333333333,\"#9c179e\"],[0.4444444444444444,\"#bd3786\"],[0.5555555555555556,\"#d8576b\"],[0.6666666666666666,\"#ed7953\"],[0.7777777777777778,\"#fb9f3a\"],[0.8888888888888888,\"#fdca26\"],[1.0,\"#f0f921\"]]}],\"heatmapgl\":[{\"type\":\"heatmapgl\",\"colorbar\":{\"outlinewidth\":0,\"ticks\":\"\"},\"colorscale\":[[0.0,\"#0d0887\"],[0.1111111111111111,\"#46039f\"],[0.2222222222222222,\"#7201a8\"],[0.3333333333333333,\"#9c179e\"],[0.4444444444444444,\"#bd3786\"],[0.5555555555555556,\"#d8576b\"],[0.6666666666666666,\"#ed7953\"],[0.7777777777777778,\"#fb9f3a\"],[0.8888888888888888,\"#fdca26\"],[1.0,\"#f0f921\"]]}],\"contourcarpet\":[{\"type\":\"contourcarpet\",\"colorbar\":{\"outlinewidth\":0,\"ticks\":\"\"}}],\"contour\":[{\"type\":\"contour\",\"colorbar\":{\"outlinewidth\":0,\"ticks\":\"\"},\"colorscale\":[[0.0,\"#0d0887\"],[0.1111111111111111,\"#46039f\"],[0.2222222222222222,\"#7201a8\"],[0.3333333333333333,\"#9c179e\"],[0.4444444444444444,\"#bd3786\"],[0.5555555555555556,\"#d8576b\"],[0.6666666666666666,\"#ed7953\"],[0.7777777777777778,\"#fb9f3a\"],[0.8888888888888888,\"#fdca26\"],[1.0,\"#f0f921\"]]}],\"surface\":[{\"type\":\"surface\",\"colorbar\":{\"outlinewidth\":0,\"ticks\":\"\"},\"colorscale\":[[0.0,\"#0d0887\"],[0.1111111111111111,\"#46039f\"],[0.2222222222222222,\"#7201a8\"],[0.3333333333333333,\"#9c179e\"],[0.4444444444444444,\"#bd3786\"],[0.5555555555555556,\"#d8576b\"],[0.6666666666666666,\"#ed7953\"],[0.7777777777777778,\"#fb9f3a\"],[0.8888888888888888,\"#fdca26\"],[1.0,\"#f0f921\"]]}],\"mesh3d\":[{\"type\":\"mesh3d\",\"colorbar\":{\"outlinewidth\":0,\"ticks\":\"\"}}],\"scatter\":[{\"fillpattern\":{\"fillmode\":\"overlay\",\"size\":10,\"solidity\":0.2},\"type\":\"scatter\"}],\"parcoords\":[{\"type\":\"parcoords\",\"line\":{\"colorbar\":{\"outlinewidth\":0,\"ticks\":\"\"}}}],\"scatterpolargl\":[{\"type\":\"scatterpolargl\",\"marker\":{\"colorbar\":{\"outlinewidth\":0,\"ticks\":\"\"}}}],\"bar\":[{\"error_x\":{\"color\":\"#2a3f5f\"},\"error_y\":{\"color\":\"#2a3f5f\"},\"marker\":{\"line\":{\"color\":\"#E5ECF6\",\"width\":0.5},\"pattern\":{\"fillmode\":\"overlay\",\"size\":10,\"solidity\":0.2}},\"type\":\"bar\"}],\"scattergeo\":[{\"type\":\"scattergeo\",\"marker\":{\"colorbar\":{\"outlinewidth\":0,\"ticks\":\"\"}}}],\"scatterpolar\":[{\"type\":\"scatterpolar\",\"marker\":{\"colorbar\":{\"outlinewidth\":0,\"ticks\":\"\"}}}],\"histogram\":[{\"marker\":{\"pattern\":{\"fillmode\":\"overlay\",\"size\":10,\"solidity\":0.2}},\"type\":\"histogram\"}],\"scattergl\":[{\"type\":\"scattergl\",\"marker\":{\"colorbar\":{\"outlinewidth\":0,\"ticks\":\"\"}}}],\"scatter3d\":[{\"type\":\"scatter3d\",\"line\":{\"colorbar\":{\"outlinewidth\":0,\"ticks\":\"\"}},\"marker\":{\"colorbar\":{\"outlinewidth\":0,\"ticks\":\"\"}}}],\"scattermapbox\":[{\"type\":\"scattermapbox\",\"marker\":{\"colorbar\":{\"outlinewidth\":0,\"ticks\":\"\"}}}],\"scatterternary\":[{\"type\":\"scatterternary\",\"marker\":{\"colorbar\":{\"outlinewidth\":0,\"ticks\":\"\"}}}],\"scattercarpet\":[{\"type\":\"scattercarpet\",\"marker\":{\"colorbar\":{\"outlinewidth\":0,\"ticks\":\"\"}}}],\"carpet\":[{\"aaxis\":{\"endlinecolor\":\"#2a3f5f\",\"gridcolor\":\"white\",\"linecolor\":\"white\",\"minorgridcolor\":\"white\",\"startlinecolor\":\"#2a3f5f\"},\"baxis\":{\"endlinecolor\":\"#2a3f5f\",\"gridcolor\":\"white\",\"linecolor\":\"white\",\"minorgridcolor\":\"white\",\"startlinecolor\":\"#2a3f5f\"},\"type\":\"carpet\"}],\"table\":[{\"cells\":{\"fill\":{\"color\":\"#EBF0F8\"},\"line\":{\"color\":\"white\"}},\"header\":{\"fill\":{\"color\":\"#C8D4E3\"},\"line\":{\"color\":\"white\"}},\"type\":\"table\"}],\"barpolar\":[{\"marker\":{\"line\":{\"color\":\"#E5ECF6\",\"width\":0.5},\"pattern\":{\"fillmode\":\"overlay\",\"size\":10,\"solidity\":0.2}},\"type\":\"barpolar\"}],\"pie\":[{\"automargin\":true,\"type\":\"pie\"}]},\"layout\":{\"autotypenumbers\":\"strict\",\"colorway\":[\"#636efa\",\"#EF553B\",\"#00cc96\",\"#ab63fa\",\"#FFA15A\",\"#19d3f3\",\"#FF6692\",\"#B6E880\",\"#FF97FF\",\"#FECB52\"],\"font\":{\"color\":\"#2a3f5f\"},\"hovermode\":\"closest\",\"hoverlabel\":{\"align\":\"left\"},\"paper_bgcolor\":\"white\",\"plot_bgcolor\":\"#E5ECF6\",\"polar\":{\"bgcolor\":\"#E5ECF6\",\"angularaxis\":{\"gridcolor\":\"white\",\"linecolor\":\"white\",\"ticks\":\"\"},\"radialaxis\":{\"gridcolor\":\"white\",\"linecolor\":\"white\",\"ticks\":\"\"}},\"ternary\":{\"bgcolor\":\"#E5ECF6\",\"aaxis\":{\"gridcolor\":\"white\",\"linecolor\":\"white\",\"ticks\":\"\"},\"baxis\":{\"gridcolor\":\"white\",\"linecolor\":\"white\",\"ticks\":\"\"},\"caxis\":{\"gridcolor\":\"white\",\"linecolor\":\"white\",\"ticks\":\"\"}},\"coloraxis\":{\"colorbar\":{\"outlinewidth\":0,\"ticks\":\"\"}},\"colorscale\":{\"sequential\":[[0.0,\"#0d0887\"],[0.1111111111111111,\"#46039f\"],[0.2222222222222222,\"#7201a8\"],[0.3333333333333333,\"#9c179e\"],[0.4444444444444444,\"#bd3786\"],[0.5555555555555556,\"#d8576b\"],[0.6666666666666666,\"#ed7953\"],[0.7777777777777778,\"#fb9f3a\"],[0.8888888888888888,\"#fdca26\"],[1.0,\"#f0f921\"]],\"sequentialminus\":[[0.0,\"#0d0887\"],[0.1111111111111111,\"#46039f\"],[0.2222222222222222,\"#7201a8\"],[0.3333333333333333,\"#9c179e\"],[0.4444444444444444,\"#bd3786\"],[0.5555555555555556,\"#d8576b\"],[0.6666666666666666,\"#ed7953\"],[0.7777777777777778,\"#fb9f3a\"],[0.8888888888888888,\"#fdca26\"],[1.0,\"#f0f921\"]],\"diverging\":[[0,\"#8e0152\"],[0.1,\"#c51b7d\"],[0.2,\"#de77ae\"],[0.3,\"#f1b6da\"],[0.4,\"#fde0ef\"],[0.5,\"#f7f7f7\"],[0.6,\"#e6f5d0\"],[0.7,\"#b8e186\"],[0.8,\"#7fbc41\"],[0.9,\"#4d9221\"],[1,\"#276419\"]]},\"xaxis\":{\"gridcolor\":\"white\",\"linecolor\":\"white\",\"ticks\":\"\",\"title\":{\"standoff\":15},\"zerolinecolor\":\"white\",\"automargin\":true,\"zerolinewidth\":2},\"yaxis\":{\"gridcolor\":\"white\",\"linecolor\":\"white\",\"ticks\":\"\",\"title\":{\"standoff\":15},\"zerolinecolor\":\"white\",\"automargin\":true,\"zerolinewidth\":2},\"scene\":{\"xaxis\":{\"backgroundcolor\":\"#E5ECF6\",\"gridcolor\":\"white\",\"linecolor\":\"white\",\"showbackground\":true,\"ticks\":\"\",\"zerolinecolor\":\"white\",\"gridwidth\":2},\"yaxis\":{\"backgroundcolor\":\"#E5ECF6\",\"gridcolor\":\"white\",\"linecolor\":\"white\",\"showbackground\":true,\"ticks\":\"\",\"zerolinecolor\":\"white\",\"gridwidth\":2},\"zaxis\":{\"backgroundcolor\":\"#E5ECF6\",\"gridcolor\":\"white\",\"linecolor\":\"white\",\"showbackground\":true,\"ticks\":\"\",\"zerolinecolor\":\"white\",\"gridwidth\":2}},\"shapedefaults\":{\"line\":{\"color\":\"#2a3f5f\"}},\"annotationdefaults\":{\"arrowcolor\":\"#2a3f5f\",\"arrowhead\":0,\"arrowwidth\":1},\"geo\":{\"bgcolor\":\"white\",\"landcolor\":\"#E5ECF6\",\"subunitcolor\":\"white\",\"showland\":true,\"showlakes\":true,\"lakecolor\":\"white\"},\"title\":{\"x\":0.05},\"mapbox\":{\"style\":\"light\"}}},\"xaxis\":{\"anchor\":\"y\",\"domain\":[0.0,1.0],\"scaleanchor\":\"y\",\"constrain\":\"domain\",\"title\":{\"text\":\"Predicted Value\"},\"tickvals\":[\"\",\"0\",\"\",\"1\",\"\"]},\"yaxis\":{\"anchor\":\"x\",\"domain\":[0.0,1.0],\"autorange\":\"reversed\",\"constrain\":\"domain\",\"title\":{\"text\":\"True Value\"},\"tickvals\":[\"\",\"0\",\"\",\"1\",\"\"]},\"coloraxis\":{\"colorscale\":[[0.0,\"rgb(5,48,97)\"],[0.1,\"rgb(33,102,172)\"],[0.2,\"rgb(67,147,195)\"],[0.3,\"rgb(146,197,222)\"],[0.4,\"rgb(209,229,240)\"],[0.5,\"rgb(247,247,247)\"],[0.6,\"rgb(253,219,199)\"],[0.7,\"rgb(244,165,130)\"],[0.8,\"rgb(214,96,77)\"],[0.9,\"rgb(178,24,43)\"],[1.0,\"rgb(103,0,31)\"]]},\"margin\":{\"t\":60}},                        {\"responsive\": true}                    ).then(function(){\n",
              "                            \n",
              "var gd = document.getElementById('06b15a5f-d4b8-4513-8f6c-3c3afa55e4fb');\n",
              "var x = new MutationObserver(function (mutations, observer) {{\n",
              "        var display = window.getComputedStyle(gd).display;\n",
              "        if (!display || display === 'none') {{\n",
              "            console.log([gd, 'removed!']);\n",
              "            Plotly.purge(gd);\n",
              "            observer.disconnect();\n",
              "        }}\n",
              "}});\n",
              "\n",
              "// Listen for the removal of the full notebook cells\n",
              "var notebookContainer = gd.closest('#notebook-container');\n",
              "if (notebookContainer) {{\n",
              "    x.observe(notebookContainer, {childList: true});\n",
              "}}\n",
              "\n",
              "// Listen for the clearing of the current output cell\n",
              "var outputEl = gd.closest('.output');\n",
              "if (outputEl) {{\n",
              "    x.observe(outputEl, {childList: true});\n",
              "}}\n",
              "\n",
              "                        })                };                            </script>        </div>\n",
              "</body>\n",
              "</html>"
            ]
          },
          "metadata": {}
        },
        {
          "output_type": "stream",
          "name": "stdout",
          "text": [
            "F1 Score: 77.37%\n"
          ]
        }
      ]
    },
    {
      "cell_type": "markdown",
      "source": [
        "Try merging static features with sequential model"
      ],
      "metadata": {
        "id": "HSKxVEAOg2pC"
      }
    },
    {
      "cell_type": "code",
      "source": [
        "helpful_df[['num_sent', 'max_sent_len', 'mean_sent_len', 'ner_len']]"
      ],
      "metadata": {
        "colab": {
          "base_uri": "https://localhost:8080/",
          "height": 424
        },
        "id": "UuncEzPRhBH5",
        "outputId": "a3112ac4-e557-4724-b4f7-4ab5b7b5c928"
      },
      "execution_count": null,
      "outputs": [
        {
          "output_type": "execute_result",
          "data": {
            "text/plain": [
              "        num_sent  max_sent_len  mean_sent_len  ner_len\n",
              "32            11            47      21.090909        8\n",
              "33             5            37      20.800000        3\n",
              "82            25            47      20.440000        4\n",
              "158            4            72      27.250000        5\n",
              "213           21            49      19.523810       10\n",
              "...          ...           ...            ...      ...\n",
              "568253         8            52      31.875000       19\n",
              "568274        11            61      21.818182        3\n",
              "568275         9            57      33.222222       11\n",
              "568324         6            32      16.666667        0\n",
              "568436         2            23      19.000000        0\n",
              "\n",
              "[24982 rows x 4 columns]"
            ],
            "text/html": [
              "\n",
              "  <div id=\"df-d8d40997-ea53-4313-a75a-7b50d254f463\">\n",
              "    <div class=\"colab-df-container\">\n",
              "      <div>\n",
              "<style scoped>\n",
              "    .dataframe tbody tr th:only-of-type {\n",
              "        vertical-align: middle;\n",
              "    }\n",
              "\n",
              "    .dataframe tbody tr th {\n",
              "        vertical-align: top;\n",
              "    }\n",
              "\n",
              "    .dataframe thead th {\n",
              "        text-align: right;\n",
              "    }\n",
              "</style>\n",
              "<table border=\"1\" class=\"dataframe\">\n",
              "  <thead>\n",
              "    <tr style=\"text-align: right;\">\n",
              "      <th></th>\n",
              "      <th>num_sent</th>\n",
              "      <th>max_sent_len</th>\n",
              "      <th>mean_sent_len</th>\n",
              "      <th>ner_len</th>\n",
              "    </tr>\n",
              "  </thead>\n",
              "  <tbody>\n",
              "    <tr>\n",
              "      <th>32</th>\n",
              "      <td>11</td>\n",
              "      <td>47</td>\n",
              "      <td>21.090909</td>\n",
              "      <td>8</td>\n",
              "    </tr>\n",
              "    <tr>\n",
              "      <th>33</th>\n",
              "      <td>5</td>\n",
              "      <td>37</td>\n",
              "      <td>20.800000</td>\n",
              "      <td>3</td>\n",
              "    </tr>\n",
              "    <tr>\n",
              "      <th>82</th>\n",
              "      <td>25</td>\n",
              "      <td>47</td>\n",
              "      <td>20.440000</td>\n",
              "      <td>4</td>\n",
              "    </tr>\n",
              "    <tr>\n",
              "      <th>158</th>\n",
              "      <td>4</td>\n",
              "      <td>72</td>\n",
              "      <td>27.250000</td>\n",
              "      <td>5</td>\n",
              "    </tr>\n",
              "    <tr>\n",
              "      <th>213</th>\n",
              "      <td>21</td>\n",
              "      <td>49</td>\n",
              "      <td>19.523810</td>\n",
              "      <td>10</td>\n",
              "    </tr>\n",
              "    <tr>\n",
              "      <th>...</th>\n",
              "      <td>...</td>\n",
              "      <td>...</td>\n",
              "      <td>...</td>\n",
              "      <td>...</td>\n",
              "    </tr>\n",
              "    <tr>\n",
              "      <th>568253</th>\n",
              "      <td>8</td>\n",
              "      <td>52</td>\n",
              "      <td>31.875000</td>\n",
              "      <td>19</td>\n",
              "    </tr>\n",
              "    <tr>\n",
              "      <th>568274</th>\n",
              "      <td>11</td>\n",
              "      <td>61</td>\n",
              "      <td>21.818182</td>\n",
              "      <td>3</td>\n",
              "    </tr>\n",
              "    <tr>\n",
              "      <th>568275</th>\n",
              "      <td>9</td>\n",
              "      <td>57</td>\n",
              "      <td>33.222222</td>\n",
              "      <td>11</td>\n",
              "    </tr>\n",
              "    <tr>\n",
              "      <th>568324</th>\n",
              "      <td>6</td>\n",
              "      <td>32</td>\n",
              "      <td>16.666667</td>\n",
              "      <td>0</td>\n",
              "    </tr>\n",
              "    <tr>\n",
              "      <th>568436</th>\n",
              "      <td>2</td>\n",
              "      <td>23</td>\n",
              "      <td>19.000000</td>\n",
              "      <td>0</td>\n",
              "    </tr>\n",
              "  </tbody>\n",
              "</table>\n",
              "<p>24982 rows × 4 columns</p>\n",
              "</div>\n",
              "      <button class=\"colab-df-convert\" onclick=\"convertToInteractive('df-d8d40997-ea53-4313-a75a-7b50d254f463')\"\n",
              "              title=\"Convert this dataframe to an interactive table.\"\n",
              "              style=\"display:none;\">\n",
              "        \n",
              "  <svg xmlns=\"http://www.w3.org/2000/svg\" height=\"24px\"viewBox=\"0 0 24 24\"\n",
              "       width=\"24px\">\n",
              "    <path d=\"M0 0h24v24H0V0z\" fill=\"none\"/>\n",
              "    <path d=\"M18.56 5.44l.94 2.06.94-2.06 2.06-.94-2.06-.94-.94-2.06-.94 2.06-2.06.94zm-11 1L8.5 8.5l.94-2.06 2.06-.94-2.06-.94L8.5 2.5l-.94 2.06-2.06.94zm10 10l.94 2.06.94-2.06 2.06-.94-2.06-.94-.94-2.06-.94 2.06-2.06.94z\"/><path d=\"M17.41 7.96l-1.37-1.37c-.4-.4-.92-.59-1.43-.59-.52 0-1.04.2-1.43.59L10.3 9.45l-7.72 7.72c-.78.78-.78 2.05 0 2.83L4 21.41c.39.39.9.59 1.41.59.51 0 1.02-.2 1.41-.59l7.78-7.78 2.81-2.81c.8-.78.8-2.07 0-2.86zM5.41 20L4 18.59l7.72-7.72 1.47 1.35L5.41 20z\"/>\n",
              "  </svg>\n",
              "      </button>\n",
              "      \n",
              "  <style>\n",
              "    .colab-df-container {\n",
              "      display:flex;\n",
              "      flex-wrap:wrap;\n",
              "      gap: 12px;\n",
              "    }\n",
              "\n",
              "    .colab-df-convert {\n",
              "      background-color: #E8F0FE;\n",
              "      border: none;\n",
              "      border-radius: 50%;\n",
              "      cursor: pointer;\n",
              "      display: none;\n",
              "      fill: #1967D2;\n",
              "      height: 32px;\n",
              "      padding: 0 0 0 0;\n",
              "      width: 32px;\n",
              "    }\n",
              "\n",
              "    .colab-df-convert:hover {\n",
              "      background-color: #E2EBFA;\n",
              "      box-shadow: 0px 1px 2px rgba(60, 64, 67, 0.3), 0px 1px 3px 1px rgba(60, 64, 67, 0.15);\n",
              "      fill: #174EA6;\n",
              "    }\n",
              "\n",
              "    [theme=dark] .colab-df-convert {\n",
              "      background-color: #3B4455;\n",
              "      fill: #D2E3FC;\n",
              "    }\n",
              "\n",
              "    [theme=dark] .colab-df-convert:hover {\n",
              "      background-color: #434B5C;\n",
              "      box-shadow: 0px 1px 3px 1px rgba(0, 0, 0, 0.15);\n",
              "      filter: drop-shadow(0px 1px 2px rgba(0, 0, 0, 0.3));\n",
              "      fill: #FFFFFF;\n",
              "    }\n",
              "  </style>\n",
              "\n",
              "      <script>\n",
              "        const buttonEl =\n",
              "          document.querySelector('#df-d8d40997-ea53-4313-a75a-7b50d254f463 button.colab-df-convert');\n",
              "        buttonEl.style.display =\n",
              "          google.colab.kernel.accessAllowed ? 'block' : 'none';\n",
              "\n",
              "        async function convertToInteractive(key) {\n",
              "          const element = document.querySelector('#df-d8d40997-ea53-4313-a75a-7b50d254f463');\n",
              "          const dataTable =\n",
              "            await google.colab.kernel.invokeFunction('convertToInteractive',\n",
              "                                                     [key], {});\n",
              "          if (!dataTable) return;\n",
              "\n",
              "          const docLinkHtml = 'Like what you see? Visit the ' +\n",
              "            '<a target=\"_blank\" href=https://colab.research.google.com/notebooks/data_table.ipynb>data table notebook</a>'\n",
              "            + ' to learn more about interactive tables.';\n",
              "          element.innerHTML = '';\n",
              "          dataTable['output_type'] = 'display_data';\n",
              "          await google.colab.output.renderOutput(dataTable, element);\n",
              "          const docLink = document.createElement('div');\n",
              "          docLink.innerHTML = docLinkHtml;\n",
              "          element.appendChild(docLink);\n",
              "        }\n",
              "      </script>\n",
              "    </div>\n",
              "  </div>\n",
              "  "
            ]
          },
          "metadata": {},
          "execution_count": 53
        }
      ]
    },
    {
      "cell_type": "code",
      "source": [
        "from sklearn.preprocessing import StandardScaler\n",
        "scaler = StandardScaler()\n",
        "stats = scaler.fit_transform(helpful_df[['num_sent', 'max_sent_len', 'mean_sent_len', 'ner_len']])"
      ],
      "metadata": {
        "id": "WBGUb_MevBt-"
      },
      "execution_count": null,
      "outputs": []
    },
    {
      "cell_type": "code",
      "source": [
        "stats_df = pd.DataFrame(data=stats, index=helpful_df.index, columns=['num_sent', 'max_sent_len', 'mean_sent_len', 'ner_len'])\n",
        "stats_df.head() "
      ],
      "metadata": {
        "colab": {
          "base_uri": "https://localhost:8080/",
          "height": 206
        },
        "id": "j5ITx9HAxmKY",
        "outputId": "04c389eb-603b-4c6d-fb2b-97a2f795cb05"
      },
      "execution_count": null,
      "outputs": [
        {
          "output_type": "execute_result",
          "data": {
            "text/plain": [
              "     num_sent  max_sent_len  mean_sent_len   ner_len\n",
              "32   0.305332      0.533664       0.220676  0.249250\n",
              "33  -0.413990      0.035300       0.183449 -0.360715\n",
              "82   1.983749      0.533664       0.137380 -0.238722\n",
              "158 -0.533876      1.779573       1.008844 -0.116729\n",
              "213  1.504202      0.633336       0.020137  0.493236"
            ],
            "text/html": [
              "\n",
              "  <div id=\"df-a24cb9e2-41d5-4ef9-8091-d5e57bebf495\">\n",
              "    <div class=\"colab-df-container\">\n",
              "      <div>\n",
              "<style scoped>\n",
              "    .dataframe tbody tr th:only-of-type {\n",
              "        vertical-align: middle;\n",
              "    }\n",
              "\n",
              "    .dataframe tbody tr th {\n",
              "        vertical-align: top;\n",
              "    }\n",
              "\n",
              "    .dataframe thead th {\n",
              "        text-align: right;\n",
              "    }\n",
              "</style>\n",
              "<table border=\"1\" class=\"dataframe\">\n",
              "  <thead>\n",
              "    <tr style=\"text-align: right;\">\n",
              "      <th></th>\n",
              "      <th>num_sent</th>\n",
              "      <th>max_sent_len</th>\n",
              "      <th>mean_sent_len</th>\n",
              "      <th>ner_len</th>\n",
              "    </tr>\n",
              "  </thead>\n",
              "  <tbody>\n",
              "    <tr>\n",
              "      <th>32</th>\n",
              "      <td>0.305332</td>\n",
              "      <td>0.533664</td>\n",
              "      <td>0.220676</td>\n",
              "      <td>0.249250</td>\n",
              "    </tr>\n",
              "    <tr>\n",
              "      <th>33</th>\n",
              "      <td>-0.413990</td>\n",
              "      <td>0.035300</td>\n",
              "      <td>0.183449</td>\n",
              "      <td>-0.360715</td>\n",
              "    </tr>\n",
              "    <tr>\n",
              "      <th>82</th>\n",
              "      <td>1.983749</td>\n",
              "      <td>0.533664</td>\n",
              "      <td>0.137380</td>\n",
              "      <td>-0.238722</td>\n",
              "    </tr>\n",
              "    <tr>\n",
              "      <th>158</th>\n",
              "      <td>-0.533876</td>\n",
              "      <td>1.779573</td>\n",
              "      <td>1.008844</td>\n",
              "      <td>-0.116729</td>\n",
              "    </tr>\n",
              "    <tr>\n",
              "      <th>213</th>\n",
              "      <td>1.504202</td>\n",
              "      <td>0.633336</td>\n",
              "      <td>0.020137</td>\n",
              "      <td>0.493236</td>\n",
              "    </tr>\n",
              "  </tbody>\n",
              "</table>\n",
              "</div>\n",
              "      <button class=\"colab-df-convert\" onclick=\"convertToInteractive('df-a24cb9e2-41d5-4ef9-8091-d5e57bebf495')\"\n",
              "              title=\"Convert this dataframe to an interactive table.\"\n",
              "              style=\"display:none;\">\n",
              "        \n",
              "  <svg xmlns=\"http://www.w3.org/2000/svg\" height=\"24px\"viewBox=\"0 0 24 24\"\n",
              "       width=\"24px\">\n",
              "    <path d=\"M0 0h24v24H0V0z\" fill=\"none\"/>\n",
              "    <path d=\"M18.56 5.44l.94 2.06.94-2.06 2.06-.94-2.06-.94-.94-2.06-.94 2.06-2.06.94zm-11 1L8.5 8.5l.94-2.06 2.06-.94-2.06-.94L8.5 2.5l-.94 2.06-2.06.94zm10 10l.94 2.06.94-2.06 2.06-.94-2.06-.94-.94-2.06-.94 2.06-2.06.94z\"/><path d=\"M17.41 7.96l-1.37-1.37c-.4-.4-.92-.59-1.43-.59-.52 0-1.04.2-1.43.59L10.3 9.45l-7.72 7.72c-.78.78-.78 2.05 0 2.83L4 21.41c.39.39.9.59 1.41.59.51 0 1.02-.2 1.41-.59l7.78-7.78 2.81-2.81c.8-.78.8-2.07 0-2.86zM5.41 20L4 18.59l7.72-7.72 1.47 1.35L5.41 20z\"/>\n",
              "  </svg>\n",
              "      </button>\n",
              "      \n",
              "  <style>\n",
              "    .colab-df-container {\n",
              "      display:flex;\n",
              "      flex-wrap:wrap;\n",
              "      gap: 12px;\n",
              "    }\n",
              "\n",
              "    .colab-df-convert {\n",
              "      background-color: #E8F0FE;\n",
              "      border: none;\n",
              "      border-radius: 50%;\n",
              "      cursor: pointer;\n",
              "      display: none;\n",
              "      fill: #1967D2;\n",
              "      height: 32px;\n",
              "      padding: 0 0 0 0;\n",
              "      width: 32px;\n",
              "    }\n",
              "\n",
              "    .colab-df-convert:hover {\n",
              "      background-color: #E2EBFA;\n",
              "      box-shadow: 0px 1px 2px rgba(60, 64, 67, 0.3), 0px 1px 3px 1px rgba(60, 64, 67, 0.15);\n",
              "      fill: #174EA6;\n",
              "    }\n",
              "\n",
              "    [theme=dark] .colab-df-convert {\n",
              "      background-color: #3B4455;\n",
              "      fill: #D2E3FC;\n",
              "    }\n",
              "\n",
              "    [theme=dark] .colab-df-convert:hover {\n",
              "      background-color: #434B5C;\n",
              "      box-shadow: 0px 1px 3px 1px rgba(0, 0, 0, 0.15);\n",
              "      filter: drop-shadow(0px 1px 2px rgba(0, 0, 0, 0.3));\n",
              "      fill: #FFFFFF;\n",
              "    }\n",
              "  </style>\n",
              "\n",
              "      <script>\n",
              "        const buttonEl =\n",
              "          document.querySelector('#df-a24cb9e2-41d5-4ef9-8091-d5e57bebf495 button.colab-df-convert');\n",
              "        buttonEl.style.display =\n",
              "          google.colab.kernel.accessAllowed ? 'block' : 'none';\n",
              "\n",
              "        async function convertToInteractive(key) {\n",
              "          const element = document.querySelector('#df-a24cb9e2-41d5-4ef9-8091-d5e57bebf495');\n",
              "          const dataTable =\n",
              "            await google.colab.kernel.invokeFunction('convertToInteractive',\n",
              "                                                     [key], {});\n",
              "          if (!dataTable) return;\n",
              "\n",
              "          const docLinkHtml = 'Like what you see? Visit the ' +\n",
              "            '<a target=\"_blank\" href=https://colab.research.google.com/notebooks/data_table.ipynb>data table notebook</a>'\n",
              "            + ' to learn more about interactive tables.';\n",
              "          element.innerHTML = '';\n",
              "          dataTable['output_type'] = 'display_data';\n",
              "          await google.colab.output.renderOutput(dataTable, element);\n",
              "          const docLink = document.createElement('div');\n",
              "          docLink.innerHTML = docLinkHtml;\n",
              "          element.appendChild(docLink);\n",
              "        }\n",
              "      </script>\n",
              "    </div>\n",
              "  </div>\n",
              "  "
            ]
          },
          "metadata": {},
          "execution_count": 100
        }
      ]
    },
    {
      "cell_type": "code",
      "source": [
        "# Create stacked model\n",
        "\n",
        "# Parameters\n",
        "optimizer_stack = tf.keras.optimizers.Adam(learning_rate=0.001)\n",
        "early_stop_stack = tf.keras.callbacks.EarlyStopping(monitor='val_loss', min_delta=0, patience=5, restore_best_weights=True)\n",
        "input_shape = (X_train.shape[1], 1)\n",
        "metrics = ['Accuracy', 'Precision', 'Recall', 'AUC']\n",
        "\n",
        "# Architecture\n",
        "with tpu_strategy.scope():\n",
        "  stats_input = Input(shape=(stats.shape[1], ), name='Static Input')\n",
        "  stats_model = Dense(32, activation='relu', name='Layer1-32')(stats_input)\n",
        "  stats_model = Dropout(0.2, name='Dropout1-20')(stats_model)\n",
        "  stats_model = Dense(32, activation='relu', name='Layer2-32')(stats_model)\n",
        "\n",
        "  text_input = Input(shape=input_shape, name='Embeddings Input')\n",
        "  text_model = Bidirectional(GRU(128, activation='relu', return_sequences=True, name='Layer3-128'), name='Bidirectional1')(text_input)\n",
        "  text_model = Dropout(0.2, name='Dropout2-20')(text_model)\n",
        "  text_model = Bidirectional(GRU(128, activation='relu', name='Layer4-128'), name='Bidirectional2')(text_model)\n",
        "\n",
        "  merged_model = concatenate([stats_model, text_model], axis=1, name='Merged')\n",
        "  merged_pred = Dropout(0.2, name='Dropout3-20')(merged_model)\n",
        "  merged_pred = Dense(32, activation='relu', name='Layer5-32')(merged_pred)\n",
        "  merged_pred = Dropout(0.2, name='Dropout4-20')(merged_pred)\n",
        "  merged_pred = Dense(1, activation='sigmoid', name='Prediction')(merged_pred)\n",
        "\n",
        "  final_model = Model(inputs=[stats_input, text_input], outputs=[merged_pred])\n",
        "  final_model.compile(loss='binary_crossentropy', optimizer=optimizer_stack, metrics=metrics)\n",
        "\n",
        "final_model.summary()"
      ],
      "metadata": {
        "colab": {
          "base_uri": "https://localhost:8080/"
        },
        "id": "mWpw7ADR2iMe",
        "outputId": "1be3073c-5c35-4ff4-98a1-01fb83e74fd7"
      },
      "execution_count": null,
      "outputs": [
        {
          "output_type": "stream",
          "name": "stdout",
          "text": [
            "Model: \"model\"\n",
            "__________________________________________________________________________________________________\n",
            " Layer (type)                   Output Shape         Param #     Connected to                     \n",
            "==================================================================================================\n",
            " Static Input (InputLayer)      [(None, 4)]          0           []                               \n",
            "                                                                                                  \n",
            " Embeddings Input (InputLayer)  [(None, 300, 1)]     0           []                               \n",
            "                                                                                                  \n",
            " Layer1-32 (Dense)              (None, 32)           160         ['Static Input[0][0]']           \n",
            "                                                                                                  \n",
            " Bidirectional1 (Bidirectional)  (None, 300, 256)    100608      ['Embeddings Input[0][0]']       \n",
            "                                                                                                  \n",
            " Dropout1-20 (Dropout)          (None, 32)           0           ['Layer1-32[0][0]']              \n",
            "                                                                                                  \n",
            " Dropout2-20 (Dropout)          (None, 300, 256)     0           ['Bidirectional1[0][0]']         \n",
            "                                                                                                  \n",
            " Layer2-32 (Dense)              (None, 32)           1056        ['Dropout1-20[0][0]']            \n",
            "                                                                                                  \n",
            " Bidirectional2 (Bidirectional)  (None, 256)         296448      ['Dropout2-20[0][0]']            \n",
            "                                                                                                  \n",
            " Merged (Concatenate)           (None, 288)          0           ['Layer2-32[0][0]',              \n",
            "                                                                  'Bidirectional2[0][0]']         \n",
            "                                                                                                  \n",
            " Dropout3-20 (Dropout)          (None, 288)          0           ['Merged[0][0]']                 \n",
            "                                                                                                  \n",
            " Layer5-32 (Dense)              (None, 32)           9248        ['Dropout3-20[0][0]']            \n",
            "                                                                                                  \n",
            " Dropout4-20 (Dropout)          (None, 32)           0           ['Layer5-32[0][0]']              \n",
            "                                                                                                  \n",
            " Prediction (Dense)             (None, 1)            33          ['Dropout4-20[0][0]']            \n",
            "                                                                                                  \n",
            "==================================================================================================\n",
            "Total params: 407,553\n",
            "Trainable params: 407,553\n",
            "Non-trainable params: 0\n",
            "__________________________________________________________________________________________________\n"
          ]
        }
      ]
    },
    {
      "cell_type": "code",
      "source": [
        "# Train-test split of stats data to line up with existing vectorised data\n",
        "X_stats_train = stats_df.loc[X_train.index]\n",
        "X_stats_val = stats_df.loc[X_val.index]\n",
        "X_stats_test = stats_df.loc[X_test.index]"
      ],
      "metadata": {
        "id": "NvV8eIqvcDwZ"
      },
      "execution_count": null,
      "outputs": []
    },
    {
      "cell_type": "code",
      "source": [
        "# Fit model\n",
        "# Run-time approx. 27 mins\n",
        "history_final = final_model.fit([X_stats_train, X_train], y_train, \n",
        "                                validation_data=([X_stats_val, X_val], y_val), \n",
        "                                epochs=100, batch_size=64, \n",
        "                                callbacks=[early_stop_stack])"
      ],
      "metadata": {
        "colab": {
          "base_uri": "https://localhost:8080/"
        },
        "id": "yvFu4qGL8Ifo",
        "outputId": "d6b664be-ff65-49bf-eb82-0e5982aef1b5"
      },
      "execution_count": null,
      "outputs": [
        {
          "output_type": "stream",
          "name": "stdout",
          "text": [
            "Epoch 1/100\n",
            "347/347 [==============================] - 61s 135ms/step - loss: 0.6313 - Accuracy: 0.6581 - precision: 0.6654 - recall: 0.9590 - auc: 0.6022 - val_loss: 0.6046 - val_Accuracy: 0.6826 - val_precision: 0.6964 - val_recall: 0.9136 - val_auc: 0.6686\n",
            "Epoch 2/100\n",
            "347/347 [==============================] - 42s 121ms/step - loss: 0.5973 - Accuracy: 0.6893 - precision: 0.7065 - recall: 0.8975 - auc: 0.6823 - val_loss: 0.5842 - val_Accuracy: 0.6855 - val_precision: 0.6970 - val_recall: 0.9197 - val_auc: 0.7107\n",
            "Epoch 3/100\n",
            "347/347 [==============================] - 41s 119ms/step - loss: 0.5840 - Accuracy: 0.6969 - precision: 0.7184 - recall: 0.8820 - auc: 0.7075 - val_loss: 0.5747 - val_Accuracy: 0.6999 - val_precision: 0.7159 - val_recall: 0.8982 - val_auc: 0.7213\n",
            "Epoch 4/100\n",
            "347/347 [==============================] - 41s 119ms/step - loss: 0.5761 - Accuracy: 0.7013 - precision: 0.7253 - recall: 0.8740 - auc: 0.7182 - val_loss: 0.5689 - val_Accuracy: 0.6978 - val_precision: 0.7113 - val_recall: 0.9065 - val_auc: 0.7318\n",
            "Epoch 5/100\n",
            "347/347 [==============================] - 41s 118ms/step - loss: 0.5722 - Accuracy: 0.7073 - precision: 0.7274 - recall: 0.8831 - auc: 0.7243 - val_loss: 0.5664 - val_Accuracy: 0.6956 - val_precision: 0.7118 - val_recall: 0.8993 - val_auc: 0.7353\n",
            "Epoch 6/100\n",
            "347/347 [==============================] - 41s 118ms/step - loss: 0.5670 - Accuracy: 0.7093 - precision: 0.7298 - recall: 0.8816 - auc: 0.7308 - val_loss: 0.5616 - val_Accuracy: 0.7028 - val_precision: 0.7254 - val_recall: 0.8790 - val_auc: 0.7437\n",
            "Epoch 7/100\n",
            "347/347 [==============================] - 41s 118ms/step - loss: 0.5559 - Accuracy: 0.7157 - precision: 0.7409 - recall: 0.8687 - auc: 0.7468 - val_loss: 0.5489 - val_Accuracy: 0.7187 - val_precision: 0.7466 - val_recall: 0.8636 - val_auc: 0.7570\n",
            "Epoch 8/100\n",
            "347/347 [==============================] - 41s 119ms/step - loss: 0.5490 - Accuracy: 0.7221 - precision: 0.7462 - recall: 0.8710 - auc: 0.7555 - val_loss: 0.5460 - val_Accuracy: 0.7133 - val_precision: 0.7420 - val_recall: 0.8619 - val_auc: 0.7586\n",
            "Epoch 9/100\n",
            "347/347 [==============================] - 41s 118ms/step - loss: 0.5453 - Accuracy: 0.7260 - precision: 0.7513 - recall: 0.8682 - auc: 0.7600 - val_loss: 0.5487 - val_Accuracy: 0.7179 - val_precision: 0.7305 - val_recall: 0.9021 - val_auc: 0.7605\n",
            "Epoch 10/100\n",
            "347/347 [==============================] - 41s 118ms/step - loss: 0.5412 - Accuracy: 0.7312 - precision: 0.7554 - recall: 0.8706 - auc: 0.7646 - val_loss: 0.5443 - val_Accuracy: 0.7233 - val_precision: 0.7483 - val_recall: 0.8702 - val_auc: 0.7625\n",
            "Epoch 11/100\n",
            "347/347 [==============================] - 41s 119ms/step - loss: 0.5351 - Accuracy: 0.7332 - precision: 0.7590 - recall: 0.8673 - auc: 0.7711 - val_loss: 0.5374 - val_Accuracy: 0.7223 - val_precision: 0.7431 - val_recall: 0.8801 - val_auc: 0.7706\n",
            "Epoch 12/100\n",
            "347/347 [==============================] - 41s 118ms/step - loss: 0.5281 - Accuracy: 0.7407 - precision: 0.7648 - recall: 0.8713 - auc: 0.7799 - val_loss: 0.5509 - val_Accuracy: 0.7212 - val_precision: 0.7724 - val_recall: 0.8141 - val_auc: 0.7660\n",
            "Epoch 13/100\n",
            "347/347 [==============================] - 41s 118ms/step - loss: 0.5230 - Accuracy: 0.7429 - precision: 0.7690 - recall: 0.8672 - auc: 0.7855 - val_loss: 0.5492 - val_Accuracy: 0.7280 - val_precision: 0.7770 - val_recall: 0.8201 - val_auc: 0.7746\n",
            "Epoch 14/100\n",
            "347/347 [==============================] - 41s 119ms/step - loss: 0.5157 - Accuracy: 0.7469 - precision: 0.7721 - recall: 0.8694 - auc: 0.7922 - val_loss: 0.5367 - val_Accuracy: 0.7345 - val_precision: 0.7546 - val_recall: 0.8812 - val_auc: 0.7728\n",
            "Epoch 15/100\n",
            "347/347 [==============================] - 41s 118ms/step - loss: 0.5111 - Accuracy: 0.7512 - precision: 0.7742 - recall: 0.8744 - auc: 0.7987 - val_loss: 0.5345 - val_Accuracy: 0.7370 - val_precision: 0.7549 - val_recall: 0.8861 - val_auc: 0.7817\n",
            "Epoch 16/100\n",
            "347/347 [==============================] - 42s 122ms/step - loss: 0.5008 - Accuracy: 0.7578 - precision: 0.7817 - recall: 0.8733 - auc: 0.8078 - val_loss: 0.5292 - val_Accuracy: 0.7396 - val_precision: 0.7865 - val_recall: 0.8267 - val_auc: 0.7832\n",
            "Epoch 17/100\n",
            "347/347 [==============================] - 41s 117ms/step - loss: 0.4954 - Accuracy: 0.7596 - precision: 0.7866 - recall: 0.8674 - auc: 0.8122 - val_loss: 0.5297 - val_Accuracy: 0.7388 - val_precision: 0.7522 - val_recall: 0.8966 - val_auc: 0.7891\n",
            "Epoch 18/100\n",
            "347/347 [==============================] - 41s 118ms/step - loss: 0.4906 - Accuracy: 0.7623 - precision: 0.7865 - recall: 0.8734 - auc: 0.8159 - val_loss: 0.5179 - val_Accuracy: 0.7522 - val_precision: 0.7848 - val_recall: 0.8564 - val_auc: 0.7955\n",
            "Epoch 19/100\n",
            "347/347 [==============================] - 41s 118ms/step - loss: 0.4816 - Accuracy: 0.7728 - precision: 0.7951 - recall: 0.8789 - auc: 0.8253 - val_loss: 0.5170 - val_Accuracy: 0.7594 - val_precision: 0.7770 - val_recall: 0.8872 - val_auc: 0.7983\n",
            "Epoch 20/100\n",
            "347/347 [==============================] - 41s 119ms/step - loss: 0.4729 - Accuracy: 0.7773 - precision: 0.7980 - recall: 0.8827 - auc: 0.8327 - val_loss: 0.5058 - val_Accuracy: 0.7612 - val_precision: 0.7997 - val_recall: 0.8476 - val_auc: 0.8051\n",
            "Epoch 21/100\n",
            "347/347 [==============================] - 41s 119ms/step - loss: 0.4624 - Accuracy: 0.7835 - precision: 0.8049 - recall: 0.8828 - auc: 0.8408 - val_loss: 0.5091 - val_Accuracy: 0.7640 - val_precision: 0.8015 - val_recall: 0.8504 - val_auc: 0.8072\n",
            "Epoch 22/100\n",
            "347/347 [==============================] - 41s 118ms/step - loss: 0.4511 - Accuracy: 0.7881 - precision: 0.8102 - recall: 0.8826 - auc: 0.8496 - val_loss: 0.5243 - val_Accuracy: 0.7576 - val_precision: 0.7735 - val_recall: 0.8905 - val_auc: 0.8037\n",
            "Epoch 23/100\n",
            "347/347 [==============================] - 41s 117ms/step - loss: 0.4500 - Accuracy: 0.7897 - precision: 0.8111 - recall: 0.8841 - auc: 0.8505 - val_loss: 0.5043 - val_Accuracy: 0.7691 - val_precision: 0.7906 - val_recall: 0.8806 - val_auc: 0.8159\n",
            "Epoch 24/100\n",
            "347/347 [==============================] - 41s 118ms/step - loss: 0.4384 - Accuracy: 0.7999 - precision: 0.8214 - recall: 0.8866 - auc: 0.8588 - val_loss: 0.5063 - val_Accuracy: 0.7662 - val_precision: 0.7785 - val_recall: 0.8988 - val_auc: 0.8117\n",
            "Epoch 25/100\n",
            "347/347 [==============================] - 41s 118ms/step - loss: 0.4279 - Accuracy: 0.8059 - precision: 0.8254 - recall: 0.8917 - auc: 0.8661 - val_loss: 0.4911 - val_Accuracy: 0.7770 - val_precision: 0.8014 - val_recall: 0.8768 - val_auc: 0.8219\n",
            "Epoch 26/100\n",
            "347/347 [==============================] - 41s 117ms/step - loss: 0.4218 - Accuracy: 0.8078 - precision: 0.8272 - recall: 0.8925 - auc: 0.8699 - val_loss: 0.4887 - val_Accuracy: 0.7803 - val_precision: 0.7990 - val_recall: 0.8878 - val_auc: 0.8231\n",
            "Epoch 27/100\n",
            "347/347 [==============================] - 41s 118ms/step - loss: 0.4146 - Accuracy: 0.8125 - precision: 0.8306 - recall: 0.8958 - auc: 0.8749 - val_loss: 0.5038 - val_Accuracy: 0.7839 - val_precision: 0.7936 - val_recall: 0.9054 - val_auc: 0.8220\n",
            "Epoch 28/100\n",
            "347/347 [==============================] - 41s 118ms/step - loss: 0.3981 - Accuracy: 0.8236 - precision: 0.8423 - recall: 0.8982 - auc: 0.8853 - val_loss: 0.5082 - val_Accuracy: 0.7792 - val_precision: 0.8063 - val_recall: 0.8724 - val_auc: 0.8264\n",
            "Epoch 29/100\n",
            "347/347 [==============================] - 41s 118ms/step - loss: 0.3944 - Accuracy: 0.8260 - precision: 0.8440 - recall: 0.9003 - auc: 0.8875 - val_loss: 0.4885 - val_Accuracy: 0.7828 - val_precision: 0.8060 - val_recall: 0.8801 - val_auc: 0.8282\n",
            "Epoch 30/100\n",
            "347/347 [==============================] - 41s 118ms/step - loss: 0.3836 - Accuracy: 0.8289 - precision: 0.8468 - recall: 0.9012 - auc: 0.8941 - val_loss: 0.4947 - val_Accuracy: 0.7907 - val_precision: 0.8088 - val_recall: 0.8911 - val_auc: 0.8312\n",
            "Epoch 31/100\n",
            "347/347 [==============================] - 41s 118ms/step - loss: 0.3726 - Accuracy: 0.8376 - precision: 0.8526 - recall: 0.9086 - auc: 0.8999 - val_loss: 0.4953 - val_Accuracy: 0.7831 - val_precision: 0.8013 - val_recall: 0.8894 - val_auc: 0.8259\n",
            "Epoch 32/100\n",
            "347/347 [==============================] - 41s 118ms/step - loss: 0.3683 - Accuracy: 0.8364 - precision: 0.8515 - recall: 0.9080 - auc: 0.9030 - val_loss: 0.5011 - val_Accuracy: 0.7835 - val_precision: 0.8178 - val_recall: 0.8614 - val_auc: 0.8334\n",
            "Epoch 33/100\n",
            "347/347 [==============================] - 41s 117ms/step - loss: 0.3578 - Accuracy: 0.8440 - precision: 0.8584 - recall: 0.9117 - auc: 0.9084 - val_loss: 0.4840 - val_Accuracy: 0.7932 - val_precision: 0.8082 - val_recall: 0.8971 - val_auc: 0.8374\n",
            "Epoch 34/100\n",
            "347/347 [==============================] - 41s 118ms/step - loss: 0.3520 - Accuracy: 0.8474 - precision: 0.8627 - recall: 0.9116 - auc: 0.9121 - val_loss: 0.5100 - val_Accuracy: 0.7903 - val_precision: 0.8225 - val_recall: 0.8669 - val_auc: 0.8341\n",
            "Epoch 35/100\n",
            "347/347 [==============================] - 41s 118ms/step - loss: 0.3552 - Accuracy: 0.8463 - precision: 0.8617 - recall: 0.9111 - auc: 0.9104 - val_loss: 0.4961 - val_Accuracy: 0.7954 - val_precision: 0.8157 - val_recall: 0.8883 - val_auc: 0.8381\n",
            "Epoch 36/100\n",
            "347/347 [==============================] - 41s 119ms/step - loss: 0.3323 - Accuracy: 0.8561 - precision: 0.8705 - recall: 0.9160 - auc: 0.9216 - val_loss: 0.5276 - val_Accuracy: 0.7939 - val_precision: 0.8275 - val_recall: 0.8658 - val_auc: 0.8329\n",
            "Epoch 37/100\n",
            "347/347 [==============================] - 41s 118ms/step - loss: 0.3308 - Accuracy: 0.8581 - precision: 0.8708 - recall: 0.9193 - auc: 0.9212 - val_loss: 0.5196 - val_Accuracy: 0.8004 - val_precision: 0.8234 - val_recall: 0.8850 - val_auc: 0.8411\n",
            "Epoch 38/100\n",
            "347/347 [==============================] - 41s 118ms/step - loss: 0.3257 - Accuracy: 0.8584 - precision: 0.8736 - recall: 0.9159 - auc: 0.9252 - val_loss: 0.5206 - val_Accuracy: 0.8004 - val_precision: 0.8248 - val_recall: 0.8828 - val_auc: 0.8406\n"
          ]
        }
      ]
    },
    {
      "cell_type": "code",
      "source": [
        "# Evaluation\n",
        "results_stack = final_model.evaluate([X_stats_test, X_test], y_test, batch_size=64)\n",
        "y_pred_stack = final_model.predict([X_stats_test, X_test])\n",
        "y_pred_stack = np.round(y_pred_stack).astype(int)\n",
        "\n",
        "# Confusion matrix\n",
        "cf_matrix_stack = confusion_matrix(y_test, y_pred_stack, normalize='pred')\n",
        "plot_confusion_matrix(cf_matrix_stack)\n",
        "\n",
        "# F1\n",
        "f1_score_stack = calc_f1_score(results_stack[2], results_stack[3])"
      ],
      "metadata": {
        "colab": {
          "base_uri": "https://localhost:8080/",
          "height": 594
        },
        "id": "liNlgDmMCg1t",
        "outputId": "64ac2b34-59da-469c-87e6-b8542846404a"
      },
      "execution_count": null,
      "outputs": [
        {
          "output_type": "stream",
          "name": "stdout",
          "text": [
            "44/44 [==============================] - 3s 42ms/step - loss: 0.4840 - Accuracy: 0.7932 - precision: 0.8082 - recall: 0.8971 - auc: 0.8374\n",
            "87/87 [==============================] - 7s 50ms/step\n"
          ]
        },
        {
          "output_type": "display_data",
          "data": {
            "text/html": [
              "<html>\n",
              "<head><meta charset=\"utf-8\" /></head>\n",
              "<body>\n",
              "    <div>            <script src=\"https://cdnjs.cloudflare.com/ajax/libs/mathjax/2.7.5/MathJax.js?config=TeX-AMS-MML_SVG\"></script><script type=\"text/javascript\">if (window.MathJax && window.MathJax.Hub && window.MathJax.Hub.Config) {window.MathJax.Hub.Config({SVG: {font: \"STIX-Web\"}});}</script>                <script type=\"text/javascript\">window.PlotlyConfig = {MathJaxConfig: 'local'};</script>\n",
              "        <script src=\"https://cdn.plot.ly/plotly-2.18.2.min.js\"></script>                <div id=\"fdf03ae9-6af9-48f9-b336-055091617a1e\" class=\"plotly-graph-div\" style=\"height:525px; width:100%;\"></div>            <script type=\"text/javascript\">                                    window.PLOTLYENV=window.PLOTLYENV || {};                                    if (document.getElementById(\"fdf03ae9-6af9-48f9-b336-055091617a1e\")) {                    Plotly.newPlot(                        \"fdf03ae9-6af9-48f9-b336-055091617a1e\",                        [{\"coloraxis\":\"coloraxis\",\"name\":\"0\",\"texttemplate\":\"%{z:.2f}\",\"z\":[[0.7532981530343008,0.19177403369672943],[0.24670184696569922,0.8082259663032706]],\"type\":\"heatmap\",\"xaxis\":\"x\",\"yaxis\":\"y\",\"hovertemplate\":\"Predicted Value: %{x}<br>True Value: %{y}<br>color: %{z}<extra></extra>\"}],                        {\"template\":{\"data\":{\"histogram2dcontour\":[{\"type\":\"histogram2dcontour\",\"colorbar\":{\"outlinewidth\":0,\"ticks\":\"\"},\"colorscale\":[[0.0,\"#0d0887\"],[0.1111111111111111,\"#46039f\"],[0.2222222222222222,\"#7201a8\"],[0.3333333333333333,\"#9c179e\"],[0.4444444444444444,\"#bd3786\"],[0.5555555555555556,\"#d8576b\"],[0.6666666666666666,\"#ed7953\"],[0.7777777777777778,\"#fb9f3a\"],[0.8888888888888888,\"#fdca26\"],[1.0,\"#f0f921\"]]}],\"choropleth\":[{\"type\":\"choropleth\",\"colorbar\":{\"outlinewidth\":0,\"ticks\":\"\"}}],\"histogram2d\":[{\"type\":\"histogram2d\",\"colorbar\":{\"outlinewidth\":0,\"ticks\":\"\"},\"colorscale\":[[0.0,\"#0d0887\"],[0.1111111111111111,\"#46039f\"],[0.2222222222222222,\"#7201a8\"],[0.3333333333333333,\"#9c179e\"],[0.4444444444444444,\"#bd3786\"],[0.5555555555555556,\"#d8576b\"],[0.6666666666666666,\"#ed7953\"],[0.7777777777777778,\"#fb9f3a\"],[0.8888888888888888,\"#fdca26\"],[1.0,\"#f0f921\"]]}],\"heatmap\":[{\"type\":\"heatmap\",\"colorbar\":{\"outlinewidth\":0,\"ticks\":\"\"},\"colorscale\":[[0.0,\"#0d0887\"],[0.1111111111111111,\"#46039f\"],[0.2222222222222222,\"#7201a8\"],[0.3333333333333333,\"#9c179e\"],[0.4444444444444444,\"#bd3786\"],[0.5555555555555556,\"#d8576b\"],[0.6666666666666666,\"#ed7953\"],[0.7777777777777778,\"#fb9f3a\"],[0.8888888888888888,\"#fdca26\"],[1.0,\"#f0f921\"]]}],\"heatmapgl\":[{\"type\":\"heatmapgl\",\"colorbar\":{\"outlinewidth\":0,\"ticks\":\"\"},\"colorscale\":[[0.0,\"#0d0887\"],[0.1111111111111111,\"#46039f\"],[0.2222222222222222,\"#7201a8\"],[0.3333333333333333,\"#9c179e\"],[0.4444444444444444,\"#bd3786\"],[0.5555555555555556,\"#d8576b\"],[0.6666666666666666,\"#ed7953\"],[0.7777777777777778,\"#fb9f3a\"],[0.8888888888888888,\"#fdca26\"],[1.0,\"#f0f921\"]]}],\"contourcarpet\":[{\"type\":\"contourcarpet\",\"colorbar\":{\"outlinewidth\":0,\"ticks\":\"\"}}],\"contour\":[{\"type\":\"contour\",\"colorbar\":{\"outlinewidth\":0,\"ticks\":\"\"},\"colorscale\":[[0.0,\"#0d0887\"],[0.1111111111111111,\"#46039f\"],[0.2222222222222222,\"#7201a8\"],[0.3333333333333333,\"#9c179e\"],[0.4444444444444444,\"#bd3786\"],[0.5555555555555556,\"#d8576b\"],[0.6666666666666666,\"#ed7953\"],[0.7777777777777778,\"#fb9f3a\"],[0.8888888888888888,\"#fdca26\"],[1.0,\"#f0f921\"]]}],\"surface\":[{\"type\":\"surface\",\"colorbar\":{\"outlinewidth\":0,\"ticks\":\"\"},\"colorscale\":[[0.0,\"#0d0887\"],[0.1111111111111111,\"#46039f\"],[0.2222222222222222,\"#7201a8\"],[0.3333333333333333,\"#9c179e\"],[0.4444444444444444,\"#bd3786\"],[0.5555555555555556,\"#d8576b\"],[0.6666666666666666,\"#ed7953\"],[0.7777777777777778,\"#fb9f3a\"],[0.8888888888888888,\"#fdca26\"],[1.0,\"#f0f921\"]]}],\"mesh3d\":[{\"type\":\"mesh3d\",\"colorbar\":{\"outlinewidth\":0,\"ticks\":\"\"}}],\"scatter\":[{\"fillpattern\":{\"fillmode\":\"overlay\",\"size\":10,\"solidity\":0.2},\"type\":\"scatter\"}],\"parcoords\":[{\"type\":\"parcoords\",\"line\":{\"colorbar\":{\"outlinewidth\":0,\"ticks\":\"\"}}}],\"scatterpolargl\":[{\"type\":\"scatterpolargl\",\"marker\":{\"colorbar\":{\"outlinewidth\":0,\"ticks\":\"\"}}}],\"bar\":[{\"error_x\":{\"color\":\"#2a3f5f\"},\"error_y\":{\"color\":\"#2a3f5f\"},\"marker\":{\"line\":{\"color\":\"#E5ECF6\",\"width\":0.5},\"pattern\":{\"fillmode\":\"overlay\",\"size\":10,\"solidity\":0.2}},\"type\":\"bar\"}],\"scattergeo\":[{\"type\":\"scattergeo\",\"marker\":{\"colorbar\":{\"outlinewidth\":0,\"ticks\":\"\"}}}],\"scatterpolar\":[{\"type\":\"scatterpolar\",\"marker\":{\"colorbar\":{\"outlinewidth\":0,\"ticks\":\"\"}}}],\"histogram\":[{\"marker\":{\"pattern\":{\"fillmode\":\"overlay\",\"size\":10,\"solidity\":0.2}},\"type\":\"histogram\"}],\"scattergl\":[{\"type\":\"scattergl\",\"marker\":{\"colorbar\":{\"outlinewidth\":0,\"ticks\":\"\"}}}],\"scatter3d\":[{\"type\":\"scatter3d\",\"line\":{\"colorbar\":{\"outlinewidth\":0,\"ticks\":\"\"}},\"marker\":{\"colorbar\":{\"outlinewidth\":0,\"ticks\":\"\"}}}],\"scattermapbox\":[{\"type\":\"scattermapbox\",\"marker\":{\"colorbar\":{\"outlinewidth\":0,\"ticks\":\"\"}}}],\"scatterternary\":[{\"type\":\"scatterternary\",\"marker\":{\"colorbar\":{\"outlinewidth\":0,\"ticks\":\"\"}}}],\"scattercarpet\":[{\"type\":\"scattercarpet\",\"marker\":{\"colorbar\":{\"outlinewidth\":0,\"ticks\":\"\"}}}],\"carpet\":[{\"aaxis\":{\"endlinecolor\":\"#2a3f5f\",\"gridcolor\":\"white\",\"linecolor\":\"white\",\"minorgridcolor\":\"white\",\"startlinecolor\":\"#2a3f5f\"},\"baxis\":{\"endlinecolor\":\"#2a3f5f\",\"gridcolor\":\"white\",\"linecolor\":\"white\",\"minorgridcolor\":\"white\",\"startlinecolor\":\"#2a3f5f\"},\"type\":\"carpet\"}],\"table\":[{\"cells\":{\"fill\":{\"color\":\"#EBF0F8\"},\"line\":{\"color\":\"white\"}},\"header\":{\"fill\":{\"color\":\"#C8D4E3\"},\"line\":{\"color\":\"white\"}},\"type\":\"table\"}],\"barpolar\":[{\"marker\":{\"line\":{\"color\":\"#E5ECF6\",\"width\":0.5},\"pattern\":{\"fillmode\":\"overlay\",\"size\":10,\"solidity\":0.2}},\"type\":\"barpolar\"}],\"pie\":[{\"automargin\":true,\"type\":\"pie\"}]},\"layout\":{\"autotypenumbers\":\"strict\",\"colorway\":[\"#636efa\",\"#EF553B\",\"#00cc96\",\"#ab63fa\",\"#FFA15A\",\"#19d3f3\",\"#FF6692\",\"#B6E880\",\"#FF97FF\",\"#FECB52\"],\"font\":{\"color\":\"#2a3f5f\"},\"hovermode\":\"closest\",\"hoverlabel\":{\"align\":\"left\"},\"paper_bgcolor\":\"white\",\"plot_bgcolor\":\"#E5ECF6\",\"polar\":{\"bgcolor\":\"#E5ECF6\",\"angularaxis\":{\"gridcolor\":\"white\",\"linecolor\":\"white\",\"ticks\":\"\"},\"radialaxis\":{\"gridcolor\":\"white\",\"linecolor\":\"white\",\"ticks\":\"\"}},\"ternary\":{\"bgcolor\":\"#E5ECF6\",\"aaxis\":{\"gridcolor\":\"white\",\"linecolor\":\"white\",\"ticks\":\"\"},\"baxis\":{\"gridcolor\":\"white\",\"linecolor\":\"white\",\"ticks\":\"\"},\"caxis\":{\"gridcolor\":\"white\",\"linecolor\":\"white\",\"ticks\":\"\"}},\"coloraxis\":{\"colorbar\":{\"outlinewidth\":0,\"ticks\":\"\"}},\"colorscale\":{\"sequential\":[[0.0,\"#0d0887\"],[0.1111111111111111,\"#46039f\"],[0.2222222222222222,\"#7201a8\"],[0.3333333333333333,\"#9c179e\"],[0.4444444444444444,\"#bd3786\"],[0.5555555555555556,\"#d8576b\"],[0.6666666666666666,\"#ed7953\"],[0.7777777777777778,\"#fb9f3a\"],[0.8888888888888888,\"#fdca26\"],[1.0,\"#f0f921\"]],\"sequentialminus\":[[0.0,\"#0d0887\"],[0.1111111111111111,\"#46039f\"],[0.2222222222222222,\"#7201a8\"],[0.3333333333333333,\"#9c179e\"],[0.4444444444444444,\"#bd3786\"],[0.5555555555555556,\"#d8576b\"],[0.6666666666666666,\"#ed7953\"],[0.7777777777777778,\"#fb9f3a\"],[0.8888888888888888,\"#fdca26\"],[1.0,\"#f0f921\"]],\"diverging\":[[0,\"#8e0152\"],[0.1,\"#c51b7d\"],[0.2,\"#de77ae\"],[0.3,\"#f1b6da\"],[0.4,\"#fde0ef\"],[0.5,\"#f7f7f7\"],[0.6,\"#e6f5d0\"],[0.7,\"#b8e186\"],[0.8,\"#7fbc41\"],[0.9,\"#4d9221\"],[1,\"#276419\"]]},\"xaxis\":{\"gridcolor\":\"white\",\"linecolor\":\"white\",\"ticks\":\"\",\"title\":{\"standoff\":15},\"zerolinecolor\":\"white\",\"automargin\":true,\"zerolinewidth\":2},\"yaxis\":{\"gridcolor\":\"white\",\"linecolor\":\"white\",\"ticks\":\"\",\"title\":{\"standoff\":15},\"zerolinecolor\":\"white\",\"automargin\":true,\"zerolinewidth\":2},\"scene\":{\"xaxis\":{\"backgroundcolor\":\"#E5ECF6\",\"gridcolor\":\"white\",\"linecolor\":\"white\",\"showbackground\":true,\"ticks\":\"\",\"zerolinecolor\":\"white\",\"gridwidth\":2},\"yaxis\":{\"backgroundcolor\":\"#E5ECF6\",\"gridcolor\":\"white\",\"linecolor\":\"white\",\"showbackground\":true,\"ticks\":\"\",\"zerolinecolor\":\"white\",\"gridwidth\":2},\"zaxis\":{\"backgroundcolor\":\"#E5ECF6\",\"gridcolor\":\"white\",\"linecolor\":\"white\",\"showbackground\":true,\"ticks\":\"\",\"zerolinecolor\":\"white\",\"gridwidth\":2}},\"shapedefaults\":{\"line\":{\"color\":\"#2a3f5f\"}},\"annotationdefaults\":{\"arrowcolor\":\"#2a3f5f\",\"arrowhead\":0,\"arrowwidth\":1},\"geo\":{\"bgcolor\":\"white\",\"landcolor\":\"#E5ECF6\",\"subunitcolor\":\"white\",\"showland\":true,\"showlakes\":true,\"lakecolor\":\"white\"},\"title\":{\"x\":0.05},\"mapbox\":{\"style\":\"light\"}}},\"xaxis\":{\"anchor\":\"y\",\"domain\":[0.0,1.0],\"scaleanchor\":\"y\",\"constrain\":\"domain\",\"title\":{\"text\":\"Predicted Value\"},\"tickvals\":[\"\",\"0\",\"\",\"1\",\"\"]},\"yaxis\":{\"anchor\":\"x\",\"domain\":[0.0,1.0],\"autorange\":\"reversed\",\"constrain\":\"domain\",\"title\":{\"text\":\"True Value\"},\"tickvals\":[\"\",\"0\",\"\",\"1\",\"\"]},\"coloraxis\":{\"colorscale\":[[0.0,\"rgb(5,48,97)\"],[0.1,\"rgb(33,102,172)\"],[0.2,\"rgb(67,147,195)\"],[0.3,\"rgb(146,197,222)\"],[0.4,\"rgb(209,229,240)\"],[0.5,\"rgb(247,247,247)\"],[0.6,\"rgb(253,219,199)\"],[0.7,\"rgb(244,165,130)\"],[0.8,\"rgb(214,96,77)\"],[0.9,\"rgb(178,24,43)\"],[1.0,\"rgb(103,0,31)\"]]},\"margin\":{\"t\":60}},                        {\"responsive\": true}                    ).then(function(){\n",
              "                            \n",
              "var gd = document.getElementById('fdf03ae9-6af9-48f9-b336-055091617a1e');\n",
              "var x = new MutationObserver(function (mutations, observer) {{\n",
              "        var display = window.getComputedStyle(gd).display;\n",
              "        if (!display || display === 'none') {{\n",
              "            console.log([gd, 'removed!']);\n",
              "            Plotly.purge(gd);\n",
              "            observer.disconnect();\n",
              "        }}\n",
              "}});\n",
              "\n",
              "// Listen for the removal of the full notebook cells\n",
              "var notebookContainer = gd.closest('#notebook-container');\n",
              "if (notebookContainer) {{\n",
              "    x.observe(notebookContainer, {childList: true});\n",
              "}}\n",
              "\n",
              "// Listen for the clearing of the current output cell\n",
              "var outputEl = gd.closest('.output');\n",
              "if (outputEl) {{\n",
              "    x.observe(outputEl, {childList: true});\n",
              "}}\n",
              "\n",
              "                        })                };                            </script>        </div>\n",
              "</body>\n",
              "</html>"
            ]
          },
          "metadata": {}
        },
        {
          "output_type": "stream",
          "name": "stdout",
          "text": [
            "F1 Score: 85.04%\n"
          ]
        }
      ]
    },
    {
      "cell_type": "code",
      "source": [
        "tf.keras.utils.plot_model(final_model, expand_nested=True, show_layer_activations=True)"
      ],
      "metadata": {
        "colab": {
          "base_uri": "https://localhost:8080/",
          "height": 909
        },
        "id": "PrYwLiZ8nx-X",
        "outputId": "3bb82962-17ca-47e8-ad76-b38e47b45b67"
      },
      "execution_count": null,
      "outputs": [
        {
          "output_type": "execute_result",
          "data": {
            "image/png": "[encoded data removed]",
            "text/plain": [
              "<IPython.core.display.Image object>"
            ]
          },
          "metadata": {},
          "execution_count": 194
        }
      ]
    },
    {
      "cell_type": "code",
      "source": [
        "from textblob import TextBlob"
      ],
      "metadata": {
        "id": "Sgc3saJ0bTM0"
      },
      "execution_count": null,
      "outputs": []
    },
    {
      "cell_type": "code",
      "source": [
        "sentiment = [TextBlob(x).sentiment for x in helpful_df['Text']]"
      ],
      "metadata": {
        "id": "2p3pMXbiciHA"
      },
      "execution_count": null,
      "outputs": []
    },
    {
      "cell_type": "code",
      "source": [
        "helpful_df['polarity'] = [x[0] for x in sentiment]\n",
        "helpful_df['subjectivity'] = [x[1] for x in sentiment]"
      ],
      "metadata": {
        "id": "UybG-7Iyc3L0"
      },
      "execution_count": null,
      "outputs": []
    },
    {
      "cell_type": "code",
      "source": [
        "scaler_2 = StandardScaler()\n",
        "stats_2 = scaler.fit_transform(helpful_df[['num_sent', 'max_sent_len', 'mean_sent_len', 'ner_len', 'polarity', 'subjectivity']])"
      ],
      "metadata": {
        "id": "PktibksTfGxY"
      },
      "execution_count": null,
      "outputs": []
    },
    {
      "cell_type": "code",
      "source": [
        "# Train-test split of stats data to line up with existing vectorised data\n",
        "stats_df2 = pd.DataFrame(data=stats_2, index=helpful_df.index, \n",
        "                         columns=['num_sent', 'max_sent_len', 'mean_sent_len', 'ner_len', 'polarity', 'subjectivity'])\n",
        "\n",
        "X_stats_train2 = stats_df2.loc[X_train.index]\n",
        "X_stats_val2 = stats_df2.loc[X_val.index]\n",
        "X_stats_test2 = stats_df2.loc[X_test.index]"
      ],
      "metadata": {
        "id": "B2Nm8PnigFZV"
      },
      "execution_count": null,
      "outputs": []
    },
    {
      "cell_type": "code",
      "source": [
        "# Create stacked model\n",
        "\n",
        "# Parameters\n",
        "optimizer_stack2 = tf.keras.optimizers.Adam(learning_rate=0.001)\n",
        "early_stop_stack2 = tf.keras.callbacks.EarlyStopping(monitor='val_loss', min_delta=0, patience=5, restore_best_weights=True)\n",
        "input_shape = (X_train.shape[1], 1)\n",
        "metrics = ['Accuracy', 'Precision', 'Recall', 'AUC']\n",
        "\n",
        "# Architecture\n",
        "with tpu_strategy.scope():\n",
        "  stats_input2 = Input(shape=(stats_2.shape[1], ))\n",
        "  stats_model2 = Dense(32, activation='relu')(stats_input2)\n",
        "  stats_model2 = Dropout(0.2)(stats_model2)\n",
        "  stats_model2 = Dense(32, activation='relu')(stats_model2)\n",
        "\n",
        "  text_input2 = Input(shape=input_shape)\n",
        "  text_model2 = Bidirectional(GRU(128, activation='relu', return_sequences=True))(text_input2)\n",
        "  text_model2 = Dropout(0.2)(text_model2)\n",
        "  text_model2 = Bidirectional(GRU(128, activation='relu'))(text_model2)\n",
        "\n",
        "  merged_model2 = concatenate([stats_model2, text_model2], axis=1)\n",
        "  merged_pred2 = Dropout(0.2)(merged_model2)\n",
        "  merged_pred2 = Dense(32, activation='relu')(merged_pred2)\n",
        "  merged_pred2 = Dropout(0.2)(merged_pred2)\n",
        "  merged_pred2 = Dense(1, activation='sigmoid')(merged_pred2)\n",
        "\n",
        "  final_model2 = Model(inputs=[stats_input2, text_input2], outputs=[merged_pred2])\n",
        "  final_model2.compile(loss='binary_crossentropy', optimizer=optimizer_stack2, metrics=metrics)\n",
        "\n",
        "final_model2.summary()"
      ],
      "metadata": {
        "colab": {
          "base_uri": "https://localhost:8080/"
        },
        "id": "w6hnACpMfqbu",
        "outputId": "ed29390c-399c-4057-c2f7-ff03f615e23e"
      },
      "execution_count": null,
      "outputs": [
        {
          "output_type": "stream",
          "name": "stdout",
          "text": [
            "Model: \"model_15\"\n",
            "__________________________________________________________________________________________________\n",
            " Layer (type)                   Output Shape         Param #     Connected to                     \n",
            "==================================================================================================\n",
            " input_53 (InputLayer)          [(None, 6)]          0           []                               \n",
            "                                                                                                  \n",
            " input_54 (InputLayer)          [(None, 300, 1)]     0           []                               \n",
            "                                                                                                  \n",
            " dense_61 (Dense)               (None, 32)           224         ['input_53[0][0]']               \n",
            "                                                                                                  \n",
            " bidirectional_44 (Bidirectiona  (None, 300, 256)    100608      ['input_54[0][0]']               \n",
            " l)                                                                                               \n",
            "                                                                                                  \n",
            " dropout_39 (Dropout)           (None, 32)           0           ['dense_61[0][0]']               \n",
            "                                                                                                  \n",
            " dropout_40 (Dropout)           (None, 300, 256)     0           ['bidirectional_44[0][0]']       \n",
            "                                                                                                  \n",
            " dense_62 (Dense)               (None, 32)           1056        ['dropout_39[0][0]']             \n",
            "                                                                                                  \n",
            " bidirectional_45 (Bidirectiona  (None, 256)         296448      ['dropout_40[0][0]']             \n",
            " l)                                                                                               \n",
            "                                                                                                  \n",
            " concatenate_26 (Concatenate)   (None, 288)          0           ['dense_62[0][0]',               \n",
            "                                                                  'bidirectional_45[0][0]']       \n",
            "                                                                                                  \n",
            " dropout_41 (Dropout)           (None, 288)          0           ['concatenate_26[0][0]']         \n",
            "                                                                                                  \n",
            " dense_63 (Dense)               (None, 32)           9248        ['dropout_41[0][0]']             \n",
            "                                                                                                  \n",
            " dropout_42 (Dropout)           (None, 32)           0           ['dense_63[0][0]']               \n",
            "                                                                                                  \n",
            " dense_64 (Dense)               (None, 1)            33          ['dropout_42[0][0]']             \n",
            "                                                                                                  \n",
            "==================================================================================================\n",
            "Total params: 407,617\n",
            "Trainable params: 407,617\n",
            "Non-trainable params: 0\n",
            "__________________________________________________________________________________________________\n"
          ]
        }
      ]
    },
    {
      "cell_type": "code",
      "source": [
        "# Fit model\n",
        "# Run-time approx. 27 mins\n",
        "history_final2 = final_model2.fit([X_stats_train2, X_train], y_train, \n",
        "                                validation_data=([X_stats_val2, X_val], y_val), \n",
        "                                epochs=100, batch_size=64, \n",
        "                                callbacks=[early_stop_stack2])"
      ],
      "metadata": {
        "colab": {
          "base_uri": "https://localhost:8080/"
        },
        "id": "sjhGuCnTf_WT",
        "outputId": "3ecf9001-6ccf-429d-b930-09ba18b29306"
      },
      "execution_count": null,
      "outputs": [
        {
          "output_type": "stream",
          "name": "stdout",
          "text": [
            "Epoch 1/100\n",
            "347/347 [==============================] - 63s 134ms/step - loss: 0.6033 - Accuracy: 0.6858 - precision: 0.6991 - recall: 0.9115 - auc: 0.6696 - val_loss: 0.5764 - val_Accuracy: 0.7061 - val_precision: 0.7167 - val_recall: 0.9114 - val_auc: 0.7202\n",
            "Epoch 2/100\n",
            "347/347 [==============================] - 41s 118ms/step - loss: 0.5783 - Accuracy: 0.7048 - precision: 0.7263 - recall: 0.8798 - auc: 0.7155 - val_loss: 0.5605 - val_Accuracy: 0.7143 - val_precision: 0.7369 - val_recall: 0.8768 - val_auc: 0.7418\n",
            "Epoch 3/100\n",
            "347/347 [==============================] - 41s 118ms/step - loss: 0.5656 - Accuracy: 0.7114 - precision: 0.7396 - recall: 0.8620 - auc: 0.7355 - val_loss: 0.5602 - val_Accuracy: 0.7129 - val_precision: 0.7236 - val_recall: 0.9087 - val_auc: 0.7472\n",
            "Epoch 4/100\n",
            "347/347 [==============================] - 41s 118ms/step - loss: 0.5598 - Accuracy: 0.7164 - precision: 0.7458 - recall: 0.8588 - auc: 0.7429 - val_loss: 0.5507 - val_Accuracy: 0.7187 - val_precision: 0.7473 - val_recall: 0.8619 - val_auc: 0.7529\n",
            "Epoch 5/100\n",
            "347/347 [==============================] - 41s 118ms/step - loss: 0.5545 - Accuracy: 0.7187 - precision: 0.7471 - recall: 0.8610 - auc: 0.7508 - val_loss: 0.5495 - val_Accuracy: 0.7158 - val_precision: 0.7319 - val_recall: 0.8933 - val_auc: 0.7589\n",
            "Epoch 6/100\n",
            "347/347 [==============================] - 41s 119ms/step - loss: 0.5495 - Accuracy: 0.7224 - precision: 0.7520 - recall: 0.8582 - auc: 0.7564 - val_loss: 0.5462 - val_Accuracy: 0.7194 - val_precision: 0.7449 - val_recall: 0.8691 - val_auc: 0.7612\n",
            "Epoch 7/100\n",
            "347/347 [==============================] - 41s 118ms/step - loss: 0.5442 - Accuracy: 0.7243 - precision: 0.7547 - recall: 0.8566 - auc: 0.7626 - val_loss: 0.5422 - val_Accuracy: 0.7197 - val_precision: 0.7675 - val_recall: 0.8207 - val_auc: 0.7645\n",
            "Epoch 8/100\n",
            "347/347 [==============================] - 41s 119ms/step - loss: 0.5416 - Accuracy: 0.7289 - precision: 0.7625 - recall: 0.8499 - auc: 0.7662 - val_loss: 0.5386 - val_Accuracy: 0.7241 - val_precision: 0.7488 - val_recall: 0.8707 - val_auc: 0.7685\n",
            "Epoch 9/100\n",
            "347/347 [==============================] - 41s 118ms/step - loss: 0.5376 - Accuracy: 0.7302 - precision: 0.7616 - recall: 0.8546 - auc: 0.7699 - val_loss: 0.5344 - val_Accuracy: 0.7313 - val_precision: 0.7729 - val_recall: 0.8350 - val_auc: 0.7729\n",
            "Epoch 10/100\n",
            "347/347 [==============================] - 41s 119ms/step - loss: 0.5330 - Accuracy: 0.7331 - precision: 0.7659 - recall: 0.8521 - auc: 0.7754 - val_loss: 0.5344 - val_Accuracy: 0.7266 - val_precision: 0.7515 - val_recall: 0.8702 - val_auc: 0.7740\n",
            "Epoch 11/100\n",
            "347/347 [==============================] - 41s 119ms/step - loss: 0.5285 - Accuracy: 0.7395 - precision: 0.7697 - recall: 0.8581 - auc: 0.7800 - val_loss: 0.5380 - val_Accuracy: 0.7291 - val_precision: 0.7509 - val_recall: 0.8773 - val_auc: 0.7745\n",
            "Epoch 12/100\n",
            "347/347 [==============================] - 41s 119ms/step - loss: 0.5226 - Accuracy: 0.7408 - precision: 0.7698 - recall: 0.8608 - auc: 0.7859 - val_loss: 0.5307 - val_Accuracy: 0.7356 - val_precision: 0.7673 - val_recall: 0.8559 - val_auc: 0.7775\n",
            "Epoch 13/100\n",
            "347/347 [==============================] - 41s 119ms/step - loss: 0.5189 - Accuracy: 0.7435 - precision: 0.7726 - recall: 0.8611 - auc: 0.7897 - val_loss: 0.5255 - val_Accuracy: 0.7453 - val_precision: 0.7892 - val_recall: 0.8339 - val_auc: 0.7840\n",
            "Epoch 14/100\n",
            "347/347 [==============================] - 41s 118ms/step - loss: 0.5164 - Accuracy: 0.7471 - precision: 0.7751 - recall: 0.8637 - auc: 0.7923 - val_loss: 0.5297 - val_Accuracy: 0.7435 - val_precision: 0.7907 - val_recall: 0.8273 - val_auc: 0.7837\n",
            "Epoch 15/100\n",
            "347/347 [==============================] - 41s 118ms/step - loss: 0.5094 - Accuracy: 0.7538 - precision: 0.7780 - recall: 0.8721 - auc: 0.7983 - val_loss: 0.5240 - val_Accuracy: 0.7360 - val_precision: 0.7769 - val_recall: 0.8372 - val_auc: 0.7866\n",
            "Epoch 16/100\n",
            "347/347 [==============================] - 41s 118ms/step - loss: 0.5055 - Accuracy: 0.7527 - precision: 0.7765 - recall: 0.8728 - auc: 0.8029 - val_loss: 0.5349 - val_Accuracy: 0.7201 - val_precision: 0.7233 - val_recall: 0.9274 - val_auc: 0.7923\n",
            "Epoch 17/100\n",
            "347/347 [==============================] - 41s 119ms/step - loss: 0.4962 - Accuracy: 0.7592 - precision: 0.7816 - recall: 0.8765 - auc: 0.8109 - val_loss: 0.5152 - val_Accuracy: 0.7406 - val_precision: 0.7546 - val_recall: 0.8949 - val_auc: 0.7964\n",
            "Epoch 18/100\n",
            "347/347 [==============================] - 41s 119ms/step - loss: 0.4908 - Accuracy: 0.7625 - precision: 0.7850 - recall: 0.8767 - auc: 0.8159 - val_loss: 0.5137 - val_Accuracy: 0.7493 - val_precision: 0.7705 - val_recall: 0.8790 - val_auc: 0.8019\n",
            "Epoch 19/100\n",
            "347/347 [==============================] - 41s 119ms/step - loss: 0.4833 - Accuracy: 0.7686 - precision: 0.7897 - recall: 0.8804 - auc: 0.8228 - val_loss: 0.5060 - val_Accuracy: 0.7471 - val_precision: 0.7588 - val_recall: 0.8999 - val_auc: 0.8067\n",
            "Epoch 20/100\n",
            "347/347 [==============================] - 41s 119ms/step - loss: 0.4759 - Accuracy: 0.7722 - precision: 0.7928 - recall: 0.8820 - auc: 0.8284 - val_loss: 0.5058 - val_Accuracy: 0.7468 - val_precision: 0.7753 - val_recall: 0.8636 - val_auc: 0.8069\n",
            "Epoch 21/100\n",
            "347/347 [==============================] - 41s 119ms/step - loss: 0.4687 - Accuracy: 0.7759 - precision: 0.7966 - recall: 0.8825 - auc: 0.8347 - val_loss: 0.5053 - val_Accuracy: 0.7547 - val_precision: 0.7838 - val_recall: 0.8636 - val_auc: 0.8115\n",
            "Epoch 22/100\n",
            "347/347 [==============================] - 41s 119ms/step - loss: 0.4648 - Accuracy: 0.7788 - precision: 0.7973 - recall: 0.8871 - auc: 0.8377 - val_loss: 0.4994 - val_Accuracy: 0.7594 - val_precision: 0.7847 - val_recall: 0.8718 - val_auc: 0.8162\n",
            "Epoch 23/100\n",
            "347/347 [==============================] - 41s 118ms/step - loss: 0.4575 - Accuracy: 0.7847 - precision: 0.8027 - recall: 0.8891 - auc: 0.8440 - val_loss: 0.5013 - val_Accuracy: 0.7597 - val_precision: 0.7784 - val_recall: 0.8850 - val_auc: 0.8158\n",
            "Epoch 24/100\n",
            "347/347 [==============================] - 41s 118ms/step - loss: 0.4507 - Accuracy: 0.7887 - precision: 0.8056 - recall: 0.8920 - auc: 0.8493 - val_loss: 0.5097 - val_Accuracy: 0.7655 - val_precision: 0.7817 - val_recall: 0.8905 - val_auc: 0.8195\n",
            "Epoch 25/100\n",
            "347/347 [==============================] - 41s 119ms/step - loss: 0.4443 - Accuracy: 0.7892 - precision: 0.8058 - recall: 0.8927 - auc: 0.8531 - val_loss: 0.4916 - val_Accuracy: 0.7687 - val_precision: 0.7922 - val_recall: 0.8768 - val_auc: 0.8252\n",
            "Epoch 26/100\n",
            "347/347 [==============================] - 41s 118ms/step - loss: 0.4375 - Accuracy: 0.7938 - precision: 0.8111 - recall: 0.8924 - auc: 0.8585 - val_loss: 0.4986 - val_Accuracy: 0.7648 - val_precision: 0.7728 - val_recall: 0.9076 - val_auc: 0.8246\n",
            "Epoch 27/100\n",
            "347/347 [==============================] - 41s 119ms/step - loss: 0.4281 - Accuracy: 0.7997 - precision: 0.8159 - recall: 0.8956 - auc: 0.8643 - val_loss: 0.5137 - val_Accuracy: 0.7630 - val_precision: 0.7956 - val_recall: 0.8586 - val_auc: 0.8201\n",
            "Epoch 28/100\n",
            "347/347 [==============================] - 41s 118ms/step - loss: 0.4402 - Accuracy: 0.7940 - precision: 0.8081 - recall: 0.8981 - auc: 0.8568 - val_loss: 0.4941 - val_Accuracy: 0.7666 - val_precision: 0.8019 - val_recall: 0.8548 - val_auc: 0.8255\n",
            "Epoch 29/100\n",
            "347/347 [==============================] - 41s 118ms/step - loss: 0.4175 - Accuracy: 0.8064 - precision: 0.8210 - recall: 0.9000 - auc: 0.8718 - val_loss: 0.4902 - val_Accuracy: 0.7662 - val_precision: 0.7771 - val_recall: 0.9015 - val_auc: 0.8327\n",
            "Epoch 30/100\n",
            "347/347 [==============================] - 41s 118ms/step - loss: 0.4111 - Accuracy: 0.8087 - precision: 0.8211 - recall: 0.9044 - auc: 0.8762 - val_loss: 0.5046 - val_Accuracy: 0.7731 - val_precision: 0.7941 - val_recall: 0.8823 - val_auc: 0.8302\n",
            "Epoch 31/100\n",
            "347/347 [==============================] - 41s 118ms/step - loss: 0.4008 - Accuracy: 0.8145 - precision: 0.8266 - recall: 0.9063 - auc: 0.8834 - val_loss: 0.4891 - val_Accuracy: 0.7749 - val_precision: 0.8005 - val_recall: 0.8740 - val_auc: 0.8352\n",
            "Epoch 32/100\n",
            "347/347 [==============================] - 41s 119ms/step - loss: 0.3934 - Accuracy: 0.8202 - precision: 0.8305 - recall: 0.9108 - auc: 0.8871 - val_loss: 0.5195 - val_Accuracy: 0.7709 - val_precision: 0.7841 - val_recall: 0.8971 - val_auc: 0.8257\n",
            "Epoch 33/100\n",
            "347/347 [==============================] - 41s 118ms/step - loss: 0.3924 - Accuracy: 0.8196 - precision: 0.8317 - recall: 0.9077 - auc: 0.8883 - val_loss: 0.4976 - val_Accuracy: 0.7777 - val_precision: 0.8116 - val_recall: 0.8603 - val_auc: 0.8341\n",
            "Epoch 34/100\n",
            "347/347 [==============================] - 41s 118ms/step - loss: 0.3850 - Accuracy: 0.8244 - precision: 0.8361 - recall: 0.9096 - auc: 0.8925 - val_loss: 0.5096 - val_Accuracy: 0.7731 - val_precision: 0.7915 - val_recall: 0.8872 - val_auc: 0.8363\n",
            "Epoch 35/100\n",
            "347/347 [==============================] - 41s 118ms/step - loss: 0.3772 - Accuracy: 0.8250 - precision: 0.8373 - recall: 0.9087 - auc: 0.8985 - val_loss: 0.5164 - val_Accuracy: 0.7785 - val_precision: 0.7985 - val_recall: 0.8850 - val_auc: 0.8395\n",
            "Epoch 36/100\n",
            "347/347 [==============================] - 41s 119ms/step - loss: 0.3668 - Accuracy: 0.8312 - precision: 0.8423 - recall: 0.9126 - auc: 0.9028 - val_loss: 0.5025 - val_Accuracy: 0.7788 - val_precision: 0.7905 - val_recall: 0.9010 - val_auc: 0.8341\n"
          ]
        }
      ]
    },
    {
      "cell_type": "code",
      "source": [
        "# Evaluation\n",
        "results_stack2 = final_model2.evaluate([X_stats_test2, X_test], y_test, batch_size=64)\n",
        "y_pred_stack2 = final_model2.predict([X_stats_test2, X_test])\n",
        "y_pred_stack2 = np.round(y_pred_stack2).astype(int)\n",
        "\n",
        "# Confusion matrix\n",
        "cf_matrix_stack2 = confusion_matrix(y_test, y_pred_stack2, normalize='pred')\n",
        "plot_confusion_matrix(cf_matrix_stack2)\n",
        "\n",
        "# F1\n",
        "f1_score_stack2 = calc_f1_score(results_stack2[2], results_stack2[3])"
      ],
      "metadata": {
        "colab": {
          "base_uri": "https://localhost:8080/",
          "height": 594
        },
        "id": "jq6Tub37geBq",
        "outputId": "3edbbe98-2853-4f5f-8d62-e4c2a60a3aa6"
      },
      "execution_count": null,
      "outputs": [
        {
          "output_type": "stream",
          "name": "stdout",
          "text": [
            "44/44 [==============================] - 3s 42ms/step - loss: 0.4891 - Accuracy: 0.7749 - precision: 0.8005 - recall: 0.8740 - auc: 0.8352\n",
            "87/87 [==============================] - 6s 50ms/step\n"
          ]
        },
        {
          "output_type": "display_data",
          "data": {
            "text/html": [
              "<html>\n",
              "<head><meta charset=\"utf-8\" /></head>\n",
              "<body>\n",
              "    <div>            <script src=\"https://cdnjs.cloudflare.com/ajax/libs/mathjax/2.7.5/MathJax.js?config=TeX-AMS-MML_SVG\"></script><script type=\"text/javascript\">if (window.MathJax && window.MathJax.Hub && window.MathJax.Hub.Config) {window.MathJax.Hub.Config({SVG: {font: \"STIX-Web\"}});}</script>                <script type=\"text/javascript\">window.PlotlyConfig = {MathJaxConfig: 'local'};</script>\n",
              "        <script src=\"https://cdn.plot.ly/plotly-2.18.2.min.js\"></script>                <div id=\"57b102ef-7a62-44a0-8180-f0609272f4c6\" class=\"plotly-graph-div\" style=\"height:525px; width:100%;\"></div>            <script type=\"text/javascript\">                                    window.PLOTLYENV=window.PLOTLYENV || {};                                    if (document.getElementById(\"57b102ef-7a62-44a0-8180-f0609272f4c6\")) {                    Plotly.newPlot(                        \"57b102ef-7a62-44a0-8180-f0609272f4c6\",                        [{\"coloraxis\":\"coloraxis\",\"name\":\"0\",\"texttemplate\":\"%{z:.2f}\",\"z\":[[0.7104930467762326,0.19949622166246853],[0.2895069532237674,0.8005037783375315]],\"type\":\"heatmap\",\"xaxis\":\"x\",\"yaxis\":\"y\",\"hovertemplate\":\"Predicted Value: %{x}<br>True Value: %{y}<br>color: %{z}<extra></extra>\"}],                        {\"template\":{\"data\":{\"histogram2dcontour\":[{\"type\":\"histogram2dcontour\",\"colorbar\":{\"outlinewidth\":0,\"ticks\":\"\"},\"colorscale\":[[0.0,\"#0d0887\"],[0.1111111111111111,\"#46039f\"],[0.2222222222222222,\"#7201a8\"],[0.3333333333333333,\"#9c179e\"],[0.4444444444444444,\"#bd3786\"],[0.5555555555555556,\"#d8576b\"],[0.6666666666666666,\"#ed7953\"],[0.7777777777777778,\"#fb9f3a\"],[0.8888888888888888,\"#fdca26\"],[1.0,\"#f0f921\"]]}],\"choropleth\":[{\"type\":\"choropleth\",\"colorbar\":{\"outlinewidth\":0,\"ticks\":\"\"}}],\"histogram2d\":[{\"type\":\"histogram2d\",\"colorbar\":{\"outlinewidth\":0,\"ticks\":\"\"},\"colorscale\":[[0.0,\"#0d0887\"],[0.1111111111111111,\"#46039f\"],[0.2222222222222222,\"#7201a8\"],[0.3333333333333333,\"#9c179e\"],[0.4444444444444444,\"#bd3786\"],[0.5555555555555556,\"#d8576b\"],[0.6666666666666666,\"#ed7953\"],[0.7777777777777778,\"#fb9f3a\"],[0.8888888888888888,\"#fdca26\"],[1.0,\"#f0f921\"]]}],\"heatmap\":[{\"type\":\"heatmap\",\"colorbar\":{\"outlinewidth\":0,\"ticks\":\"\"},\"colorscale\":[[0.0,\"#0d0887\"],[0.1111111111111111,\"#46039f\"],[0.2222222222222222,\"#7201a8\"],[0.3333333333333333,\"#9c179e\"],[0.4444444444444444,\"#bd3786\"],[0.5555555555555556,\"#d8576b\"],[0.6666666666666666,\"#ed7953\"],[0.7777777777777778,\"#fb9f3a\"],[0.8888888888888888,\"#fdca26\"],[1.0,\"#f0f921\"]]}],\"heatmapgl\":[{\"type\":\"heatmapgl\",\"colorbar\":{\"outlinewidth\":0,\"ticks\":\"\"},\"colorscale\":[[0.0,\"#0d0887\"],[0.1111111111111111,\"#46039f\"],[0.2222222222222222,\"#7201a8\"],[0.3333333333333333,\"#9c179e\"],[0.4444444444444444,\"#bd3786\"],[0.5555555555555556,\"#d8576b\"],[0.6666666666666666,\"#ed7953\"],[0.7777777777777778,\"#fb9f3a\"],[0.8888888888888888,\"#fdca26\"],[1.0,\"#f0f921\"]]}],\"contourcarpet\":[{\"type\":\"contourcarpet\",\"colorbar\":{\"outlinewidth\":0,\"ticks\":\"\"}}],\"contour\":[{\"type\":\"contour\",\"colorbar\":{\"outlinewidth\":0,\"ticks\":\"\"},\"colorscale\":[[0.0,\"#0d0887\"],[0.1111111111111111,\"#46039f\"],[0.2222222222222222,\"#7201a8\"],[0.3333333333333333,\"#9c179e\"],[0.4444444444444444,\"#bd3786\"],[0.5555555555555556,\"#d8576b\"],[0.6666666666666666,\"#ed7953\"],[0.7777777777777778,\"#fb9f3a\"],[0.8888888888888888,\"#fdca26\"],[1.0,\"#f0f921\"]]}],\"surface\":[{\"type\":\"surface\",\"colorbar\":{\"outlinewidth\":0,\"ticks\":\"\"},\"colorscale\":[[0.0,\"#0d0887\"],[0.1111111111111111,\"#46039f\"],[0.2222222222222222,\"#7201a8\"],[0.3333333333333333,\"#9c179e\"],[0.4444444444444444,\"#bd3786\"],[0.5555555555555556,\"#d8576b\"],[0.6666666666666666,\"#ed7953\"],[0.7777777777777778,\"#fb9f3a\"],[0.8888888888888888,\"#fdca26\"],[1.0,\"#f0f921\"]]}],\"mesh3d\":[{\"type\":\"mesh3d\",\"colorbar\":{\"outlinewidth\":0,\"ticks\":\"\"}}],\"scatter\":[{\"fillpattern\":{\"fillmode\":\"overlay\",\"size\":10,\"solidity\":0.2},\"type\":\"scatter\"}],\"parcoords\":[{\"type\":\"parcoords\",\"line\":{\"colorbar\":{\"outlinewidth\":0,\"ticks\":\"\"}}}],\"scatterpolargl\":[{\"type\":\"scatterpolargl\",\"marker\":{\"colorbar\":{\"outlinewidth\":0,\"ticks\":\"\"}}}],\"bar\":[{\"error_x\":{\"color\":\"#2a3f5f\"},\"error_y\":{\"color\":\"#2a3f5f\"},\"marker\":{\"line\":{\"color\":\"#E5ECF6\",\"width\":0.5},\"pattern\":{\"fillmode\":\"overlay\",\"size\":10,\"solidity\":0.2}},\"type\":\"bar\"}],\"scattergeo\":[{\"type\":\"scattergeo\",\"marker\":{\"colorbar\":{\"outlinewidth\":0,\"ticks\":\"\"}}}],\"scatterpolar\":[{\"type\":\"scatterpolar\",\"marker\":{\"colorbar\":{\"outlinewidth\":0,\"ticks\":\"\"}}}],\"histogram\":[{\"marker\":{\"pattern\":{\"fillmode\":\"overlay\",\"size\":10,\"solidity\":0.2}},\"type\":\"histogram\"}],\"scattergl\":[{\"type\":\"scattergl\",\"marker\":{\"colorbar\":{\"outlinewidth\":0,\"ticks\":\"\"}}}],\"scatter3d\":[{\"type\":\"scatter3d\",\"line\":{\"colorbar\":{\"outlinewidth\":0,\"ticks\":\"\"}},\"marker\":{\"colorbar\":{\"outlinewidth\":0,\"ticks\":\"\"}}}],\"scattermapbox\":[{\"type\":\"scattermapbox\",\"marker\":{\"colorbar\":{\"outlinewidth\":0,\"ticks\":\"\"}}}],\"scatterternary\":[{\"type\":\"scatterternary\",\"marker\":{\"colorbar\":{\"outlinewidth\":0,\"ticks\":\"\"}}}],\"scattercarpet\":[{\"type\":\"scattercarpet\",\"marker\":{\"colorbar\":{\"outlinewidth\":0,\"ticks\":\"\"}}}],\"carpet\":[{\"aaxis\":{\"endlinecolor\":\"#2a3f5f\",\"gridcolor\":\"white\",\"linecolor\":\"white\",\"minorgridcolor\":\"white\",\"startlinecolor\":\"#2a3f5f\"},\"baxis\":{\"endlinecolor\":\"#2a3f5f\",\"gridcolor\":\"white\",\"linecolor\":\"white\",\"minorgridcolor\":\"white\",\"startlinecolor\":\"#2a3f5f\"},\"type\":\"carpet\"}],\"table\":[{\"cells\":{\"fill\":{\"color\":\"#EBF0F8\"},\"line\":{\"color\":\"white\"}},\"header\":{\"fill\":{\"color\":\"#C8D4E3\"},\"line\":{\"color\":\"white\"}},\"type\":\"table\"}],\"barpolar\":[{\"marker\":{\"line\":{\"color\":\"#E5ECF6\",\"width\":0.5},\"pattern\":{\"fillmode\":\"overlay\",\"size\":10,\"solidity\":0.2}},\"type\":\"barpolar\"}],\"pie\":[{\"automargin\":true,\"type\":\"pie\"}]},\"layout\":{\"autotypenumbers\":\"strict\",\"colorway\":[\"#636efa\",\"#EF553B\",\"#00cc96\",\"#ab63fa\",\"#FFA15A\",\"#19d3f3\",\"#FF6692\",\"#B6E880\",\"#FF97FF\",\"#FECB52\"],\"font\":{\"color\":\"#2a3f5f\"},\"hovermode\":\"closest\",\"hoverlabel\":{\"align\":\"left\"},\"paper_bgcolor\":\"white\",\"plot_bgcolor\":\"#E5ECF6\",\"polar\":{\"bgcolor\":\"#E5ECF6\",\"angularaxis\":{\"gridcolor\":\"white\",\"linecolor\":\"white\",\"ticks\":\"\"},\"radialaxis\":{\"gridcolor\":\"white\",\"linecolor\":\"white\",\"ticks\":\"\"}},\"ternary\":{\"bgcolor\":\"#E5ECF6\",\"aaxis\":{\"gridcolor\":\"white\",\"linecolor\":\"white\",\"ticks\":\"\"},\"baxis\":{\"gridcolor\":\"white\",\"linecolor\":\"white\",\"ticks\":\"\"},\"caxis\":{\"gridcolor\":\"white\",\"linecolor\":\"white\",\"ticks\":\"\"}},\"coloraxis\":{\"colorbar\":{\"outlinewidth\":0,\"ticks\":\"\"}},\"colorscale\":{\"sequential\":[[0.0,\"#0d0887\"],[0.1111111111111111,\"#46039f\"],[0.2222222222222222,\"#7201a8\"],[0.3333333333333333,\"#9c179e\"],[0.4444444444444444,\"#bd3786\"],[0.5555555555555556,\"#d8576b\"],[0.6666666666666666,\"#ed7953\"],[0.7777777777777778,\"#fb9f3a\"],[0.8888888888888888,\"#fdca26\"],[1.0,\"#f0f921\"]],\"sequentialminus\":[[0.0,\"#0d0887\"],[0.1111111111111111,\"#46039f\"],[0.2222222222222222,\"#7201a8\"],[0.3333333333333333,\"#9c179e\"],[0.4444444444444444,\"#bd3786\"],[0.5555555555555556,\"#d8576b\"],[0.6666666666666666,\"#ed7953\"],[0.7777777777777778,\"#fb9f3a\"],[0.8888888888888888,\"#fdca26\"],[1.0,\"#f0f921\"]],\"diverging\":[[0,\"#8e0152\"],[0.1,\"#c51b7d\"],[0.2,\"#de77ae\"],[0.3,\"#f1b6da\"],[0.4,\"#fde0ef\"],[0.5,\"#f7f7f7\"],[0.6,\"#e6f5d0\"],[0.7,\"#b8e186\"],[0.8,\"#7fbc41\"],[0.9,\"#4d9221\"],[1,\"#276419\"]]},\"xaxis\":{\"gridcolor\":\"white\",\"linecolor\":\"white\",\"ticks\":\"\",\"title\":{\"standoff\":15},\"zerolinecolor\":\"white\",\"automargin\":true,\"zerolinewidth\":2},\"yaxis\":{\"gridcolor\":\"white\",\"linecolor\":\"white\",\"ticks\":\"\",\"title\":{\"standoff\":15},\"zerolinecolor\":\"white\",\"automargin\":true,\"zerolinewidth\":2},\"scene\":{\"xaxis\":{\"backgroundcolor\":\"#E5ECF6\",\"gridcolor\":\"white\",\"linecolor\":\"white\",\"showbackground\":true,\"ticks\":\"\",\"zerolinecolor\":\"white\",\"gridwidth\":2},\"yaxis\":{\"backgroundcolor\":\"#E5ECF6\",\"gridcolor\":\"white\",\"linecolor\":\"white\",\"showbackground\":true,\"ticks\":\"\",\"zerolinecolor\":\"white\",\"gridwidth\":2},\"zaxis\":{\"backgroundcolor\":\"#E5ECF6\",\"gridcolor\":\"white\",\"linecolor\":\"white\",\"showbackground\":true,\"ticks\":\"\",\"zerolinecolor\":\"white\",\"gridwidth\":2}},\"shapedefaults\":{\"line\":{\"color\":\"#2a3f5f\"}},\"annotationdefaults\":{\"arrowcolor\":\"#2a3f5f\",\"arrowhead\":0,\"arrowwidth\":1},\"geo\":{\"bgcolor\":\"white\",\"landcolor\":\"#E5ECF6\",\"subunitcolor\":\"white\",\"showland\":true,\"showlakes\":true,\"lakecolor\":\"white\"},\"title\":{\"x\":0.05},\"mapbox\":{\"style\":\"light\"}}},\"xaxis\":{\"anchor\":\"y\",\"domain\":[0.0,1.0],\"scaleanchor\":\"y\",\"constrain\":\"domain\",\"title\":{\"text\":\"Predicted Value\"},\"tickvals\":[\"\",\"0\",\"\",\"1\",\"\"]},\"yaxis\":{\"anchor\":\"x\",\"domain\":[0.0,1.0],\"autorange\":\"reversed\",\"constrain\":\"domain\",\"title\":{\"text\":\"True Value\"},\"tickvals\":[\"\",\"0\",\"\",\"1\",\"\"]},\"coloraxis\":{\"colorscale\":[[0.0,\"rgb(5,48,97)\"],[0.1,\"rgb(33,102,172)\"],[0.2,\"rgb(67,147,195)\"],[0.3,\"rgb(146,197,222)\"],[0.4,\"rgb(209,229,240)\"],[0.5,\"rgb(247,247,247)\"],[0.6,\"rgb(253,219,199)\"],[0.7,\"rgb(244,165,130)\"],[0.8,\"rgb(214,96,77)\"],[0.9,\"rgb(178,24,43)\"],[1.0,\"rgb(103,0,31)\"]]},\"margin\":{\"t\":60}},                        {\"responsive\": true}                    ).then(function(){\n",
              "                            \n",
              "var gd = document.getElementById('57b102ef-7a62-44a0-8180-f0609272f4c6');\n",
              "var x = new MutationObserver(function (mutations, observer) {{\n",
              "        var display = window.getComputedStyle(gd).display;\n",
              "        if (!display || display === 'none') {{\n",
              "            console.log([gd, 'removed!']);\n",
              "            Plotly.purge(gd);\n",
              "            observer.disconnect();\n",
              "        }}\n",
              "}});\n",
              "\n",
              "// Listen for the removal of the full notebook cells\n",
              "var notebookContainer = gd.closest('#notebook-container');\n",
              "if (notebookContainer) {{\n",
              "    x.observe(notebookContainer, {childList: true});\n",
              "}}\n",
              "\n",
              "// Listen for the clearing of the current output cell\n",
              "var outputEl = gd.closest('.output');\n",
              "if (outputEl) {{\n",
              "    x.observe(outputEl, {childList: true});\n",
              "}}\n",
              "\n",
              "                        })                };                            </script>        </div>\n",
              "</body>\n",
              "</html>"
            ]
          },
          "metadata": {}
        },
        {
          "output_type": "stream",
          "name": "stdout",
          "text": [
            "F1 Score: 83.57%\n"
          ]
        }
      ]
    },
    {
      "cell_type": "code",
      "source": [],
      "metadata": {
        "id": "JhA9Exxhm0Al"
      },
      "execution_count": null,
      "outputs": []
    }
  ]
}