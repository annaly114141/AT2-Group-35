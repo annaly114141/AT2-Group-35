{
 "cells": [
  {
   "cell_type": "code",
   "execution_count": null,
   "metadata": {},
   "outputs": [],
   "source": []
  },
  {
   "cell_type": "code",
   "execution_count": null,
   "metadata": {},
   "outputs": [],
   "source": [
    "import nltk\n",
    "nltk.download('punkt')\n",
    "nltk.download('wordnet')\n",
    "import string\n",
    "from nltk import word_tokenize\n",
    "from nltk.stem import WordNetLemmatizer\n",
    "from sklearn.feature_extraction.text import CountVectorizer\n",
    "from sklearn.feature_extraction.text import TfidfVectorizer\n",
    "from sklearn.metrics.pairwise import cosine_similarity \n",
    "import pandas as pd\n",
    "import numpy as np\n",
    "import glob\n",
    "import os\n",
    "from sklearn.feature_extraction.text import CountVectorizer, TfidfVectorizer, ENGLISH_STOP_WORDS \n",
    "from nltk import word_tokenize\n",
    "from nltk.tokenize import sent_tokenize\n",
    "from nltk.stem import PorterStemmer, WordNetLemmatizer\n",
    "import nltk\n",
    "nltk.download('punkt')\n",
    "import string\n",
    "from nltk.tokenize import sent_tokenize\n",
    "df = pd.read_csv(\"Reviews.csv\")\n",
    "df"
   ]
  },
  {
   "cell_type": "code",
   "execution_count": null,
   "metadata": {},
   "outputs": [],
   "source": [
    "\n",
    "\n",
    "words = df['Text'].to_string()\n",
    "\n",
    "#tokenized_words=word_tokenize(text_lower)\n",
    "\n",
    "# lemmatizing words based on contexts and usage of words in sentences\n",
    "lemmar = WordNetLemmatizer()\n",
    "def LemTokens(tokens):\n",
    "    return [lemmar.lemmatize(token) for token in tokens]\n",
    "\n",
    "\n",
    "# Removing punctuations, which contain '?', '' and '!'\n",
    "punctuations= dict((ord(punctuation), None) for punctuation in string.punctuation)\n",
    "\n",
    "\n",
    "#filtered_tokens_final=[]\n",
    "#for i in filtered_tokens:\n",
    "    #if i not in punctuations:\n",
    "        #filtered_tokens_final.append(i)\n",
    "\n",
    "def filtered_token_final(text):\n",
    "  text_lower = text.lower().translate(punctuations) # converting text into lower case and removing punctuations\n",
    "  tokenized_words=word_tokenize(text_lower) # tokenizing words\n",
    "  return LemTokens(tokenized_words) # Lemmatizing tokenzied words\n",
    "\n",
    "tfidf_vectorizer = TfidfVectorizer(stop_words='english' , ngram_range=(1,2), \n",
    "                             tokenizer = filtered_token_final, min_df=0.05, max_df=0.85)\n",
    "\n",
    "# TfidfVectorizer\n",
    "feature_vect = tfidf_vectorizer.fit_transform(df['Text'])"
   ]
  },
  {
   "cell_type": "code",
   "execution_count": null,
   "metadata": {},
   "outputs": [],
   "source": []
  },
  {
   "cell_type": "code",
   "execution_count": null,
   "metadata": {},
   "outputs": [],
   "source": []
  },
  {
   "cell_type": "code",
   "execution_count": null,
   "metadata": {},
   "outputs": [],
   "source": []
  }
 ],
 "metadata": {
  "kernelspec": {
   "display_name": "Python 3",
   "language": "python",
   "name": "python3"
  },
  "language_info": {
   "name": "python",
   "version": "3.11.1"
  },
  "orig_nbformat": 4
 },
 "nbformat": 4,
 "nbformat_minor": 2
}
